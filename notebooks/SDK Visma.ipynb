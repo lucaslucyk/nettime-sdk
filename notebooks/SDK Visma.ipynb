{
 "cells": [
  {
   "cell_type": "markdown",
   "metadata": {},
   "source": [
    "# visma-sdk\n",
    "sdk for Visma"
   ]
  },
  {
   "cell_type": "markdown",
   "metadata": {},
   "source": [
    "### Add src folder to path"
   ]
  },
  {
   "cell_type": "code",
   "execution_count": 3,
   "metadata": {},
   "outputs": [],
   "source": [
    "import sys, os\n",
    "sys.path.append(os.path.join(os.getcwd(), '..', 'src'))"
   ]
  },
  {
   "cell_type": "markdown",
   "metadata": {},
   "source": [
    "### Import module"
   ]
  },
  {
   "cell_type": "code",
   "execution_count": 6,
   "metadata": {},
   "outputs": [],
   "source": [
    "import visma\n",
    "from importlib import reload"
   ]
  },
  {
   "cell_type": "markdown",
   "metadata": {},
   "source": [
    "### Client settings"
   ]
  },
  {
   "cell_type": "code",
   "execution_count": 7,
   "metadata": {},
   "outputs": [],
   "source": [
    "URL = 'https://webapi.rhpro.com'\n",
    "USERNAME = 'wapipglencore'\n",
    "PWD = 'LsC#zCoXdU$MMvE'"
   ]
  },
  {
   "cell_type": "markdown",
   "metadata": {},
   "source": [
    "### Create a Visma WebAPI client"
   ]
  },
  {
   "cell_type": "code",
   "execution_count": 88,
   "metadata": {},
   "outputs": [
    {
     "data": {
      "text/plain": [
       "True"
      ]
     },
     "execution_count": 88,
     "metadata": {},
     "output_type": "execute_result"
    }
   ],
   "source": [
    "reload(visma) # for reaload changes only\n",
    "client = visma.Client(url=URL, username=USERNAME, pwd=PWD)\n",
    "client.is_connected"
   ]
  },
  {
   "cell_type": "markdown",
   "metadata": {},
   "source": [
    "### Get employees with summary method"
   ]
  },
  {
   "cell_type": "code",
   "execution_count": 85,
   "metadata": {},
   "outputs": [
    {
     "data": {
      "text/plain": [
       "{'totalCount': 3553,\n",
       " 'values': [{'dateOfBirth': '1947-07-23',\n",
       "   'externalId': '30',\n",
       "   'familyName': '',\n",
       "   'firstName': 'MIGUEL ANGEL',\n",
       "   'imageUrl': None,\n",
       "   'lastName': 'MAYOR',\n",
       "   'middleName': '',\n",
       "   'isActive': False,\n",
       "   'hiringDate': '1964-12-07',\n",
       "   'id': 6406},\n",
       "  {'dateOfBirth': '1949-11-22',\n",
       "   'externalId': '1377',\n",
       "   'familyName': ' ',\n",
       "   'firstName': 'JOSE LEONEL',\n",
       "   'imageUrl': None,\n",
       "   'lastName': 'HERNANDEZ MUÑOZ',\n",
       "   'middleName': ' ',\n",
       "   'isActive': True,\n",
       "   'hiringDate': '1995-09-01',\n",
       "   'id': 6407},\n",
       "  {'dateOfBirth': '1956-08-01',\n",
       "   'externalId': '1442',\n",
       "   'familyName': ' ',\n",
       "   'firstName': 'ISMAEL ANGEL',\n",
       "   'imageUrl': None,\n",
       "   'lastName': 'WALPERT',\n",
       "   'middleName': ' ',\n",
       "   'isActive': False,\n",
       "   'hiringDate': '1996-11-29',\n",
       "   'id': 6408},\n",
       "  {'dateOfBirth': '1955-08-22',\n",
       "   'externalId': '1440',\n",
       "   'familyName': ' ',\n",
       "   'firstName': 'RAMON JUSTO',\n",
       "   'imageUrl': None,\n",
       "   'lastName': 'GOMEZ',\n",
       "   'middleName': ' ',\n",
       "   'isActive': False,\n",
       "   'hiringDate': '1996-11-29',\n",
       "   'id': 6409},\n",
       "  {'dateOfBirth': '1961-01-06',\n",
       "   'externalId': '182',\n",
       "   'familyName': ' ',\n",
       "   'firstName': 'JULIO CESAR',\n",
       "   'imageUrl': None,\n",
       "   'lastName': 'FUNK',\n",
       "   'middleName': ' ',\n",
       "   'isActive': False,\n",
       "   'hiringDate': '1978-09-25',\n",
       "   'id': 6410}]}"
      ]
     },
     "execution_count": 85,
     "metadata": {},
     "output_type": "execute_result"
    }
   ],
   "source": [
    "client.get_employees()"
   ]
  },
  {
   "cell_type": "markdown",
   "metadata": {},
   "source": [
    "#### Get employees with optional parameters"
   ]
  },
  {
   "cell_type": "markdown",
   "metadata": {},
   "source": [
    "##### Compare use of internal an external id"
   ]
  },
  {
   "cell_type": "code",
   "execution_count": 115,
   "metadata": {},
   "outputs": [
    {
     "data": {
      "text/plain": [
       "{'totalCount': 861,\n",
       " 'values': [{'dateOfBirth': '1993-02-08',\n",
       "   'externalId': '4051',\n",
       "   'familyName': '',\n",
       "   'firstName': 'GONZALO VICTOR',\n",
       "   'imageUrl': None,\n",
       "   'lastName': 'DAYBIS',\n",
       "   'middleName': '',\n",
       "   'isActive': True,\n",
       "   'hiringDate': '2020-08-20',\n",
       "   'id': 15596},\n",
       "  {'dateOfBirth': '1989-10-10',\n",
       "   'externalId': '4048',\n",
       "   'familyName': ' ',\n",
       "   'firstName': 'MARCOS ALFREDO',\n",
       "   'imageUrl': None,\n",
       "   'lastName': 'COMBA',\n",
       "   'middleName': ' ',\n",
       "   'isActive': True,\n",
       "   'hiringDate': '2020-08-18',\n",
       "   'id': 15590},\n",
       "  {'dateOfBirth': '1991-07-11',\n",
       "   'externalId': '4049',\n",
       "   'familyName': '',\n",
       "   'firstName': 'BRIAN',\n",
       "   'imageUrl': None,\n",
       "   'lastName': 'WASINGTHON',\n",
       "   'middleName': '',\n",
       "   'isActive': True,\n",
       "   'hiringDate': '2020-08-18',\n",
       "   'id': 15591},\n",
       "  {'dateOfBirth': '1984-02-06',\n",
       "   'externalId': '4050',\n",
       "   'familyName': ' ',\n",
       "   'firstName': 'CRISANTO FEDERICO',\n",
       "   'imageUrl': None,\n",
       "   'lastName': 'PICON GONZALEZ',\n",
       "   'middleName': ' ',\n",
       "   'isActive': True,\n",
       "   'hiringDate': '2020-08-18',\n",
       "   'id': 15592},\n",
       "  {'dateOfBirth': '1986-02-10',\n",
       "   'externalId': '4047',\n",
       "   'familyName': ' ',\n",
       "   'firstName': 'MARIA FERNANDA',\n",
       "   'imageUrl': None,\n",
       "   'lastName': 'YPA',\n",
       "   'middleName': ' ',\n",
       "   'isActive': True,\n",
       "   'hiringDate': '2020-08-10',\n",
       "   'id': 15587}]}"
      ]
     },
     "execution_count": 115,
     "metadata": {},
     "output_type": "execute_result"
    }
   ],
   "source": [
    "client.get_employees(active=True, orderBy=\"hiringDate-desc\")"
   ]
  },
  {
   "cell_type": "code",
   "execution_count": 126,
   "metadata": {},
   "outputs": [
    {
     "data": {
      "text/plain": [
       "{'countryOfBirth': 'Argentina',\n",
       " 'dateOfCountryEntry': '2020-08-20',\n",
       " 'email': 'gonzalo.daybis@glencore.com',\n",
       " 'fiscalNumbers': [{'number': '23-37235537-9',\n",
       "   'type': {'initials': 'CUIL', 'description': 'CUIL', 'id': 10},\n",
       "   'country': {'description': 'Argentina',\n",
       "    'isDefault': False,\n",
       "    'codeBank': None,\n",
       "    'codeISO': None,\n",
       "    'id': 12},\n",
       "   'emissionDate': None,\n",
       "   'dueDate': None,\n",
       "   'legalPersonality': 'Fisica',\n",
       "   'certifiedInstitution': 'Registro Nacional de las Perso',\n",
       "   'id': 13198}],\n",
       " 'genre': 'Male',\n",
       " 'maritalStatus': {'date': None, 'description': 'SOLTERO/A', 'id': 1},\n",
       " 'nationalIdentificationNumbers': [{'number': '37235537',\n",
       "   'type': {'initials': 'DNI', 'description': 'Doc. Nac. de Identid', 'id': 1},\n",
       "   'country': {'description': 'Argentina',\n",
       "    'isDefault': False,\n",
       "    'codeBank': None,\n",
       "    'codeISO': None,\n",
       "    'id': 12},\n",
       "   'emissionDate': None,\n",
       "   'dueDate': None,\n",
       "   'legalPersonality': 'Fisica',\n",
       "   'certifiedInstitution': 'Registro Nacional de las Perso',\n",
       "   'id': 13197}],\n",
       " 'nationalities': [{'description': 'Argentina',\n",
       "   'isDefault': True,\n",
       "   'externalDescription': 'Argentina',\n",
       "   'externalCode': 'ARG',\n",
       "   'id': 12}],\n",
       " 'nickname': '',\n",
       " 'studyLevel': {'description': 'Univers. En curso', 'id': 8},\n",
       " 'handicapped': False,\n",
       " 'handicapType': None,\n",
       " 'placeOfBirth': None,\n",
       " 'phones': [],\n",
       " 'reportsToExternalId': '2431',\n",
       " 'isActive': True,\n",
       " 'organizationModelId': 1,\n",
       " 'organizationModel': 'Completo',\n",
       " 'hiringDate': '2020-08-20',\n",
       " 'dateOfBirth': '1993-02-08',\n",
       " 'externalId': '4051',\n",
       " 'familyName': '',\n",
       " 'firstName': 'GONZALO VICTOR',\n",
       " 'imageUrl': None,\n",
       " 'lastName': 'DAYBIS',\n",
       " 'middleName': '',\n",
       " 'id': 15596}"
      ]
     },
     "execution_count": 126,
     "metadata": {},
     "output_type": "execute_result"
    }
   ],
   "source": [
    "client.get_employees(employee_id=\"rh-15596\")"
   ]
  },
  {
   "cell_type": "markdown",
   "metadata": {},
   "source": [
    "### Disconnect"
   ]
  },
  {
   "cell_type": "code",
   "execution_count": 127,
   "metadata": {},
   "outputs": [
    {
     "data": {
      "text/plain": [
       "False"
      ]
     },
     "execution_count": 127,
     "metadata": {},
     "output_type": "execute_result"
    }
   ],
   "source": [
    "client.disconnect()\n",
    "client.is_connected"
   ]
  },
  {
   "cell_type": "code",
   "execution_count": 129,
   "metadata": {},
   "outputs": [
    {
     "data": {
      "text/plain": [
       "'2020-08-25'"
      ]
     },
     "execution_count": 129,
     "metadata": {},
     "output_type": "execute_result"
    }
   ],
   "source": []
  },
  {
   "cell_type": "code",
   "execution_count": null,
   "metadata": {},
   "outputs": [],
   "source": []
  },
  {
   "cell_type": "code",
   "execution_count": 84,
   "metadata": {},
   "outputs": [],
   "source": [
    "class FieldDefinition:\n",
    "\n",
    "    def __init__(self, out_name, in_name, steps):\n",
    "        self.out_name = out_name\n",
    "        self.in_name = in_name\n",
    "        self.steps = [self.Step(*step) for step in steps]\n",
    "\n",
    "    def __str__(self):\n",
    "        return repr(self)\n",
    "    \n",
    "    def __repr__(self):\n",
    "        return '{}(out_name=\"{}\", in_name=\"{}\", steps={})'.format(\n",
    "            self.__class__.__name__,\n",
    "            self.out_name,\n",
    "            self.in_name,\n",
    "            self.steps\n",
    "        )\n",
    "\n",
    "    @classmethod\n",
    "    def parse_str(cls, string: str):\n",
    "        \"\"\" Create an object from a format str. \"\"\"\n",
    "        \n",
    "        field_dest, field_def = string.split(\"@\")\n",
    "        orig_steps = field_def.split(\"|\")\n",
    "        field_orig = orig_steps[0]\n",
    "        steps = []\n",
    "\n",
    "        if len(orig_steps) > 1:\n",
    "            steps = orig_steps[1:]\n",
    "\n",
    "        mapping = []\n",
    "        for step in steps:\n",
    "            mapping.append(step.split(':'))\n",
    "\n",
    "        return cls(field_dest, field_orig, mapping)\n",
    "\n",
    "    class Step:\n",
    "        def __init__(self, method: str, parameters: str = None):\n",
    "            self.method = method\n",
    "            self.parameters = parameters\n",
    "\n",
    "        def __str__(self):\n",
    "            return repr(self)\n",
    "\n",
    "        def __repr__(self):\n",
    "            return '{}(method=\"{}\", parameters=\"{}\")'.format(\n",
    "                self.__class__.__name__,\n",
    "                self.method,\n",
    "                self.parameters\n",
    "            )"
   ]
  },
  {
   "cell_type": "code",
   "execution_count": 86,
   "metadata": {},
   "outputs": [
    {
     "data": {
      "text/plain": [
       "FieldDefinition(out_name=\"ss\", in_name=\"fiscalNumbers\", steps=[Step(method=\"get_from_list\", parameters=\"__first__\"), Step(method=\"get_from_dict\", parameters=\"number\")])"
      ]
     },
     "execution_count": 86,
     "metadata": {},
     "output_type": "execute_result"
    }
   ],
   "source": [
    "field_def = FieldDefinition.parse_str(\"ss@fiscalNumbers|get_from_list:__first__|get_from_dict:number\")\n",
    "field_def"
   ]
  },
  {
   "cell_type": "code",
   "execution_count": 87,
   "metadata": {},
   "outputs": [],
   "source": [
    "def tv(*args):\n",
    "    print(args)"
   ]
  },
  {
   "cell_type": "code",
   "execution_count": 90,
   "metadata": {},
   "outputs": [
    {
     "name": "stdout",
     "output_type": "stream",
     "text": [
      "('jaja', 'gg', ' 2as')\n"
     ]
    }
   ],
   "source": [
    "tv(\"jaja\", *\"gg, 2as\".split(\",\"))"
   ]
  },
  {
   "cell_type": "code",
   "execution_count": null,
   "metadata": {},
   "outputs": [],
   "source": []
  }
 ],
 "metadata": {
  "kernelspec": {
   "display_name": "Python 3.8.2 64-bit",
   "language": "python",
   "name": "python38264bit4e4149a56a1f462db0e2e44967667e66"
  },
  "language_info": {
   "codemirror_mode": {
    "name": "ipython",
    "version": 3
   },
   "file_extension": ".py",
   "mimetype": "text/x-python",
   "name": "python",
   "nbconvert_exporter": "python",
   "pygments_lexer": "ipython3",
   "version": "3.8.5"
  }
 },
 "nbformat": 4,
 "nbformat_minor": 4
}
