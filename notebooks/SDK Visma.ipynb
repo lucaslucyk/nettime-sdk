{
 "cells": [
  {
   "cell_type": "markdown",
   "metadata": {},
   "source": [
    "# visma-sdk\n",
    "sdk for Visma"
   ]
  },
  {
   "cell_type": "markdown",
   "metadata": {},
   "source": [
    "### Add src folder to path"
   ]
  },
  {
   "cell_type": "code",
   "execution_count": 7,
   "metadata": {},
   "outputs": [],
   "source": [
    "import sys, os\n",
    "sys.path.append(os.path.join(os.getcwd(), '..', 'spec_utils'))"
   ]
  },
  {
   "cell_type": "markdown",
   "metadata": {},
   "source": [
    "### Import module"
   ]
  },
  {
   "cell_type": "code",
   "execution_count": 8,
   "metadata": {},
   "outputs": [],
   "source": [
    "import visma\n",
    "from importlib import reload\n",
    "import time"
   ]
  },
  {
   "cell_type": "code",
   "execution_count": 13,
   "metadata": {},
   "outputs": [
    {
     "data": {
      "text/plain": [
       "<module 'visma' from 'D:\\\\Documentos\\\\Programming\\\\Python\\\\spec\\\\sdks\\\\notebooks\\\\..\\\\spec_utils\\\\visma.py'>"
      ]
     },
     "execution_count": 13,
     "metadata": {},
     "output_type": "execute_result"
    }
   ],
   "source": [
    "reload(visma)"
   ]
  },
  {
   "cell_type": "markdown",
   "metadata": {},
   "source": [
    "### Client settings"
   ]
  },
  {
   "cell_type": "code",
   "execution_count": 3,
   "metadata": {},
   "outputs": [],
   "source": [
    "URL = 'https://webapi.rhpro.com'\n",
    "USERNAME = 'your-user'\n",
    "PWD = 'your-password'"
   ]
  },
  {
   "cell_type": "markdown",
   "metadata": {},
   "source": [
    "### Create a Visma WebAPI client"
   ]
  },
  {
   "cell_type": "code",
   "execution_count": 18,
   "metadata": {},
   "outputs": [
    {
     "data": {
      "text/plain": [
       "True"
      ]
     },
     "execution_count": 18,
     "metadata": {},
     "output_type": "execute_result"
    }
   ],
   "source": [
    "reload(visma) # for reaload changes only\n",
    "client = visma.Client(url=URL, username=USERNAME, pwd=PWD, tenant_filter=TENANT_FILTER)\n",
    "client.is_connected"
   ]
  },
  {
   "cell_type": "markdown",
   "metadata": {},
   "source": [
    "### Get employees with summary method"
   ]
  },
  {
   "cell_type": "code",
   "execution_count": 11,
   "metadata": {},
   "outputs": [
    {
     "data": {
      "text/plain": [
       "{'totalCount': 3563,\n",
       " 'values': [{'dateOfBirth': '1947-07-23',\n",
       "   'externalId': '30',\n",
       "   'familyName': '',\n",
       "   'firstName': 'MIGUEL ANGEL',\n",
       "   'imageUrl': None,\n",
       "   'lastName': 'MAYOR',\n",
       "   'middleName': '',\n",
       "   'isActive': False,\n",
       "   'hiringDate': '1964-12-07',\n",
       "   'id': 6406},\n",
       "  {'dateOfBirth': '1949-11-22',\n",
       "   'externalId': '1377',\n",
       "   'familyName': ' ',\n",
       "   'firstName': 'JOSE LEONEL',\n",
       "   'imageUrl': None,\n",
       "   'lastName': 'HERNANDEZ MUÑOZ',\n",
       "   'middleName': ' ',\n",
       "   'isActive': True,\n",
       "   'hiringDate': '1995-09-01',\n",
       "   'id': 6407},\n",
       "  {'dateOfBirth': '1956-08-01',\n",
       "   'externalId': '1442',\n",
       "   'familyName': ' ',\n",
       "   'firstName': 'ISMAEL ANGEL',\n",
       "   'imageUrl': None,\n",
       "   'lastName': 'WALPERT',\n",
       "   'middleName': ' ',\n",
       "   'isActive': False,\n",
       "   'hiringDate': '1996-11-29',\n",
       "   'id': 6408},\n",
       "  {'dateOfBirth': '1955-08-22',\n",
       "   'externalId': '1440',\n",
       "   'familyName': ' ',\n",
       "   'firstName': 'RAMON JUSTO',\n",
       "   'imageUrl': None,\n",
       "   'lastName': 'GOMEZ',\n",
       "   'middleName': ' ',\n",
       "   'isActive': False,\n",
       "   'hiringDate': '1996-11-29',\n",
       "   'id': 6409},\n",
       "  {'dateOfBirth': '1961-01-06',\n",
       "   'externalId': '182',\n",
       "   'familyName': ' ',\n",
       "   'firstName': 'JULIO CESAR',\n",
       "   'imageUrl': None,\n",
       "   'lastName': 'FUNK',\n",
       "   'middleName': ' ',\n",
       "   'isActive': False,\n",
       "   'hiringDate': '1978-09-25',\n",
       "   'id': 6410}]}"
      ]
     },
     "execution_count": 11,
     "metadata": {},
     "output_type": "execute_result"
    }
   ],
   "source": [
    "client.get_employees(pageSize=5)"
   ]
  },
  {
   "cell_type": "markdown",
   "metadata": {},
   "source": [
    "#### Get employees with optional parameters"
   ]
  },
  {
   "cell_type": "code",
   "execution_count": 11,
   "metadata": {},
   "outputs": [
    {
     "name": "stdout",
     "output_type": "stream",
     "text": [
      "Getting all employees...\n",
      "Getting detail of employee 15597 ... OK\n",
      "Getting detail of employee 15600 ... OK\n",
      "Getting detail of employee 15596 ... OK\n",
      "Getting detail of employee 15590 ... OK\n",
      "Getting detail of employee 15591 ... OK\n",
      "Getting detail of employee 15592 ... OK\n",
      "Getting detail of employee 15587 ... OK\n",
      "Getting detail of employee 15586 ... OK\n",
      "Getting detail of employee 15581 ... OK\n",
      "Getting detail of employee 15585 ... OK\n",
      "--- 0.44457387924194336 minutes ---\n"
     ]
    }
   ],
   "source": [
    "start_time = time.time()\n",
    "# out employees\n",
    "employees_detail = []\n",
    "print(\"Getting all employees...\")\n",
    "response = client.get_employees(active=True, pageSize=10, orderBy=\"hiringDate-desc\") #, all_pages=True)\n",
    "\n",
    "for result in response.get('values'):\n",
    "    # append response to list of employees\n",
    "    print(\"Getting detail of employee\", result.get(\"id\"), '...', end=' ')\n",
    "    employees_detail.append(\n",
    "        client.get_employees(employee=f'rh-{result.get(\"id\")}')\n",
    "    )\n",
    "    print('OK')\n",
    "print(f\"--- {(time.time() - start_time)/60} minutes ---\")"
   ]
  },
  {
   "cell_type": "markdown",
   "metadata": {},
   "source": [
    "##### Compare use of internal an external id"
   ]
  },
  {
   "cell_type": "code",
   "execution_count": 7,
   "metadata": {
    "scrolled": true
   },
   "outputs": [
    {
     "name": "stdout",
     "output_type": "stream",
     "text": [
      "--- 3.355121374130249 seconds ---\n"
     ]
    },
    {
     "data": {
      "text/plain": [
       "{'totalCount': 2,\n",
       " 'values': [{'dateOfBirth': '1962-09-11',\n",
       "   'externalId': '1884',\n",
       "   'familyName': ' ',\n",
       "   'firstName': 'JULIO CESAR',\n",
       "   'imageUrl': None,\n",
       "   'lastName': 'PETON',\n",
       "   'middleName': ' ',\n",
       "   'isActive': True,\n",
       "   'hiringDate': '2003-04-01',\n",
       "   'id': 7407},\n",
       "  {'dateOfBirth': '1974-03-16',\n",
       "   'externalId': '3917',\n",
       "   'familyName': ' ',\n",
       "   'firstName': 'ALINA',\n",
       "   'imageUrl': None,\n",
       "   'lastName': 'HANSEN',\n",
       "   'middleName': ' ',\n",
       "   'isActive': True,\n",
       "   'hiringDate': '2019-01-01',\n",
       "   'id': 14353}]}"
      ]
     },
     "execution_count": 7,
     "metadata": {},
     "output_type": "execute_result"
    }
   ],
   "source": [
    "start_time = time.time()\n",
    "structure = client.get_employees(employee='2020-11-30 11:55:00')\n",
    "print(\"--- %s seconds ---\" % (time.time() - start_time))\n",
    "structure"
   ]
  },
  {
   "cell_type": "markdown",
   "metadata": {},
   "source": [
    "### Disconnect"
   ]
  },
  {
   "cell_type": "code",
   "execution_count": 21,
   "metadata": {},
   "outputs": [
    {
     "data": {
      "text/plain": [
       "False"
      ]
     },
     "execution_count": 21,
     "metadata": {},
     "output_type": "execute_result"
    }
   ],
   "source": [
    "client.disconnect()\n",
    "client.is_connected"
   ]
  },
  {
   "cell_type": "code",
   "execution_count": null,
   "metadata": {},
   "outputs": [],
   "source": []
  }
 ],
 "metadata": {
  "kernelspec": {
   "display_name": "Python 3.8.2 64-bit",
   "language": "python",
   "name": "python38264bit4e4149a56a1f462db0e2e44967667e66"
  },
  "language_info": {
   "codemirror_mode": {
    "name": "ipython",
    "version": 3
   },
   "file_extension": ".py",
   "mimetype": "text/x-python",
   "name": "python",
   "nbconvert_exporter": "python",
   "pygments_lexer": "ipython3",
   "version": "3.8.5"
  }
 },
 "nbformat": 4,
 "nbformat_minor": 4
}
