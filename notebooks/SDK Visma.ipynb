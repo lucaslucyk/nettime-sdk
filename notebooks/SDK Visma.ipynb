{
 "cells": [
  {
   "cell_type": "markdown",
   "metadata": {},
   "source": [
    "# visma-sdk\n",
    "sdk for Visma"
   ]
  },
  {
   "cell_type": "markdown",
   "metadata": {},
   "source": [
    "### Add src folder to path"
   ]
  },
  {
   "cell_type": "code",
   "execution_count": 1,
   "metadata": {},
   "outputs": [],
   "source": [
    "import sys, os\n",
    "sys.path.append(os.path.join(os.getcwd(), '..', 'spec_utils'))"
   ]
  },
  {
   "cell_type": "markdown",
   "metadata": {},
   "source": [
    "### Import module"
   ]
  },
  {
   "cell_type": "code",
   "execution_count": 2,
   "metadata": {},
   "outputs": [],
   "source": [
    "import visma\n",
    "from importlib import reload\n",
    "import time"
   ]
  },
  {
   "cell_type": "markdown",
   "metadata": {},
   "source": [
    "### Client settings"
   ]
  },
  {
   "cell_type": "code",
   "execution_count": 3,
   "metadata": {},
   "outputs": [],
   "source": [
    "URL = 'https://webapi.rhpro.com'\n",
    "USERNAME = 'wapipglencore'\n",
    "PWD = 'LsC#zCoXdU$MMvE'\n",
    "\n",
    "#U: wapipglencore.\n",
    "\n",
    "#P:LsC#zCoXdU$MMvE"
   ]
  },
  {
   "cell_type": "markdown",
   "metadata": {},
   "source": [
    "### Create a Visma WebAPI client"
   ]
  },
  {
   "cell_type": "code",
   "execution_count": 4,
   "metadata": {},
   "outputs": [
    {
     "data": {
      "text/plain": [
       "True"
      ]
     },
     "execution_count": 4,
     "metadata": {},
     "output_type": "execute_result"
    }
   ],
   "source": [
    "reload(visma) # for reaload changes only\n",
    "client = visma.Client(url=URL, username=USERNAME, pwd=PWD)\n",
    "client.is_connected"
   ]
  },
  {
   "cell_type": "markdown",
   "metadata": {},
   "source": [
    "### Get employees with summary method"
   ]
  },
  {
   "cell_type": "code",
   "execution_count": 20,
   "metadata": {},
   "outputs": [
    {
     "data": {
      "text/plain": [
       "{'totalCount': 5,\n",
       " 'values': [{'dateOfBirth': '1965-09-29',\n",
       "   'externalId': '1048',\n",
       "   'familyName': ' ',\n",
       "   'firstName': ' JUAN CARLOS',\n",
       "   'imageUrl': None,\n",
       "   'lastName': 'MARIN',\n",
       "   'middleName': ' ',\n",
       "   'isActive': True,\n",
       "   'hiringDate': '1989-02-20',\n",
       "   'id': 7292},\n",
       "  {'dateOfBirth': '1990-12-17',\n",
       "   'externalId': '3776',\n",
       "   'familyName': '',\n",
       "   'firstName': 'DENIS EXEQUIEL',\n",
       "   'imageUrl': None,\n",
       "   'lastName': 'MAGE',\n",
       "   'middleName': '',\n",
       "   'isActive': True,\n",
       "   'hiringDate': '2017-06-19',\n",
       "   'id': 14120},\n",
       "  {'dateOfBirth': '1997-08-08',\n",
       "   'externalId': '3893',\n",
       "   'familyName': '',\n",
       "   'firstName': 'AGOSTINA',\n",
       "   'imageUrl': None,\n",
       "   'lastName': 'GINZBURG',\n",
       "   'middleName': '',\n",
       "   'isActive': True,\n",
       "   'hiringDate': '2018-10-01',\n",
       "   'id': 14301},\n",
       "  {'dateOfBirth': '1992-06-18',\n",
       "   'externalId': '3908',\n",
       "   'familyName': '',\n",
       "   'firstName': 'ESTEBAN ALBERTO',\n",
       "   'imageUrl': None,\n",
       "   'lastName': 'MONTENEGRO',\n",
       "   'middleName': '',\n",
       "   'isActive': False,\n",
       "   'hiringDate': '2018-11-20',\n",
       "   'id': 14334},\n",
       "  {'dateOfBirth': '1993-01-19',\n",
       "   'externalId': '4006',\n",
       "   'familyName': '',\n",
       "   'firstName': 'SOLANGE',\n",
       "   'imageUrl': None,\n",
       "   'lastName': 'OVIEDO ELIZALDE',\n",
       "   'middleName': '',\n",
       "   'isActive': True,\n",
       "   'hiringDate': '2020-02-03',\n",
       "   'id': 15515}]}"
      ]
     },
     "execution_count": 20,
     "metadata": {},
     "output_type": "execute_result"
    }
   ],
   "source": [
    "client.get_employees()"
   ]
  },
  {
   "cell_type": "markdown",
   "metadata": {},
   "source": [
    "#### Get employees with optional parameters"
   ]
  },
  {
   "cell_type": "code",
   "execution_count": 11,
   "metadata": {},
   "outputs": [
    {
     "name": "stdout",
     "output_type": "stream",
     "text": [
      "Getting all employees...\n",
      "Getting detail of employee 15597 ... OK\n",
      "Getting detail of employee 15600 ... OK\n",
      "Getting detail of employee 15596 ... OK\n",
      "Getting detail of employee 15590 ... OK\n",
      "Getting detail of employee 15591 ... OK\n",
      "Getting detail of employee 15592 ... OK\n",
      "Getting detail of employee 15587 ... OK\n",
      "Getting detail of employee 15586 ... OK\n",
      "Getting detail of employee 15581 ... OK\n",
      "Getting detail of employee 15585 ... OK\n",
      "--- 0.44457387924194336 minutes ---\n"
     ]
    }
   ],
   "source": [
    "start_time = time.time()\n",
    "# out employees\n",
    "employees_detail = []\n",
    "print(\"Getting all employees...\")\n",
    "response = client.get_employees(active=True, pageSize=10, orderBy=\"hiringDate-desc\") #, all_pages=True)\n",
    "\n",
    "for result in response.get('values'):\n",
    "    # append response to list of employees\n",
    "    print(\"Getting detail of employee\", result.get(\"id\"), '...', end=' ')\n",
    "    employees_detail.append(\n",
    "        client.get_employees(employee=f'rh-{result.get(\"id\")}')\n",
    "    )\n",
    "    print('OK')\n",
    "print(f\"--- {(time.time() - start_time)/60} minutes ---\")"
   ]
  },
  {
   "cell_type": "markdown",
   "metadata": {},
   "source": [
    "##### Compare use of internal an external id"
   ]
  },
  {
   "cell_type": "code",
   "execution_count": 6,
   "metadata": {},
   "outputs": [
    {
     "name": "stdout",
     "output_type": "stream",
     "text": [
      "--- 3.2259156703948975 seconds ---\n"
     ]
    }
   ],
   "source": [
    "start_time = time.time()\n",
    "client.get_employees(employee=\"59\")\n",
    "print(\"--- %s seconds ---\" % (time.time() - start_time))"
   ]
  },
  {
   "cell_type": "markdown",
   "metadata": {},
   "source": [
    "### Disconnect"
   ]
  },
  {
   "cell_type": "code",
   "execution_count": 17,
   "metadata": {},
   "outputs": [
    {
     "data": {
      "text/plain": [
       "False"
      ]
     },
     "execution_count": 17,
     "metadata": {},
     "output_type": "execute_result"
    }
   ],
   "source": [
    "client.disconnect()\n",
    "client.is_connected"
   ]
  },
  {
   "cell_type": "code",
   "execution_count": null,
   "metadata": {},
   "outputs": [],
   "source": []
  }
 ],
 "metadata": {
  "kernelspec": {
   "display_name": "Python 3.8.2 64-bit",
   "language": "python",
   "name": "python38264bit4e4149a56a1f462db0e2e44967667e66"
  },
  "language_info": {
   "codemirror_mode": {
    "name": "ipython",
    "version": 3
   },
   "file_extension": ".py",
   "mimetype": "text/x-python",
   "name": "python",
   "nbconvert_exporter": "python",
   "pygments_lexer": "ipython3",
   "version": "3.8.5"
  }
 },
 "nbformat": 4,
 "nbformat_minor": 4
}
