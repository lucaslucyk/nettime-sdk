{
 "cells": [
  {
   "cell_type": "markdown",
   "metadata": {},
   "source": [
    "### Add src folder to path"
   ]
  },
  {
   "cell_type": "code",
   "execution_count": 12,
   "metadata": {},
   "outputs": [],
   "source": [
    "import sys, os\n",
    "sys.path.append(os.path.join(os.getcwd(), '..', 'src'))"
   ]
  },
  {
   "cell_type": "markdown",
   "metadata": {},
   "source": [
    "### Import module"
   ]
  },
  {
   "cell_type": "code",
   "execution_count": 14,
   "metadata": {},
   "outputs": [],
   "source": [
    "import nettime6 as nt6\n",
    "from importlib import reload"
   ]
  },
  {
   "cell_type": "markdown",
   "metadata": {},
   "source": [
    "### Client settings"
   ]
  },
  {
   "cell_type": "code",
   "execution_count": 15,
   "metadata": {},
   "outputs": [],
   "source": [
    "URL = 'http://172.18.4.57:6091'\n",
    "USERNAME = 'Argentina'\n",
    "PWD = 'Spec@1234'"
   ]
  },
  {
   "cell_type": "markdown",
   "metadata": {},
   "source": [
    "### Create a client"
   ]
  },
  {
   "cell_type": "code",
   "execution_count": 95,
   "metadata": {},
   "outputs": [
    {
     "data": {
      "text/plain": [
       "True"
      ]
     },
     "execution_count": 95,
     "metadata": {},
     "output_type": "execute_result"
    }
   ],
   "source": [
    "reload(nt6) # for reaload changes only\n",
    "client = nt6.Client(url=URL, username=USERNAME, pwd=PWD)\n",
    "client.is_connected"
   ]
  },
  {
   "cell_type": "markdown",
   "metadata": {},
   "source": [
    "### Get employees with summary method"
   ]
  },
  {
   "cell_type": "code",
   "execution_count": 86,
   "metadata": {
    "scrolled": true
   },
   "outputs": [
    {
     "data": {
      "text/plain": [
       "{'total': 1, 'items': [{'id': 8, 'nif': '12345678'}]}"
      ]
     },
     "execution_count": 86,
     "metadata": {},
     "output_type": "execute_result"
    }
   ],
   "source": [
    "client.get_employees()"
   ]
  },
  {
   "cell_type": "markdown",
   "metadata": {},
   "source": [
    "### Filter in response (frontend)"
   ]
  },
  {
   "cell_type": "code",
   "execution_count": 87,
   "metadata": {
    "scrolled": true
   },
   "outputs": [
    {
     "data": {
      "text/plain": [
       "{'total': 1, 'items': [{'id': 8, 'nif': '12345678'}]}"
      ]
     },
     "execution_count": 87,
     "metadata": {},
     "output_type": "execute_result"
    }
   ],
   "source": [
    "client.get_employees(search=\"1234\")"
   ]
  },
  {
   "cell_type": "markdown",
   "metadata": {},
   "source": [
    "### Specify fields"
   ]
  },
  {
   "cell_type": "code",
   "execution_count": 88,
   "metadata": {
    "scrolled": true
   },
   "outputs": [
    {
     "data": {
      "text/plain": [
       "{'total': 1,\n",
       " 'items': [{'nif': '12345678',\n",
       "   'Apellidos_Nombre': 'Spec, Argentina',\n",
       "   'Province': 'CABA',\n",
       "   'birthdate': '1980-01-04T00:00:00.0000000+01:00'}]}"
      ]
     },
     "execution_count": 88,
     "metadata": {},
     "output_type": "execute_result"
    }
   ],
   "source": [
    "query = nt6.Query(fields=[\"nif\", \"Apellidos_Nombre\", \"Province\", \"birthdate\"])\n",
    "client.get_employees(query=query)"
   ]
  },
  {
   "cell_type": "markdown",
   "metadata": {},
   "source": [
    "### Filter in backend with nettime filter"
   ]
  },
  {
   "cell_type": "code",
   "execution_count": 89,
   "metadata": {},
   "outputs": [
    {
     "data": {
      "text/plain": [
       "{'total': 1,\n",
       " 'items': [{'nif': '12345678',\n",
       "   'Apellidos_Nombre': 'Spec, Argentina',\n",
       "   'Province': 'CABA',\n",
       "   'birthdate': '1980-01-04T00:00:00.0000000+01:00'}]}"
      ]
     },
     "execution_count": 89,
     "metadata": {},
     "output_type": "execute_result"
    }
   ],
   "source": [
    "query = nt6.Query(\n",
    "    fields=[\"nif\", \"Apellidos_Nombre\", \"Province\", \"birthdate\"],\n",
    "    filterExp='Contains(this.nif, \"12345678\")'\n",
    ")\n",
    "client.get_employees(query=query)"
   ]
  },
  {
   "cell_type": "markdown",
   "metadata": {},
   "source": [
    "### Fields definition"
   ]
  },
  {
   "cell_type": "code",
   "execution_count": 110,
   "metadata": {},
   "outputs": [
    {
     "name": "stdout",
     "output_type": "stream",
     "text": [
      "Total: 416\n"
     ]
    },
    {
     "data": {
      "text/plain": [
       "[{'id': 30,\n",
       "  'name': 'id',\n",
       "  'displayName': 'Id',\n",
       "  'expr': 'this.id',\n",
       "  'type': 'int',\n",
       "  'align': 2,\n",
       "  'sortable': False,\n",
       "  'width': 0,\n",
       "  'group': '',\n",
       "  'numTempOperators': 0},\n",
       " {'id': 31,\n",
       "  'name': 'name',\n",
       "  'displayName': 'Clave',\n",
       "  'expr': 'this.name',\n",
       "  'type': 'String',\n",
       "  'align': 2,\n",
       "  'sortable': True,\n",
       "  'width': 20,\n",
       "  'group': 'Datos personales',\n",
       "  'numTempOperators': 0}]"
      ]
     },
     "execution_count": 110,
     "metadata": {},
     "output_type": "execute_result"
    }
   ],
   "source": [
    "fields = client.get_fields(\"Persona\")\n",
    "print('Total:', fields.get('total'))\n",
    "fields.get('items')[:2]"
   ]
  },
  {
   "cell_type": "markdown",
   "metadata": {},
   "source": [
    "### Fields definition filtering Properties only"
   ]
  },
  {
   "cell_type": "code",
   "execution_count": 109,
   "metadata": {},
   "outputs": [
    {
     "name": "stdout",
     "output_type": "stream",
     "text": [
      "Total: 409\n"
     ]
    },
    {
     "data": {
      "text/plain": [
       "[{'id': 30,\n",
       "  'name': 'id',\n",
       "  'displayName': 'Id',\n",
       "  'expr': 'this.id',\n",
       "  'type': 'int',\n",
       "  'align': 2,\n",
       "  'sortable': False,\n",
       "  'width': 0,\n",
       "  'group': '',\n",
       "  'numTempOperators': 0},\n",
       " {'id': 31,\n",
       "  'name': 'name',\n",
       "  'displayName': 'Clave',\n",
       "  'expr': 'this.name',\n",
       "  'type': 'String',\n",
       "  'align': 2,\n",
       "  'sortable': True,\n",
       "  'width': 20,\n",
       "  'group': 'Datos personales',\n",
       "  'numTempOperators': 0}]"
      ]
     },
     "execution_count": 109,
     "metadata": {},
     "output_type": "execute_result"
    }
   ],
   "source": [
    "fields_filter = client.get_fields(\"Persona\", filterFields=True)\n",
    "print('Total:', fields_filter.get('total'))\n",
    "fields_filter.get('items')[:2]"
   ]
  },
  {
   "cell_type": "markdown",
   "metadata": {},
   "source": [
    "### Get incidencias, and update employee"
   ]
  },
  {
   "cell_type": "code",
   "execution_count": 72,
   "metadata": {},
   "outputs": [
    {
     "data": {
      "text/plain": [
       "[{'id': 0, 'name': 'Sin incidencia'},\n",
       " {'id': 1, 'name': 'Inc. horas extra'},\n",
       " {'id': 2, 'name': 'Asuntos propios'},\n",
       " {'id': 3, 'name': 'Vacaciones'},\n",
       " {'id': 4, 'name': 'Lactancia 30 minutos'},\n",
       " {'id': 5, 'name': 'Lactancia 1 hora'},\n",
       " {'id': 6, 'name': 'Visita al médico'},\n",
       " {'id': 7, 'name': 'Horas sindicales'},\n",
       " {'id': 8, 'name': 'Accidente laboral'},\n",
       " {'id': 9, 'name': 'Enfermedad'}]"
      ]
     },
     "execution_count": 72,
     "metadata": {},
     "output_type": "execute_result"
    }
   ],
   "source": [
    "nt_incidencias = client.get_elements(\"Incidencia\").get('items')\n",
    "nt_incidencias[:10]"
   ]
  },
  {
   "cell_type": "code",
   "execution_count": 113,
   "metadata": {},
   "outputs": [],
   "source": [
    "incidencias = []\n",
    "for incidencia in nt_incidencias:\n",
    "    incidencias.append({\"id\": incidencia.get(\"id\")})\n",
    "    \n",
    "data = {\n",
    "    \"container\": \"Persona\",\n",
    "    \"elements\": [8],\n",
    "    \"dataObj\": {\n",
    "        \"TimeTypesEmployee\": incidencias\n",
    "    }\n",
    "}\n",
    "\n",
    "client.save_element(**data)"
   ]
  },
  {
   "cell_type": "markdown",
   "metadata": {},
   "source": [
    "##### To add periods, use the key \"validity\" with a list of elements like:\n",
    "```python\n",
    "{\n",
    "    \"id\": incidencia.get(\"id\"),\n",
    "    \"validity\": [{\n",
    "        \"end\": \"2040-12-31T00:00:00-03:00\",\n",
    "        \"start\": \"2004-01-01T00:00:00-03:00\",\n",
    "    }]\n",
    "}\n",
    "```"
   ]
  },
  {
   "cell_type": "markdown",
   "metadata": {},
   "source": [
    "### Get elements definition"
   ]
  },
  {
   "cell_type": "code",
   "execution_count": 94,
   "metadata": {
    "scrolled": true
   },
   "outputs": [
    {
     "data": {
      "text/plain": [
       "{'id': 8,\n",
       " '_c_': '',\n",
       " 'created': '0001-01-01T00:00:00.0000000',\n",
       " 'modified': '0001-01-01T00:00:00.0000000',\n",
       " 'name': '8',\n",
       " 'rev': 0,\n",
       " 'years': [{'Year': 2020, 'days': {}},\n",
       "  {'Year': 2021, 'days': {}},\n",
       "  {'Year': 2019, 'days': {}}],\n",
       " 'Cycles': [],\n",
       " 'Calendars': [{'id': 2,\n",
       "   'name': 'calendar1',\n",
       "   'Validity': [{'start': '2020-01-01T00:00:00.0000000',\n",
       "     'end': '2020-06-30T00:00:00.0000000'}]},\n",
       "  {'id': 5, 'name': 'ARG'}],\n",
       " 'nodesSource': [],\n",
       " 'multiName': {'es-ES': '8'}}"
      ]
     },
     "execution_count": 94,
     "metadata": {},
     "output_type": "execute_result"
    }
   ],
   "source": [
    "employee = client.get_element_def(container=\"Persona\", elements=[8])\n",
    "employee = employee[0]\n",
    "\n",
    "# show calendars\n",
    "employee.get('Calendar')"
   ]
  },
  {
   "cell_type": "markdown",
   "metadata": {},
   "source": [
    "### Get default values in create form"
   ]
  },
  {
   "cell_type": "code",
   "execution_count": 95,
   "metadata": {},
   "outputs": [
    {
     "data": {
      "text/plain": [
       "{'_c_': 'Jornada',\n",
       " 'id': -1,\n",
       " 'modified': '0001-01-01T00:00:00.0000000',\n",
       " 'created': '0001-01-01T00:00:00.0000000',\n",
       " 'color': '808080',\n",
       " 'rev': 0,\n",
       " 'minutosCortesia': 0,\n",
       " 'minutosPenalizacion': 0,\n",
       " 'totalTeorico': 480,\n",
       " 'minutoFinal': 2880,\n",
       " 'minutosRetraso': 0,\n",
       " 'resultados': [],\n",
       " 'multiName': {},\n",
       " 'nodesSource': [],\n",
       " 'incidencias': [],\n",
       " 'baObligada': [],\n",
       " 'baFlexible': [],\n",
       " 'pausas': [],\n",
       " 'intervalSource': [{'data': 'flex', 'label': 'Bloque flexible'},\n",
       "  {'data': 'oblig', 'label': 'Bloque obligatorio'},\n",
       "  {'data': 'all', 'label': 'Toda la jornada'},\n",
       "  {'data': 'bloque', 'label': 'Bloque del grupo de incidencia'},\n",
       "  {'data': 'relative', 'label': 'Relativo a...', 'state': 'relative'},\n",
       "  {'data': 'delete', 'label': 'Sin validez'}],\n",
       " 'ShifttimeTypesMassIdinci': [],\n",
       " 'relativeSource': [{'data': 'inishift', 'label': 'Inicio de la jornada'},\n",
       "  {'data': 'firstflexmin', 'label': 'Inicio bloque flexible'},\n",
       "  {'data': 'firstoblmin', 'label': 'Inicio bloque obligatorio'},\n",
       "  {'data': 'endshift', 'label': 'Final de la jornada'},\n",
       "  {'data': 'endflex', 'label': 'Final bloque flexible'},\n",
       "  {'data': 'endobli', 'label': 'Final bloque obligatorio'}]}"
      ]
     },
     "execution_count": 95,
     "metadata": {},
     "output_type": "execute_result"
    }
   ],
   "source": [
    "client.get_create_form(\"Jornada\")"
   ]
  },
  {
   "cell_type": "markdown",
   "metadata": {},
   "source": [
    "### Get dataObj for duplicate element"
   ]
  },
  {
   "cell_type": "code",
   "execution_count": 101,
   "metadata": {},
   "outputs": [
    {
     "data": {
      "text/plain": [
       "{'_c_': 'Arbol',\n",
       " 'id': -1,\n",
       " 'name': 'ARGENTINA',\n",
       " 'rev': 0,\n",
       " 'createdBy': 'Admin',\n",
       " 'created': '2020-06-29T09:37:18.7470000',\n",
       " 'modified': '0001-01-01T00:00:00.0000000',\n",
       " 'color': '7D7D7D',\n",
       " 'allowedContainerNames': 'Empleados',\n",
       " 'order': 0,\n",
       " 'internalName': 'ARGENTINA',\n",
       " 'idNodeParent': 1,\n",
       " 'baAllowedContainers': [14],\n",
       " 'nodesSource': [],\n",
       " 'nodes': [],\n",
       " 'multiName': {'es-ES': 'ARGENTINA'}}"
      ]
     },
     "execution_count": 101,
     "metadata": {},
     "output_type": "execute_result"
    }
   ],
   "source": [
    "client.get_for_duplicate(container=\"Arbol\", element=9)\n",
    "# edit and then use client.save_element() method"
   ]
  },
  {
   "cell_type": "markdown",
   "metadata": {},
   "source": [
    "### Delete element"
   ]
  },
  {
   "cell_type": "code",
   "execution_count": 26,
   "metadata": {},
   "outputs": [
    {
     "data": {
      "text/plain": [
       "{'total': 1, 'items': [{'id': 28, 'name': 'TEST DELETE'}]}"
      ]
     },
     "execution_count": 26,
     "metadata": {},
     "output_type": "execute_result"
    }
   ],
   "source": [
    "client.get_elements(\"Jornada\", search=\"TEST\")"
   ]
  },
  {
   "cell_type": "code",
   "execution_count": 27,
   "metadata": {
    "scrolled": true
   },
   "outputs": [
    {
     "data": {
      "text/plain": [
       "[{'type': 8,\n",
       "  'id': 'HQAAAAOAAAEACASAAA==',\n",
       "  'rev': 75,\n",
       "  'message': 'Los elementos se han eliminado correctamente.'}]"
      ]
     },
     "execution_count": 27,
     "metadata": {},
     "output_type": "execute_result"
    }
   ],
   "source": [
    "client.delete_element(container=\"Jornada\", elements=[28])"
   ]
  },
  {
   "cell_type": "code",
   "execution_count": 28,
   "metadata": {
    "scrolled": true
   },
   "outputs": [
    {
     "data": {
      "text/plain": [
       "{'total': 0, 'items': []}"
      ]
     },
     "execution_count": 28,
     "metadata": {},
     "output_type": "execute_result"
    }
   ],
   "source": [
    "client.get_elements(\"Jornada\", search=\"TEST\")"
   ]
  },
  {
   "cell_type": "markdown",
   "metadata": {},
   "source": [
    "### Getting day results info"
   ]
  },
  {
   "cell_type": "code",
   "execution_count": 36,
   "metadata": {
    "scrolled": true
   },
   "outputs": [
    {
     "data": {
      "text/plain": [
       "{'idEmp': 8,\n",
       " 'days': [{'date': '2020-07-03T00:00:00.0000000',\n",
       "   'shift': {'date': '2020-07-03T00:00:00.0000000',\n",
       "    'idEmp': 8,\n",
       "    'shift': 20,\n",
       "    'minFin': 2880,\n",
       "    'minFinForced': False,\n",
       "    'shiftPetition': {'actions': ['Change']},\n",
       "    'clockings': [{'id': 21,\n",
       "      'date': '2020-07-03T09:00:00.0000000',\n",
       "      'idElem': 0,\n",
       "      'type': 'timetypes',\n",
       "      'idReader': 0,\n",
       "      'user': 'Argentina',\n",
       "      'ip': '172.18.4.24',\n",
       "      'status': {'effective': True,\n",
       "       'desc': 'Entrando',\n",
       "       'state': '',\n",
       "       'entering': True,\n",
       "       'actions': ['Delete', 'Edit', 'Comment']},\n",
       "      'app': True,\n",
       "      'numDocuments': 0},\n",
       "     {'id': 22,\n",
       "      'date': '2020-07-03T18:00:00.0000000',\n",
       "      'idElem': 0,\n",
       "      'type': 'timetypes',\n",
       "      'idReader': 0,\n",
       "      'user': 'Argentina',\n",
       "      'ip': '172.18.4.24',\n",
       "      'status': {'effective': True,\n",
       "       'desc': 'Saliendo',\n",
       "       'state': '',\n",
       "       'entering': False,\n",
       "       'actions': ['Delete', 'Edit', 'Comment']},\n",
       "      'app': True,\n",
       "      'numDocuments': 0}],\n",
       "    'info': {'Change': 'Cambiar',\n",
       "     'Delete': 'Eliminar',\n",
       "     'Edit': 'Editar',\n",
       "     'Comment': 'Comentar'}},\n",
       "   'results': {'date': '2020-07-03T00:00:00.0000000',\n",
       "    'hasComments': False,\n",
       "    'hasPending': False,\n",
       "    'shift': {'id': 20, 'minutes': {'start': 1980, 'end': 2880}},\n",
       "    'minutesTypes': [{'name': 'Incidencia',\n",
       "      'results': [{'id': 0, 'minutes': [{'start': 1980, 'end': 2520}]}]}]}}],\n",
       " 'taskConfig': 71,\n",
       " 'info': [{'id': 0,\n",
       "   'type': 'Incidencia',\n",
       "   'name': 'Sin incidencia',\n",
       "   'color': '009933'},\n",
       "  {'id': 20, 'type': 'Jornada', 'name': 'ARG 09 a18', 'color': '808080'}]}"
      ]
     },
     "execution_count": 36,
     "metadata": {},
     "output_type": "execute_result"
    }
   ],
   "source": [
    "client.get_day_info(employee=8, _from=\"2020-07-03\", to=\"2020-07-03\")"
   ]
  },
  {
   "cell_type": "markdown",
   "metadata": {},
   "source": [
    "### Get day results"
   ]
  },
  {
   "cell_type": "code",
   "execution_count": 44,
   "metadata": {},
   "outputs": [
    {
     "data": {
      "text/plain": [
       "{'results': [{'date': '2020-07-03T00:00:00.0000000',\n",
       "   'hasComments': False,\n",
       "   'hasPending': False,\n",
       "   'shift': {'id': 20, 'minutes': {'start': 1980, 'end': 2880}},\n",
       "   'minutesTypes': [{'name': 'Lector',\n",
       "     'results': [{'id': -1,\n",
       "       'values': [{'name': 'Min', 'value': 540},\n",
       "        {'name': 'MinDes', 'value': 0},\n",
       "        {'name': 'Evt', 'value': 1},\n",
       "        {'name': 'EvtDes', 'value': 0}]}]},\n",
       "    {'name': 'Incidencia',\n",
       "     'results': [{'id': 0,\n",
       "       'values': [{'name': 'Min', 'value': 540},\n",
       "        {'name': 'MinDes', 'value': 0},\n",
       "        {'name': 'Evt', 'value': 1},\n",
       "        {'name': 'EvtDes', 'value': 0}]}]},\n",
       "    {'name': 'Sistema',\n",
       "     'results': [{'id': 0,\n",
       "       'values': [{'name': 'Min', 'value': 540},\n",
       "        {'name': 'MinDes', 'value': 0},\n",
       "        {'name': 'Evt', 'value': 1},\n",
       "        {'name': 'EvtDes', 'value': 0}]},\n",
       "      {'id': 5,\n",
       "       'values': [{'name': 'Min', 'value': 0},\n",
       "        {'name': 'MinDes', 'value': 0},\n",
       "        {'name': 'Evt', 'value': 0},\n",
       "        {'name': 'EvtDes', 'value': 0}]},\n",
       "      {'id': 6,\n",
       "       'values': [{'name': 'Min', 'value': 540},\n",
       "        {'name': 'MinDes', 'value': 0},\n",
       "        {'name': 'Evt', 'value': 1},\n",
       "        {'name': 'EvtDes', 'value': 0}]},\n",
       "      {'id': 8,\n",
       "       'values': [{'name': 'Min', 'value': 480},\n",
       "        {'name': 'MinDes', 'value': 60},\n",
       "        {'name': 'Evt', 'value': 1},\n",
       "        {'name': 'EvtDes', 'value': 1}]},\n",
       "      {'id': 10,\n",
       "       'values': [{'name': 'Min', 'value': 0},\n",
       "        {'name': 'MinDes', 'value': 0},\n",
       "        {'name': 'Evt', 'value': 0},\n",
       "        {'name': 'EvtDes', 'value': 0}]},\n",
       "      {'id': 11,\n",
       "       'values': [{'name': 'Min', 'value': 480},\n",
       "        {'name': 'MinDes', 'value': 0},\n",
       "        {'name': 'Evt', 'value': 1},\n",
       "        {'name': 'EvtDes', 'value': 0}]},\n",
       "      {'id': 12,\n",
       "       'values': [{'name': 'Min', 'value': 540},\n",
       "        {'name': 'MinDes', 'value': 0},\n",
       "        {'name': 'Evt', 'value': 1},\n",
       "        {'name': 'EvtDes', 'value': 0}]}]},\n",
       "    {'name': 'Anomalia',\n",
       "     'results': [{'id': 0,\n",
       "       'values': [{'name': 'Min', 'value': 0},\n",
       "        {'name': 'MinDes', 'value': 0},\n",
       "        {'name': 'Evt', 'value': 1},\n",
       "        {'name': 'EvtDes', 'value': 0}]}]},\n",
       "    {'name': 'Jornada',\n",
       "     'results': [{'id': 20,\n",
       "       'values': [{'name': 'Min', 'value': 480},\n",
       "        {'name': 'MinDes', 'value': 0},\n",
       "        {'name': 'Evt', 'value': 1},\n",
       "        {'name': 'EvtDes', 'value': 0}]}]},\n",
       "    {'name': 'Aritmetico',\n",
       "     'results': [{'id': 1,\n",
       "       'values': [{'name': 'Value', 'value': 60},\n",
       "        {'name': 'Accumulated', 'value': 60},\n",
       "        {'name': 'Available', 'value': -60},\n",
       "        {'name': 'Discard', 'value': 0}]},\n",
       "      {'id': 2,\n",
       "       'values': [{'name': 'Value', 'value': 60},\n",
       "        {'name': 'Accumulated', 'value': -900},\n",
       "        {'name': 'Available', 'value': 900},\n",
       "        {'name': 'Discard', 'value': 0}]},\n",
       "      {'id': 3,\n",
       "       'values': [{'name': 'Value', 'value': 60},\n",
       "        {'name': 'Accumulated', 'value': -62820},\n",
       "        {'name': 'Available', 'value': 62820},\n",
       "        {'name': 'Discard', 'value': 0}]},\n",
       "      {'id': 4,\n",
       "       'values': [{'name': 'Value', 'value': 0},\n",
       "        {'name': 'Accumulated', 'value': 0},\n",
       "        {'name': 'Available', 'value': 22},\n",
       "        {'name': 'Discard', 'value': 0}]},\n",
       "      {'id': 5,\n",
       "       'values': [{'name': 'Value', 'value': 40},\n",
       "        {'name': 'Accumulated', 'value': 40},\n",
       "        {'name': 'Available', 'value': -40},\n",
       "        {'name': 'Discard', 'value': 0}]},\n",
       "      {'id': 6,\n",
       "       'values': [{'name': 'Value', 'value': 0},\n",
       "        {'name': 'Accumulated', 'value': 0},\n",
       "        {'name': 'Available', 'value': 22},\n",
       "        {'name': 'Discard', 'value': 0}]},\n",
       "      {'id': 7,\n",
       "       'values': [{'name': 'Value', 'value': 0},\n",
       "        {'name': 'Accumulated', 'value': 0},\n",
       "        {'name': 'Available', 'value': 22},\n",
       "        {'name': 'Discard', 'value': 0}]}]}]}],\n",
       " 'info': [{'id': -1, 'type': 'Lector', 'name': 'UNKNOWN', 'color': 'FDFDFD'},\n",
       "  {'id': 0, 'type': 'Incidencia', 'name': 'Sin incidencia', 'color': '009933'},\n",
       "  {'id': 0,\n",
       "   'type': 'Sistema',\n",
       "   'name': 'Productivas en el centro',\n",
       "   'color': '009933'},\n",
       "  {'id': 0, 'type': 'Anomalia', 'name': 'Sin anomalía', 'color': 'EEEEEE'},\n",
       "  {'id': 5,\n",
       "   'type': 'Sistema',\n",
       "   'name': 'Ausencias no justificadas',\n",
       "   'color': 'C83327'},\n",
       "  {'id': 6, 'type': 'Sistema', 'name': 'Productivas', 'color': '3399FF'},\n",
       "  {'id': 8, 'type': 'Sistema', 'name': 'Trabajadas', 'color': '009933'},\n",
       "  {'id': 10, 'type': 'Sistema', 'name': 'Retrasos', 'color': 'CC6600'},\n",
       "  {'id': 11, 'type': 'Sistema', 'name': 'Jornada teórica', 'color': 'FFFFFF'},\n",
       "  {'id': 12, 'type': 'Sistema', 'name': 'Filtro día', 'color': 'FFFFFF'},\n",
       "  {'id': 20, 'type': 'Jornada', 'name': 'ARG 09 a18', 'color': '808080'},\n",
       "  {'id': 1, 'type': 'Aritmetico', 'name': 'Saldo diario', 'color': '0066CC'},\n",
       "  {'id': 2, 'type': 'Aritmetico', 'name': 'Saldo mensual', 'color': 'CC9900'},\n",
       "  {'id': 3, 'type': 'Aritmetico', 'name': 'Saldo anual', 'color': 'FF6600'},\n",
       "  {'id': 4,\n",
       "   'type': 'Aritmetico',\n",
       "   'name': 'Saldo Días Vacaciones',\n",
       "   'color': '007373',\n",
       "   'numeric': True},\n",
       "  {'id': 5,\n",
       "   'type': 'Aritmetico',\n",
       "   'name': 'edad',\n",
       "   'color': '3ef7a4',\n",
       "   'numeric': True},\n",
       "  {'id': 6,\n",
       "   'type': 'Aritmetico',\n",
       "   'name': 'TEST VACACIONES',\n",
       "   'color': '007373',\n",
       "   'numeric': True},\n",
       "  {'id': 7,\n",
       "   'type': 'Aritmetico',\n",
       "   'name': 'Saldo Días Vacaciones 3',\n",
       "   'color': '0000ff',\n",
       "   'numeric': True}]}"
      ]
     },
     "execution_count": 44,
     "metadata": {},
     "output_type": "execute_result"
    }
   ],
   "source": [
    "client.get_results(employee=8, _from=\"2020-07-03\", to=\"2020-07-03\")"
   ]
  },
  {
   "cell_type": "markdown",
   "metadata": {},
   "source": [
    "### Add clocking"
   ]
  },
  {
   "cell_type": "code",
   "execution_count": 96,
   "metadata": {},
   "outputs": [
    {
     "data": {
      "text/plain": [
       "{'ok': True}"
      ]
     },
     "execution_count": 96,
     "metadata": {},
     "output_type": "execute_result"
    }
   ],
   "source": [
    "client.add_clocking(employee=8, date=\"2020-07-02\", time=\"18:30\")"
   ]
  },
  {
   "cell_type": "markdown",
   "metadata": {},
   "source": [
    "### Get day clockings"
   ]
  },
  {
   "cell_type": "code",
   "execution_count": 97,
   "metadata": {
    "scrolled": true
   },
   "outputs": [
    {
     "data": {
      "text/plain": [
       "{'date': '2020-07-02T00:00:00.0000000',\n",
       " 'idEmp': 8,\n",
       " 'shift': 20,\n",
       " 'minFin': 0,\n",
       " 'minFinForced': False,\n",
       " 'shiftPetition': {'actions': ['Change']},\n",
       " 'clockings': [{'id': 85,\n",
       "   'date': '2020-07-02T15:00:00.0000000',\n",
       "   'idElem': 0,\n",
       "   'type': 'timetypes',\n",
       "   'idReader': 0,\n",
       "   'user': 'Argentina',\n",
       "   'ip': '172.18.4.24',\n",
       "   'status': {'effective': True,\n",
       "    'desc': 'Entrando',\n",
       "    'state': '',\n",
       "    'entering': True,\n",
       "    'actions': ['Delete', 'Edit', 'Comment']},\n",
       "   'app': True,\n",
       "   'numDocuments': 0},\n",
       "  {'id': 89,\n",
       "   'date': '2020-07-02T18:30:00.0000000',\n",
       "   'idElem': 0,\n",
       "   'type': 'timetypes',\n",
       "   'idReader': 0,\n",
       "   'user': 'Argentina',\n",
       "   'ip': '172.18.4.24',\n",
       "   'status': {'effective': True,\n",
       "    'desc': 'Saliendo',\n",
       "    'state': '',\n",
       "    'entering': False,\n",
       "    'actions': ['Delete', 'Edit', 'Comment']},\n",
       "   'app': True,\n",
       "   'numDocuments': 0}],\n",
       " 'info': {'Change': 'Cambiar',\n",
       "  'Delete': 'Eliminar',\n",
       "  'Edit': 'Editar',\n",
       "  'Comment': 'Comentar'}}"
      ]
     },
     "execution_count": 97,
     "metadata": {},
     "output_type": "execute_result"
    }
   ],
   "source": [
    "client.get_day_clockings(employee=8, date=\"2020-07-02\")"
   ]
  },
  {
   "cell_type": "markdown",
   "metadata": {},
   "source": [
    "### Edit clocking"
   ]
  },
  {
   "cell_type": "code",
   "execution_count": 98,
   "metadata": {},
   "outputs": [
    {
     "data": {
      "text/plain": [
       "{'ok': True}"
      ]
     },
     "execution_count": 98,
     "metadata": {},
     "output_type": "execute_result"
    }
   ],
   "source": [
    "client.edit_clocking(employee=8, clocking_id=89, date=\"2020-07-02\", time=\"20:30\")"
   ]
  },
  {
   "cell_type": "markdown",
   "metadata": {},
   "source": [
    "### Delete clocking"
   ]
  },
  {
   "cell_type": "code",
   "execution_count": 99,
   "metadata": {},
   "outputs": [
    {
     "data": {
      "text/plain": [
       "{'ok': True}"
      ]
     },
     "execution_count": 99,
     "metadata": {},
     "output_type": "execute_result"
    }
   ],
   "source": [
    "client.delete_clocking(employee=8, clocking_id=89, date=\"2020-07-02\", time=\"18:30\")"
   ]
  },
  {
   "cell_type": "markdown",
   "metadata": {},
   "source": [
    "### Plannings"
   ]
  },
  {
   "cell_type": "code",
   "execution_count": 80,
   "metadata": {},
   "outputs": [],
   "source": [
    "planning = client.get_create_form(\"Persona\", action=\"NewPlanificacion\")\n",
    "planning.update({\n",
    "    \"name\": \"Testing Planning\",\n",
    "    \"allDay\": True,\n",
    "    \"allDayId\": 9, #Timetype ID\n",
    "    \"employee\": [8], #Employee ID\n",
    "    \"dateInterval\": client.get_days_offset([\"2020-10-10\", \"2020-10-11\"]),\n",
    "})\n",
    "# dateInterval is a list of int with differences between setting firstDate\n",
    "# can use get_days_offset() method"
   ]
  },
  {
   "cell_type": "code",
   "execution_count": 78,
   "metadata": {},
   "outputs": [
    {
     "data": {
      "text/plain": [
       "[{'type': 6,\n",
       "  'dataObject': {'id': 6,\n",
       "   '_c_': 'IncidenciaFutura',\n",
       "   'firstDay': '2020-10-10T00:00:00.0000000',\n",
       "   'rev': 54,\n",
       "   'modifiedBy': 'Argentina',\n",
       "   'modified': '2020-07-24T21:14:09.2941556+02:00',\n",
       "   'createdBy': 'Argentina',\n",
       "   'created': '2020-07-24T21:14:09.2631547+02:00',\n",
       "   'allDayId': 9,\n",
       "   'allDay': True,\n",
       "   'selfOwner': False,\n",
       "   'state': '0',\n",
       "   'name': 'Testing Planning',\n",
       "   'comments': '',\n",
       "   'intState': 0,\n",
       "   'isAccepted': True,\n",
       "   'lastDay': '2020-10-11T00:00:00.0000000',\n",
       "   'numDays': 2,\n",
       "   'confirmBy': 'Argentina',\n",
       "   'confirm': '2020-07-24T21:14:09.2781687+02:00',\n",
       "   'describe': '2 días, del 10/10/2020 al 11/10/2020 Todo el día con incidencia Enfermedad',\n",
       "   'hasComment': False,\n",
       "   'error': '',\n",
       "   'stateDescription': 'Aceptada',\n",
       "   'describeTT': 'Enfermedad',\n",
       "   'isPending': False,\n",
       "   'isValidationPending': False,\n",
       "   'isDenied': False,\n",
       "   'totalDocs': 0,\n",
       "   'validatedDays': [],\n",
       "   'dateInterval': [6127, 6128],\n",
       "   'baValidElems': [1,\n",
       "    2,\n",
       "    3,\n",
       "    4,\n",
       "    5,\n",
       "    6,\n",
       "    7,\n",
       "    8,\n",
       "    9,\n",
       "    10,\n",
       "    11,\n",
       "    12,\n",
       "    13,\n",
       "    14,\n",
       "    15,\n",
       "    16,\n",
       "    17,\n",
       "    18,\n",
       "    19,\n",
       "    20,\n",
       "    21,\n",
       "    22,\n",
       "    23,\n",
       "    24],\n",
       "   'timeTypes': [9],\n",
       "   'nodesSource': [],\n",
       "   'employee': 8},\n",
       "  'message': 'El elemento se ha creado correctamente.',\n",
       "  'showActions': True}]"
      ]
     },
     "execution_count": 78,
     "metadata": {},
     "output_type": "execute_result"
    }
   ],
   "source": [
    "data = {\n",
    "    \"container\": \"IncidenciaFutura\",\n",
    "    \"dataObj\": planning,\n",
    "}\n",
    "client.save_element(**data)"
   ]
  },
  {
   "cell_type": "markdown",
   "metadata": {},
   "source": [
    "### Add planning with summary method"
   ]
  },
  {
   "cell_type": "code",
   "execution_count": 84,
   "metadata": {},
   "outputs": [
    {
     "data": {
      "text/plain": [
       "[{'type': 8,\n",
       "  'id': 'BwAAAAEAAgeAAA==',\n",
       "  'rev': 57,\n",
       "  'message': 'Realizada la solicitud de eliminación.'}]"
      ]
     },
     "execution_count": 84,
     "metadata": {},
     "output_type": "execute_result"
    }
   ],
   "source": [
    "# Delete last added element\n",
    "client.delete_element(container=\"IncidenciaFutura\", elements=[6])"
   ]
  },
  {
   "cell_type": "code",
   "execution_count": 85,
   "metadata": {
    "scrolled": true
   },
   "outputs": [
    {
     "data": {
      "text/plain": [
       "[{'type': 6,\n",
       "  'dataObject': {'id': 7,\n",
       "   '_c_': 'IncidenciaFutura',\n",
       "   'firstDay': '2020-10-10T00:00:00.0000000',\n",
       "   'rev': 60,\n",
       "   'modifiedBy': 'Argentina',\n",
       "   'modified': '2020-07-24T21:40:11.0364860+02:00',\n",
       "   'createdBy': 'Argentina',\n",
       "   'created': '2020-07-24T21:40:10.9753242+02:00',\n",
       "   'allDayId': 9,\n",
       "   'allDay': True,\n",
       "   'selfOwner': False,\n",
       "   'state': '0',\n",
       "   'name': 'Testing summary planning',\n",
       "   'comments': '',\n",
       "   'intState': 0,\n",
       "   'isAccepted': True,\n",
       "   'lastDay': '2020-10-11T00:00:00.0000000',\n",
       "   'numDays': 2,\n",
       "   'confirmBy': 'Argentina',\n",
       "   'confirm': '2020-07-24T21:40:11.0063244+02:00',\n",
       "   'describe': '2 días, del 10/10/2020 al 11/10/2020 Todo el día con incidencia Enfermedad',\n",
       "   'hasComment': False,\n",
       "   'error': '',\n",
       "   'stateDescription': 'Aceptada',\n",
       "   'describeTT': 'Enfermedad',\n",
       "   'isPending': False,\n",
       "   'isValidationPending': False,\n",
       "   'isDenied': False,\n",
       "   'totalDocs': 0,\n",
       "   'validatedDays': [],\n",
       "   'dateInterval': [6127, 6128],\n",
       "   'baValidElems': [1,\n",
       "    2,\n",
       "    3,\n",
       "    4,\n",
       "    5,\n",
       "    6,\n",
       "    7,\n",
       "    8,\n",
       "    9,\n",
       "    10,\n",
       "    11,\n",
       "    12,\n",
       "    13,\n",
       "    14,\n",
       "    15,\n",
       "    16,\n",
       "    17,\n",
       "    18,\n",
       "    19,\n",
       "    20,\n",
       "    21,\n",
       "    22,\n",
       "    23,\n",
       "    24],\n",
       "   'timeTypes': [9],\n",
       "   'nodesSource': [],\n",
       "   'employee': 8},\n",
       "  'message': 'El elemento se ha creado correctamente.',\n",
       "  'showActions': True}]"
      ]
     },
     "execution_count": 85,
     "metadata": {},
     "output_type": "execute_result"
    }
   ],
   "source": [
    "client.add_planning(\n",
    "    employee=8,\n",
    "    name=\"Testing summary planning\",\n",
    "    timetype=9,\n",
    "    days=[\"2020-10-10\", \"2020-10-11\"],\n",
    ")"
   ]
  },
  {
   "cell_type": "markdown",
   "metadata": {},
   "source": [
    "### Edit planning"
   ]
  },
  {
   "cell_type": "code",
   "execution_count": 124,
   "metadata": {
    "scrolled": true
   },
   "outputs": [
    {
     "data": {
      "text/plain": [
       "{'total': 1,\n",
       " 'items': [{'id': 7, 'name': 'Testing summary planning', 'allDayId': 9}]}"
      ]
     },
     "execution_count": 124,
     "metadata": {},
     "output_type": "execute_result"
    }
   ],
   "source": [
    "# search planning\n",
    "planning_query = nt6.Query(\n",
    "    fields=[\"id\", \"name\", \"allDayId\", ],\n",
    "    filterExp=\"((this.employee.nif = '12345678') && (this.firstDay = '2020-10-10'))\"\n",
    ")\n",
    "client.get_elements(container=\"IncidenciaFutura\", query=planning_query)"
   ]
  },
  {
   "cell_type": "code",
   "execution_count": 125,
   "metadata": {},
   "outputs": [
    {
     "data": {
      "text/plain": [
       "[6127, 6128]"
      ]
     },
     "execution_count": 125,
     "metadata": {},
     "output_type": "execute_result"
    }
   ],
   "source": [
    "edit_planning = client.get_element_def(container=\"IncidenciaFutura\", elements=[7])\n",
    "edit_planning = edit_planning[0]\n",
    "edit_planning[\"dateInterval\"]"
   ]
  },
  {
   "cell_type": "code",
   "execution_count": 126,
   "metadata": {
    "scrolled": true
   },
   "outputs": [
    {
     "data": {
      "text/plain": [
       "[6127, 6128, 6129]"
      ]
     },
     "execution_count": 126,
     "metadata": {},
     "output_type": "execute_result"
    }
   ],
   "source": [
    "# ever fix employe; must be a list\n",
    "edit_planning[\"employee\"] = [edit_planning.get(\"employee\")]\n",
    "\n",
    "# apply your changes\n",
    "day_to_add = client.get_days_offset([\"2020-10-12\"])\n",
    "edit_planning[\"dateInterval\"].extend(day_to_add)\n",
    "edit_planning[\"dateInterval\"]"
   ]
  },
  {
   "cell_type": "code",
   "execution_count": 127,
   "metadata": {},
   "outputs": [
    {
     "data": {
      "text/plain": [
       "'El elemento se ha modificado correctamente.'"
      ]
     },
     "execution_count": 127,
     "metadata": {},
     "output_type": "execute_result"
    }
   ],
   "source": [
    "response = client.save_element(\n",
    "    container=\"IncidenciaFutura\",\n",
    "    elements=[7],\n",
    "    dataObj=edit_planning\n",
    ")\n",
    "response[0].get('message')"
   ]
  },
  {
   "cell_type": "markdown",
   "metadata": {},
   "source": [
    "### Disconnect"
   ]
  },
  {
   "cell_type": "code",
   "execution_count": 128,
   "metadata": {},
   "outputs": [
    {
     "data": {
      "text/plain": [
       "False"
      ]
     },
     "execution_count": 128,
     "metadata": {},
     "output_type": "execute_result"
    }
   ],
   "source": [
    "client.disconnect()\n",
    "client.is_connected"
   ]
  },
  {
   "cell_type": "code",
   "execution_count": null,
   "metadata": {},
   "outputs": [],
   "source": []
  }
 ],
 "metadata": {
  "kernelspec": {
   "display_name": "Python 3.8.2 64-bit",
   "language": "python",
   "name": "python38264bit4e4149a56a1f462db0e2e44967667e66"
  },
  "language_info": {
   "codemirror_mode": {
    "name": "ipython",
    "version": 3
   },
   "file_extension": ".py",
   "mimetype": "text/x-python",
   "name": "python",
   "nbconvert_exporter": "python",
   "pygments_lexer": "ipython3",
   "version": "3.8.2"
  }
 },
 "nbformat": 4,
 "nbformat_minor": 4
}
