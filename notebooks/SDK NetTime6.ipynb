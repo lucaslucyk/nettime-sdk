{
 "cells": [
  {
   "cell_type": "markdown",
   "metadata": {},
   "source": [
    "# nettime-sdk\n",
    "sdk for netTime (SPEC, SA)"
   ]
  },
  {
   "cell_type": "markdown",
   "metadata": {},
   "source": [
    "### Add src folder to path"
   ]
  },
  {
   "cell_type": "code",
   "execution_count": 1,
   "metadata": {},
   "outputs": [],
   "source": [
    "import sys, os\n",
    "sys.path.append(os.path.join(os.getcwd(), '..', 'src'))"
   ]
  },
  {
   "cell_type": "markdown",
   "metadata": {},
   "source": [
    "### Import module"
   ]
  },
  {
   "cell_type": "code",
   "execution_count": 2,
   "metadata": {},
   "outputs": [],
   "source": [
    "import nettime6 as nt6\n",
    "from importlib import reload"
   ]
  },
  {
   "cell_type": "markdown",
   "metadata": {},
   "source": [
    "### Client settings"
   ]
  },
  {
   "cell_type": "code",
   "execution_count": 5,
   "metadata": {},
   "outputs": [],
   "source": [
    "URL = 'http://localhost:6091'\n",
    "USERNAME = 'admin'\n",
    "PWD = 'Spec.2020'"
   ]
  },
  {
   "cell_type": "markdown",
   "metadata": {},
   "source": [
    "### Create a client"
   ]
  },
  {
   "cell_type": "code",
   "execution_count": 6,
   "metadata": {},
   "outputs": [
    {
     "data": {
      "text/plain": [
       "True"
      ]
     },
     "execution_count": 6,
     "metadata": {},
     "output_type": "execute_result"
    }
   ],
   "source": [
    "reload(nt6) # for reaload changes only\n",
    "client = nt6.Client(url=URL, username=USERNAME, pwd=PWD)\n",
    "client.is_connected"
   ]
  },
  {
   "cell_type": "markdown",
   "metadata": {},
   "source": [
    "### Get employees with summary method"
   ]
  },
  {
   "cell_type": "code",
   "execution_count": 45,
   "metadata": {
    "scrolled": true
   },
   "outputs": [
    {
     "data": {
      "text/plain": [
       "{'total': 2,\n",
       " 'items': [{'id': 1, 'nif': '123789456'}, {'id': 2, 'nif': '987321654'}]}"
      ]
     },
     "execution_count": 45,
     "metadata": {},
     "output_type": "execute_result"
    }
   ],
   "source": [
    "client.get_employees()"
   ]
  },
  {
   "cell_type": "markdown",
   "metadata": {},
   "source": [
    "### Filter in response (frontend)"
   ]
  },
  {
   "cell_type": "code",
   "execution_count": 46,
   "metadata": {
    "scrolled": true
   },
   "outputs": [
    {
     "data": {
      "text/plain": [
       "{'total': 1, 'items': [{'id': 1, 'nif': '123789456'}]}"
      ]
     },
     "execution_count": 46,
     "metadata": {},
     "output_type": "execute_result"
    }
   ],
   "source": [
    "client.get_employees(search=\"1237\")"
   ]
  },
  {
   "cell_type": "markdown",
   "metadata": {},
   "source": [
    "### Specify fields"
   ]
  },
  {
   "cell_type": "code",
   "execution_count": 47,
   "metadata": {
    "scrolled": true
   },
   "outputs": [
    {
     "data": {
      "text/plain": [
       "{'total': 2,\n",
       " 'items': [{'nif': '123789456',\n",
       "   'Apellidos_Nombre': 'Lucyk, Lucas',\n",
       "   'birthdate': '0001-01-01T00:00:00.0000000'},\n",
       "  {'nif': '987321654',\n",
       "   'Apellidos_Nombre': 'Doe, John',\n",
       "   'Province': 'Ciudad Autónoma de Buenos Aires',\n",
       "   'birthdate': '1987-08-05T00:00:00.0000000'}]}"
      ]
     },
     "execution_count": 47,
     "metadata": {},
     "output_type": "execute_result"
    }
   ],
   "source": [
    "query = nt6.Query(fields=[\"nif\", \"Apellidos_Nombre\", \"Province\", \"birthdate\"])\n",
    "client.get_employees(query=query)"
   ]
  },
  {
   "cell_type": "markdown",
   "metadata": {},
   "source": [
    "### Filter in backend with nettime filter"
   ]
  },
  {
   "cell_type": "code",
   "execution_count": 9,
   "metadata": {},
   "outputs": [
    {
     "data": {
      "text/plain": [
       "{'total': 1,\n",
       " 'items': [{'id': 2,\n",
       "   'nif': '987321654',\n",
       "   'Apellidos_Nombre': 'Doe, John',\n",
       "   'Province': 'Ciudad Autónoma de Buenos Aires',\n",
       "   'birthdate': '1987-08-05T00:00:00.0000000'}]}"
      ]
     },
     "execution_count": 9,
     "metadata": {},
     "output_type": "execute_result"
    }
   ],
   "source": [
    "query = nt6.Query(\n",
    "    fields=[\"id\", \"nif\", \"Apellidos_Nombre\", \"Province\", \"birthdate\"],\n",
    "    filterExp='Contains(this.nif, \"987321654\")'\n",
    ")\n",
    "client.get_employees(query=query)"
   ]
  },
  {
   "cell_type": "code",
   "execution_count": 10,
   "metadata": {},
   "outputs": [
    {
     "data": {
      "text/plain": [
       "{'total': 2,\n",
       " 'items': [{'id': 1,\n",
       "   'nif': '123789456',\n",
       "   'Apellidos_Nombre': 'Lucyk, Lucas',\n",
       "   'birthdate': '0001-01-01T00:00:00.0000000',\n",
       "   'Persona.CalendarioBase': 'Flexible 8h'},\n",
       "  {'id': 2,\n",
       "   'nif': '987321654',\n",
       "   'Apellidos_Nombre': 'Doe, John',\n",
       "   'birthdate': '1987-08-05T00:00:00.0000000',\n",
       "   'Persona.CalendarioBase': 'LaV 09 a 18'}]}"
      ]
     },
     "execution_count": 10,
     "metadata": {},
     "output_type": "execute_result"
    }
   ],
   "source": [
    "query = nt6.Query(\n",
    "    fields=[\"id\", \"nif\", \"Apellidos_Nombre\", \"birthdate\", \"Persona.CalendarioBase\"],\n",
    ")\n",
    "client.get_employees(query=query)"
   ]
  },
  {
   "cell_type": "markdown",
   "metadata": {},
   "source": [
    "### Fields definition"
   ]
  },
  {
   "cell_type": "code",
   "execution_count": 49,
   "metadata": {},
   "outputs": [
    {
     "name": "stdout",
     "output_type": "stream",
     "text": [
      "Total: 323\n"
     ]
    },
    {
     "data": {
      "text/plain": [
       "[{'id': 30,\n",
       "  'name': 'id',\n",
       "  'displayName': 'Id',\n",
       "  'expr': 'this.id',\n",
       "  'type': 'int',\n",
       "  'align': 2,\n",
       "  'sortable': False,\n",
       "  'width': 0,\n",
       "  'group': '',\n",
       "  'numTempOperators': 0},\n",
       " {'id': 31,\n",
       "  'name': 'name',\n",
       "  'displayName': 'Clave',\n",
       "  'expr': 'this.name',\n",
       "  'type': 'String',\n",
       "  'align': 2,\n",
       "  'sortable': True,\n",
       "  'width': 20,\n",
       "  'group': 'Datos personales',\n",
       "  'numTempOperators': 0}]"
      ]
     },
     "execution_count": 49,
     "metadata": {},
     "output_type": "execute_result"
    }
   ],
   "source": [
    "fields = client.get_fields(\"Persona\")\n",
    "print('Total:', fields.get('total'))\n",
    "fields.get('items')[:2]"
   ]
  },
  {
   "cell_type": "markdown",
   "metadata": {},
   "source": [
    "### Fields definition filtering Properties only"
   ]
  },
  {
   "cell_type": "code",
   "execution_count": 50,
   "metadata": {},
   "outputs": [
    {
     "name": "stdout",
     "output_type": "stream",
     "text": [
      "Total: 316\n"
     ]
    },
    {
     "data": {
      "text/plain": [
       "[{'id': 30,\n",
       "  'name': 'id',\n",
       "  'displayName': 'Id',\n",
       "  'expr': 'this.id',\n",
       "  'type': 'int',\n",
       "  'align': 2,\n",
       "  'sortable': False,\n",
       "  'width': 0,\n",
       "  'group': '',\n",
       "  'numTempOperators': 0},\n",
       " {'id': 31,\n",
       "  'name': 'name',\n",
       "  'displayName': 'Clave',\n",
       "  'expr': 'this.name',\n",
       "  'type': 'String',\n",
       "  'align': 2,\n",
       "  'sortable': True,\n",
       "  'width': 20,\n",
       "  'group': 'Datos personales',\n",
       "  'numTempOperators': 0}]"
      ]
     },
     "execution_count": 50,
     "metadata": {},
     "output_type": "execute_result"
    }
   ],
   "source": [
    "fields_filter = client.get_fields(\"Persona\", filterFields=True)\n",
    "print('Total:', fields_filter.get('total'))\n",
    "fields_filter.get('items')[:2]"
   ]
  },
  {
   "cell_type": "markdown",
   "metadata": {},
   "source": [
    "### Get incidencias, and update employee"
   ]
  },
  {
   "cell_type": "code",
   "execution_count": 51,
   "metadata": {},
   "outputs": [
    {
     "data": {
      "text/plain": [
       "[{'id': 0, 'name': 'Sin incidencia'},\n",
       " {'id': 1, 'name': 'Inc. horas extra'},\n",
       " {'id': 2, 'name': 'Asuntos propios'},\n",
       " {'id': 3, 'name': 'Vacaciones'},\n",
       " {'id': 4, 'name': 'Lactancia 30 minutos'},\n",
       " {'id': 5, 'name': 'Lactancia 1 hora'},\n",
       " {'id': 6, 'name': 'Visita al médico'},\n",
       " {'id': 7, 'name': 'Horas sindicales'},\n",
       " {'id': 8, 'name': 'Accidente laboral'},\n",
       " {'id': 9, 'name': 'Enfermedad'}]"
      ]
     },
     "execution_count": 51,
     "metadata": {},
     "output_type": "execute_result"
    }
   ],
   "source": [
    "nt_incidencias = client.get_elements(\"Incidencia\").get('items')\n",
    "nt_incidencias[:10]"
   ]
  },
  {
   "cell_type": "code",
   "execution_count": 52,
   "metadata": {},
   "outputs": [
    {
     "data": {
      "text/plain": [
       "[{'type': 6,\n",
       "  'dataObject': {'_c_': 'Persona',\n",
       "   'id': 2,\n",
       "   'name': '987654',\n",
       "   'created': '2020-08-03T10:51:59.1430000',\n",
       "   'changePassword': False,\n",
       "   'firstWONumDays': 0,\n",
       "   'firstWO': -1,\n",
       "   'firstWANumDays': 0,\n",
       "   'firstWA': -1,\n",
       "   'firstTTNumDays': 0,\n",
       "   'firstTT': -1,\n",
       "   'termVoice': False,\n",
       "   'timeoutEnrollMinutes': 0,\n",
       "   'timeoutEnrollDate': '0001-01-01T00:00:00.0000000',\n",
       "   'enrollActive': False,\n",
       "   'PersonalPhone': '5238-8000',\n",
       "   'sex': 0,\n",
       "   'Visitas.RecibirVisitas': False,\n",
       "   'securityLevel': 0,\n",
       "   'ticketEmail': False,\n",
       "   'address': 'Reconquista 968',\n",
       "   'timeoutEnroll': '0001-01-01T00:00:00.0000000',\n",
       "   'createdBy': 'Admin',\n",
       "   'modifiedBy': 'Admin',\n",
       "   'useTasksWE': False,\n",
       "   'useTasksWO': False,\n",
       "   'useTasksWA': False,\n",
       "   'useTasks': False,\n",
       "   'ProfaceAdmin': False,\n",
       "   'MobileClocking': False,\n",
       "   'mobileId': '',\n",
       "   'RemoteClocking': False,\n",
       "   'Portal.DisablePasswordChange': False,\n",
       "   'Portal.DisableCalendar': False,\n",
       "   'Portal.DisablePlannings': False,\n",
       "   'Portal.DisableVistaResumen': False,\n",
       "   'Portal.DisableMovimientos': False,\n",
       "   'Portal.NoPuedeEditar': False,\n",
       "   'Portal.NoRequiereValidacionEnCorreccion': False,\n",
       "   'Portal.UsaPortal': False,\n",
       "   'virtualCard': False,\n",
       "   'geolocalize': 'geoNever',\n",
       "   'offline': False,\n",
       "   'totalDocs': 0,\n",
       "   'Portal.ChangeLanguage': True,\n",
       "   'rev': 56,\n",
       "   'modified': '2020-08-05T19:15:49.1907439-03:00',\n",
       "   'birthdate': '1987-08-05T00:00:00.0000000',\n",
       "   'Visitas.ProgramarVisitas': False,\n",
       "   'acceptAllReaders': False,\n",
       "   'acceptAllTT': False,\n",
       "   'NoAttendance': False,\n",
       "   'RegisterSystemDate': '2019-02-11T00:00:00.0000000',\n",
       "   'htmlPortal': False,\n",
       "   'inactive': True,\n",
       "   'pwdCantChange': False,\n",
       "   'exboss': True,\n",
       "   'pwdNextLogin': False,\n",
       "   'pwdExpires': True,\n",
       "   'pwdRetries': 0,\n",
       "   'lastPwdChange': '0001-01-01T00:00:00.0000000',\n",
       "   'NumFingers': 0,\n",
       "   'nif': '987321654',\n",
       "   'Town': 'CABA',\n",
       "   'PIN': 0,\n",
       "   'PostalCode': '1003',\n",
       "   'FirstDayNotValid': '2020-08-05T00:00:00.0000000-03:00',\n",
       "   'Province': 'Ciudad Autónoma de Buenos Aires',\n",
       "   'FingerIEVO2EnrollDate': '0001-01-01T00:00:00.0000000',\n",
       "   'nameEmployee': 'John',\n",
       "   'companyCode': 'SPEC AR',\n",
       "   'Finger2EnrollDate': '0001-01-01T00:00:00.0000000',\n",
       "   'Finger1EnrollDate': '0001-01-01T00:00:00.0000000',\n",
       "   'LastName': 'Doe',\n",
       "   'employeeCode': '5048',\n",
       "   'FingerIEVO1EnrollDate': '0001-01-01T00:00:00.0000000',\n",
       "   'ActiveDays': {'validity': [{'start': '2011-01-01T00:00:00.0000000',\n",
       "      'end': '2040-12-31T00:00:00.0000000'}]},\n",
       "   'Readers': [1, 2],\n",
       "   'Cards': [],\n",
       "   'Calendar': {'id': 2,\n",
       "    '_c_': '',\n",
       "    'created': '0001-01-01T00:00:00.0000000',\n",
       "    'modified': '0001-01-01T00:00:00.0000000',\n",
       "    'name': '',\n",
       "    'rev': 0,\n",
       "    'years': [{'Year': 2012, 'days': {}},\n",
       "     {'Year': 2016, 'days': {}},\n",
       "     {'Year': 2017, 'days': {}},\n",
       "     {'Year': 2018, 'days': {}},\n",
       "     {'Year': 2019, 'days': {}},\n",
       "     {'Year': 2020,\n",
       "      'days': {'0': {'shifts': [4]},\n",
       "       '1': {'shifts': [4]},\n",
       "       '33': {'shifts': [3]},\n",
       "       '34': {'shifts': [3]},\n",
       "       '35': {'shifts': [3]},\n",
       "       '36': {'shifts': [3]},\n",
       "       '37': {'shifts': [3]},\n",
       "       '54': {'shifts': [3]},\n",
       "       '55': {'shifts': [3]},\n",
       "       '56': {'shifts': [3]},\n",
       "       '57': {'shifts': [3]},\n",
       "       '58': {'shifts': [3]}}},\n",
       "     {'Year': 2021, 'days': {}}],\n",
       "    'Cycles': [],\n",
       "    'Calendars': [{'id': 3, 'name': 'LaV 09 a 18'}],\n",
       "    'nodesSource': [],\n",
       "    'multiName': {'es-ES': ''}},\n",
       "   'node': 1,\n",
       "   'doAccess': {'total': True, 'offsetIn': 0, 'offsetOut': 0},\n",
       "   'TimeTypesEmployee': [{'id': 0},\n",
       "    {'id': 1},\n",
       "    {'id': 2},\n",
       "    {'id': 3},\n",
       "    {'id': 4},\n",
       "    {'id': 5},\n",
       "    {'id': 6},\n",
       "    {'id': 7},\n",
       "    {'id': 8},\n",
       "    {'id': 9},\n",
       "    {'id': 10},\n",
       "    {'id': 11},\n",
       "    {'id': 12},\n",
       "    {'id': 13},\n",
       "    {'id': 14},\n",
       "    {'id': 15},\n",
       "    {'id': 16},\n",
       "    {'id': 17},\n",
       "    {'id': 18},\n",
       "    {'id': 19},\n",
       "    {'id': 20},\n",
       "    {'id': 21},\n",
       "    {'id': 22},\n",
       "    {'id': 23},\n",
       "    {'id': 24}],\n",
       "   'Departments': [{'id': 1}],\n",
       "   'enrollDevices': [],\n",
       "   'geolocSource': [{'data': 'geoAlways', 'label': 'Siempre'},\n",
       "    {'data': 'geoIfPossible', 'label': 'Si es posible'},\n",
       "    {'data': 'geoNever', 'label': 'Nunca'}],\n",
       "   'source': [{'id': 1,\n",
       "     'name': 'Proximity',\n",
       "     'displayName': 'Proximity',\n",
       "     'description': '',\n",
       "     'type': 'terminal',\n",
       "     'icon': 'Terminal',\n",
       "     'children': [{'id': 2,\n",
       "       'displayName': 'Proximity_1',\n",
       "       'type': 'reader',\n",
       "       'description': 'Lector 2 del terminal Proximity',\n",
       "       'icon': 'Lector',\n",
       "       'children': [{'type': 'device',\n",
       "         'name': 'CD1',\n",
       "         'displayName': 'Lector de proximidad interno conectado en CD1',\n",
       "         'description': 'CD1',\n",
       "         'default': 1,\n",
       "         'deviceType': 'Tarjeta',\n",
       "         'hasElement': True,\n",
       "         'expr': '',\n",
       "         'allow': False,\n",
       "         'id': 'Proximity_Proximity_1_CD1'}]}]},\n",
       "    {'id': 3,\n",
       "     'name': 'Fingerprint',\n",
       "     'displayName': 'Fingerprint',\n",
       "     'description': '',\n",
       "     'type': 'terminal',\n",
       "     'icon': 'Terminal',\n",
       "     'children': [{'id': 1,\n",
       "       'displayName': 'Fingerprint_1',\n",
       "       'type': 'reader',\n",
       "       'description': 'Lector 1 del terminal Fingerprint',\n",
       "       'icon': 'Lector',\n",
       "       'children': [{'type': 'device',\n",
       "         'name': 'COM1',\n",
       "         'displayName': 'Lector de huella interno conectado en COM1',\n",
       "         'description': 'COM1',\n",
       "         'default': 1,\n",
       "         'deviceType': 'Huella',\n",
       "         'hasElement': True,\n",
       "         'expr': '',\n",
       "         'allow': False,\n",
       "         'id': 'Fingerprint_Fingerprint_1_COM1'},\n",
       "        {'type': 'device',\n",
       "         'name': 'BI1',\n",
       "         'displayName': 'Teclado interno conectado en BI1',\n",
       "         'description': 'BI1',\n",
       "         'default': 1,\n",
       "         'deviceType': 'Teclado',\n",
       "         'hasElement': False,\n",
       "         'expr': '',\n",
       "         'allow': False,\n",
       "         'id': 'Fingerprint_Fingerprint_1_BI1'}]}]}],\n",
       "   'initialValuesList': [],\n",
       "   'nodesSource': [{'data': '1', 'label': 'SPEC SA'},\n",
       "    {'data': '2', 'label': 'SPEC SA · Argentina'},\n",
       "    {'data': '3', 'label': 'SPEC SA · Argentina · Information Technology'}],\n",
       "   'Accesos.Zona': 1,\n",
       "   'languages': [{'data': 'ca-ES', 'label': 'Català'},\n",
       "    {'data': 'en-GB', 'label': 'English'},\n",
       "    {'data': 'es-ES', 'label': 'Español'},\n",
       "    {'data': 'eu-ES', 'label': 'Euskara'},\n",
       "    {'data': 'fr-FR', 'label': 'Français'},\n",
       "    {'data': 'pt-PT', 'label': 'Português'}]},\n",
       "  'message': 'El elemento se ha modificado correctamente.',\n",
       "  'showActions': True}]"
      ]
     },
     "execution_count": 52,
     "metadata": {},
     "output_type": "execute_result"
    }
   ],
   "source": [
    "incidencias = []\n",
    "for incidencia in nt_incidencias:\n",
    "    incidencias.append({\"id\": incidencia.get(\"id\")})\n",
    "    \n",
    "data = {\n",
    "    \"container\": \"Persona\",\n",
    "    \"elements\": [2],\n",
    "    \"dataObj\": {\n",
    "        \"TimeTypesEmployee\": incidencias\n",
    "    }\n",
    "}\n",
    "\n",
    "client.save_element(**data)"
   ]
  },
  {
   "cell_type": "markdown",
   "metadata": {},
   "source": [
    "##### To add periods, use the key \"validity\" with a list of elements like:\n",
    "```python\n",
    "{\n",
    "    \"id\": incidencia.get(\"id\"),\n",
    "    \"validity\": [{\n",
    "        \"end\": \"2040-12-31T00:00:00-03:00\",\n",
    "        \"start\": \"2004-01-01T00:00:00-03:00\",\n",
    "    }]\n",
    "}\n",
    "```"
   ]
  },
  {
   "cell_type": "markdown",
   "metadata": {},
   "source": [
    "### Get elements definition"
   ]
  },
  {
   "cell_type": "code",
   "execution_count": 53,
   "metadata": {
    "scrolled": true
   },
   "outputs": [
    {
     "data": {
      "text/plain": [
       "{'id': 2,\n",
       " '_c_': '',\n",
       " 'created': '0001-01-01T00:00:00.0000000',\n",
       " 'modified': '0001-01-01T00:00:00.0000000',\n",
       " 'name': '',\n",
       " 'rev': 0,\n",
       " 'years': [{'Year': 2012, 'days': {}},\n",
       "  {'Year': 2016, 'days': {}},\n",
       "  {'Year': 2017, 'days': {}},\n",
       "  {'Year': 2018, 'days': {}},\n",
       "  {'Year': 2019, 'days': {}},\n",
       "  {'Year': 2020,\n",
       "   'days': {'0': {'shifts': [4]},\n",
       "    '1': {'shifts': [4]},\n",
       "    '33': {'shifts': [3]},\n",
       "    '34': {'shifts': [3]},\n",
       "    '35': {'shifts': [3]},\n",
       "    '36': {'shifts': [3]},\n",
       "    '37': {'shifts': [3]},\n",
       "    '54': {'shifts': [3]},\n",
       "    '55': {'shifts': [3]},\n",
       "    '56': {'shifts': [3]},\n",
       "    '57': {'shifts': [3]},\n",
       "    '58': {'shifts': [3]}}},\n",
       "  {'Year': 2021, 'days': {}}],\n",
       " 'Cycles': [],\n",
       " 'Calendars': [{'id': 3, 'name': 'LaV 09 a 18'}],\n",
       " 'nodesSource': [],\n",
       " 'multiName': {'es-ES': ''}}"
      ]
     },
     "execution_count": 53,
     "metadata": {},
     "output_type": "execute_result"
    }
   ],
   "source": [
    "employee = client.get_element_def(container=\"Persona\", elements=[2])\n",
    "employee = employee[0]\n",
    "\n",
    "# show calendars\n",
    "employee.get('Calendar')"
   ]
  },
  {
   "cell_type": "markdown",
   "metadata": {},
   "source": [
    "### Get default values in create form"
   ]
  },
  {
   "cell_type": "code",
   "execution_count": 54,
   "metadata": {},
   "outputs": [
    {
     "data": {
      "text/plain": [
       "{'_c_': 'Jornada',\n",
       " 'id': -1,\n",
       " 'modified': '0001-01-01T00:00:00.0000000',\n",
       " 'created': '0001-01-01T00:00:00.0000000',\n",
       " 'color': '808080',\n",
       " 'rev': 0,\n",
       " 'minutosCortesia': 0,\n",
       " 'minutosPenalizacion': 0,\n",
       " 'totalTeorico': 480,\n",
       " 'minutoFinal': 2880,\n",
       " 'minutosRetraso': 0,\n",
       " 'resultados': [],\n",
       " 'multiName': {},\n",
       " 'nodesSource': [],\n",
       " 'incidencias': [],\n",
       " 'baObligada': [],\n",
       " 'baFlexible': [],\n",
       " 'pausas': [],\n",
       " 'intervalSource': [{'data': 'flex', 'label': 'Bloque flexible'},\n",
       "  {'data': 'oblig', 'label': 'Bloque obligatorio'},\n",
       "  {'data': 'all', 'label': 'Toda la jornada'},\n",
       "  {'data': 'bloque', 'label': 'Bloque del grupo de incidencia'},\n",
       "  {'data': 'relative', 'label': 'Relativo a...', 'state': 'relative'},\n",
       "  {'data': 'delete', 'label': 'Sin validez'}],\n",
       " 'ShifttimeTypesMassIdinci': [],\n",
       " 'relativeSource': [{'data': 'inishift', 'label': 'Inicio de la jornada'},\n",
       "  {'data': 'firstflexmin', 'label': 'Inicio bloque flexible'},\n",
       "  {'data': 'firstoblmin', 'label': 'Inicio bloque obligatorio'},\n",
       "  {'data': 'endshift', 'label': 'Final de la jornada'},\n",
       "  {'data': 'endflex', 'label': 'Final bloque flexible'},\n",
       "  {'data': 'endobli', 'label': 'Final bloque obligatorio'}]}"
      ]
     },
     "execution_count": 54,
     "metadata": {},
     "output_type": "execute_result"
    }
   ],
   "source": [
    "client.get_create_form(\"Jornada\")"
   ]
  },
  {
   "cell_type": "markdown",
   "metadata": {},
   "source": [
    "### Get dataObj for duplicate element"
   ]
  },
  {
   "cell_type": "code",
   "execution_count": 55,
   "metadata": {},
   "outputs": [
    {
     "data": {
      "text/plain": [
       "{'_c_': 'Arbol',\n",
       " 'id': -1,\n",
       " 'name': 'Information Technology',\n",
       " 'rev': 0,\n",
       " 'createdBy': 'Admin',\n",
       " 'created': '2020-08-03T11:08:27.4050000',\n",
       " 'modified': '0001-01-01T00:00:00.0000000',\n",
       " 'color': '7D7D7D',\n",
       " 'allowedContainerNames': 'Empleados',\n",
       " 'order': 0,\n",
       " 'internalName': 'Information_Technology',\n",
       " 'idNodeParent': 2,\n",
       " 'baAllowedContainers': [14],\n",
       " 'nodesSource': [],\n",
       " 'nodes': [],\n",
       " 'multiName': {'es-ES': 'Information Technology'}}"
      ]
     },
     "execution_count": 55,
     "metadata": {},
     "output_type": "execute_result"
    }
   ],
   "source": [
    "client.get_for_duplicate(container=\"Arbol\", element=3)\n",
    "# edit and then use client.save_element() method"
   ]
  },
  {
   "cell_type": "markdown",
   "metadata": {},
   "source": [
    "### Delete element"
   ]
  },
  {
   "cell_type": "code",
   "execution_count": 56,
   "metadata": {},
   "outputs": [
    {
     "data": {
      "text/plain": [
       "{'total': 1, 'items': [{'id': 6, 'name': 'TEST'}]}"
      ]
     },
     "execution_count": 56,
     "metadata": {},
     "output_type": "execute_result"
    }
   ],
   "source": [
    "client.get_elements(\"Jornada\", search=\"TEST\")"
   ]
  },
  {
   "cell_type": "code",
   "execution_count": 58,
   "metadata": {
    "scrolled": true
   },
   "outputs": [
    {
     "data": {
      "text/plain": [
       "[{'type': 8,\n",
       "  'id': 'BwAAAAEAAgeAAA==',\n",
       "  'rev': 60,\n",
       "  'message': 'Los elementos se han eliminado correctamente.'}]"
      ]
     },
     "execution_count": 58,
     "metadata": {},
     "output_type": "execute_result"
    }
   ],
   "source": [
    "client.delete_element(container=\"Jornada\", elements=[6])"
   ]
  },
  {
   "cell_type": "code",
   "execution_count": 59,
   "metadata": {
    "scrolled": true
   },
   "outputs": [
    {
     "data": {
      "text/plain": [
       "{'total': 0, 'items': []}"
      ]
     },
     "execution_count": 59,
     "metadata": {},
     "output_type": "execute_result"
    }
   ],
   "source": [
    "client.get_elements(\"Jornada\", search=\"TEST\")"
   ]
  },
  {
   "cell_type": "markdown",
   "metadata": {},
   "source": [
    "### Getting day results info"
   ]
  },
  {
   "cell_type": "code",
   "execution_count": 60,
   "metadata": {
    "scrolled": true
   },
   "outputs": [
    {
     "data": {
      "text/plain": [
       "{'idEmp': 2,\n",
       " 'days': [{'date': '2020-07-03T00:00:00.0000000',\n",
       "   'shift': {'date': '2020-07-03T00:00:00.0000000',\n",
       "    'idEmp': 2,\n",
       "    'shift': 5,\n",
       "    'minFin': 2880,\n",
       "    'minFinForced': False,\n",
       "    'shiftPetition': {'actions': ['Change']},\n",
       "    'clockings': [{'id': 1,\n",
       "      'date': '2020-07-03T08:55:00.0000000',\n",
       "      'idElem': 0,\n",
       "      'type': 'timetypes',\n",
       "      'idReader': 0,\n",
       "      'user': 'Admin',\n",
       "      'ip': '127.0.0.1',\n",
       "      'status': {'effective': True,\n",
       "       'desc': 'Entrando',\n",
       "       'state': '',\n",
       "       'entering': True,\n",
       "       'actions': ['Delete', 'Edit', 'Comment']},\n",
       "      'app': True,\n",
       "      'numDocuments': 0},\n",
       "     {'id': 2,\n",
       "      'date': '2020-07-03T18:30:00.0000000',\n",
       "      'idElem': 0,\n",
       "      'type': 'timetypes',\n",
       "      'idReader': 0,\n",
       "      'user': 'Admin',\n",
       "      'ip': '127.0.0.1',\n",
       "      'status': {'effective': True,\n",
       "       'desc': 'Saliendo',\n",
       "       'state': '',\n",
       "       'entering': False,\n",
       "       'actions': ['Delete', 'Edit', 'Comment']},\n",
       "      'app': True,\n",
       "      'numDocuments': 0}],\n",
       "    'info': {'Change': 'Cambiar',\n",
       "     'Delete': 'Eliminar',\n",
       "     'Edit': 'Editar',\n",
       "     'Comment': 'Comentar'}},\n",
       "   'results': {'date': '2020-07-03T00:00:00.0000000',\n",
       "    'hasComments': False,\n",
       "    'hasPending': False,\n",
       "    'shift': {'id': 5, 'minutes': {'start': 1440, 'end': 2880}},\n",
       "    'minutesTypes': [{'name': 'Incidencia',\n",
       "      'results': [{'id': 0,\n",
       "        'minutes': [{'start': 1975, 'end': 2160, 'endApr': True},\n",
       "         {'start': 2220, 'end': 2550, 'startApr': True}]}]},\n",
       "     {'name': 'Sistema',\n",
       "      'results': [{'id': 9, 'minutes': [{'start': 2160, 'end': 2220}]}]}]}}],\n",
       " 'taskConfig': 71,\n",
       " 'info': [{'id': 0,\n",
       "   'type': 'Incidencia',\n",
       "   'name': 'Sin incidencia',\n",
       "   'color': '009933'},\n",
       "  {'id': 5, 'type': 'Jornada', 'name': '09:00 a 18:00', 'color': '808080'},\n",
       "  {'id': 9, 'type': 'Sistema', 'name': 'Pausas', 'color': 'F0F0F0'}]}"
      ]
     },
     "execution_count": 60,
     "metadata": {},
     "output_type": "execute_result"
    }
   ],
   "source": [
    "client.get_day_info(employee=2, _from=\"2020-07-03\", to=\"2020-07-03\")"
   ]
  },
  {
   "cell_type": "markdown",
   "metadata": {},
   "source": [
    "### Get day results"
   ]
  },
  {
   "cell_type": "code",
   "execution_count": 61,
   "metadata": {},
   "outputs": [
    {
     "data": {
      "text/plain": [
       "{'results': [{'date': '2020-07-03T00:00:00.0000000',\n",
       "   'hasComments': False,\n",
       "   'hasPending': False,\n",
       "   'shift': {'id': 5, 'minutes': {'start': 1440, 'end': 2880}},\n",
       "   'minutesTypes': [{'name': 'Lector',\n",
       "     'results': [{'id': -1,\n",
       "       'values': [{'name': 'Min', 'value': 575},\n",
       "        {'name': 'MinDes', 'value': 0},\n",
       "        {'name': 'Evt', 'value': 1},\n",
       "        {'name': 'EvtDes', 'value': 0}]}]},\n",
       "    {'name': 'Incidencia',\n",
       "     'results': [{'id': 0,\n",
       "       'values': [{'name': 'Min', 'value': 515},\n",
       "        {'name': 'MinDes', 'value': 60},\n",
       "        {'name': 'Evt', 'value': 1},\n",
       "        {'name': 'EvtDes', 'value': 1}]}]},\n",
       "    {'name': 'Sistema',\n",
       "     'results': [{'id': 0,\n",
       "       'values': [{'name': 'Min', 'value': 515},\n",
       "        {'name': 'MinDes', 'value': 60},\n",
       "        {'name': 'Evt', 'value': 1},\n",
       "        {'name': 'EvtDes', 'value': 1}]},\n",
       "      {'id': 5,\n",
       "       'values': [{'name': 'Min', 'value': 0},\n",
       "        {'name': 'MinDes', 'value': 0},\n",
       "        {'name': 'Evt', 'value': 0},\n",
       "        {'name': 'EvtDes', 'value': 0}]},\n",
       "      {'id': 6,\n",
       "       'values': [{'name': 'Min', 'value': 515},\n",
       "        {'name': 'MinDes', 'value': 60},\n",
       "        {'name': 'Evt', 'value': 1},\n",
       "        {'name': 'EvtDes', 'value': 1}]},\n",
       "      {'id': 8,\n",
       "       'values': [{'name': 'Min', 'value': 480},\n",
       "        {'name': 'MinDes', 'value': 35},\n",
       "        {'name': 'Evt', 'value': 1},\n",
       "        {'name': 'EvtDes', 'value': 1}]},\n",
       "      {'id': 9,\n",
       "       'values': [{'name': 'Min', 'value': 60},\n",
       "        {'name': 'MinDes', 'value': 0},\n",
       "        {'name': 'Evt', 'value': 1},\n",
       "        {'name': 'EvtDes', 'value': 0}]},\n",
       "      {'id': 10,\n",
       "       'values': [{'name': 'Min', 'value': 0},\n",
       "        {'name': 'MinDes', 'value': 0},\n",
       "        {'name': 'Evt', 'value': 0},\n",
       "        {'name': 'EvtDes', 'value': 0}]},\n",
       "      {'id': 11,\n",
       "       'values': [{'name': 'Min', 'value': 480},\n",
       "        {'name': 'MinDes', 'value': 0},\n",
       "        {'name': 'Evt', 'value': 1},\n",
       "        {'name': 'EvtDes', 'value': 0}]},\n",
       "      {'id': 12,\n",
       "       'values': [{'name': 'Min', 'value': 1380},\n",
       "        {'name': 'MinDes', 'value': 0},\n",
       "        {'name': 'Evt', 'value': 1},\n",
       "        {'name': 'EvtDes', 'value': 0}]}]},\n",
       "    {'name': 'Anomalia',\n",
       "     'results': [{'id': 0,\n",
       "       'values': [{'name': 'Min', 'value': 0},\n",
       "        {'name': 'MinDes', 'value': 0},\n",
       "        {'name': 'Evt', 'value': 1},\n",
       "        {'name': 'EvtDes', 'value': 0}]}]},\n",
       "    {'name': 'Calculo',\n",
       "     'results': [{'id': 1,\n",
       "       'values': [{'name': 'Min', 'value': 515},\n",
       "        {'name': 'MinDes', 'value': 60},\n",
       "        {'name': 'Evt', 'value': 1},\n",
       "        {'name': 'EvtDes', 'value': 1}]},\n",
       "      {'id': 2,\n",
       "       'values': [{'name': 'Min', 'value': 480},\n",
       "        {'name': 'MinDes', 'value': 0},\n",
       "        {'name': 'Evt', 'value': 1},\n",
       "        {'name': 'EvtDes', 'value': 0}]}]},\n",
       "    {'name': 'Jornada',\n",
       "     'results': [{'id': 5,\n",
       "       'values': [{'name': 'Min', 'value': 480},\n",
       "        {'name': 'MinDes', 'value': 0},\n",
       "        {'name': 'Evt', 'value': 1},\n",
       "        {'name': 'EvtDes', 'value': 0}]}]},\n",
       "    {'name': 'Aritmetico',\n",
       "     'results': [{'id': 1,\n",
       "       'values': [{'name': 'Value', 'value': 35},\n",
       "        {'name': 'Accumulated', 'value': 35},\n",
       "        {'name': 'Available', 'value': -35},\n",
       "        {'name': 'Discard', 'value': 0}]},\n",
       "      {'id': 2,\n",
       "       'values': [{'name': 'Value', 'value': 35},\n",
       "        {'name': 'Accumulated', 'value': -925},\n",
       "        {'name': 'Available', 'value': 925},\n",
       "        {'name': 'Discard', 'value': 0}]},\n",
       "      {'id': 3,\n",
       "       'values': [{'name': 'Value', 'value': 35},\n",
       "        {'name': 'Accumulated', 'value': -63325},\n",
       "        {'name': 'Available', 'value': 63325},\n",
       "        {'name': 'Discard', 'value': 0}]},\n",
       "      {'id': 4,\n",
       "       'values': [{'name': 'Value', 'value': 0},\n",
       "        {'name': 'Accumulated', 'value': 0},\n",
       "        {'name': 'Available', 'value': 22},\n",
       "        {'name': 'Discard', 'value': 0}]}]}]}],\n",
       " 'info': [{'id': -1, 'type': 'Lector', 'name': 'UNKNOWN', 'color': 'FDFDFD'},\n",
       "  {'id': 0, 'type': 'Incidencia', 'name': 'Sin incidencia', 'color': '009933'},\n",
       "  {'id': 0,\n",
       "   'type': 'Sistema',\n",
       "   'name': 'Productivas en el centro',\n",
       "   'color': '009933'},\n",
       "  {'id': 0, 'type': 'Anomalia', 'name': 'Sin anomalía', 'color': 'EEEEEE'},\n",
       "  {'id': 1, 'type': 'Calculo', 'name': 'PROD', 'color': 'CCCCCC'},\n",
       "  {'id': 2, 'type': 'Calculo', 'name': 'NORMALES', 'color': 'ffffff'},\n",
       "  {'id': 5,\n",
       "   'type': 'Sistema',\n",
       "   'name': 'Ausencias no justificadas',\n",
       "   'color': 'C83327'},\n",
       "  {'id': 5, 'type': 'Jornada', 'name': '09:00 a 18:00', 'color': '808080'},\n",
       "  {'id': 6, 'type': 'Sistema', 'name': 'Productivas', 'color': '3399FF'},\n",
       "  {'id': 8, 'type': 'Sistema', 'name': 'Trabajadas', 'color': '009933'},\n",
       "  {'id': 9, 'type': 'Sistema', 'name': 'Pausas', 'color': 'F0F0F0'},\n",
       "  {'id': 10, 'type': 'Sistema', 'name': 'Retrasos', 'color': 'CC6600'},\n",
       "  {'id': 11, 'type': 'Sistema', 'name': 'Jornada teórica', 'color': 'FFFFFF'},\n",
       "  {'id': 12, 'type': 'Sistema', 'name': 'Filtro día', 'color': 'FFFFFF'},\n",
       "  {'id': 1, 'type': 'Aritmetico', 'name': 'Saldo diario', 'color': '0066CC'},\n",
       "  {'id': 2, 'type': 'Aritmetico', 'name': 'Saldo mensual', 'color': 'CC9900'},\n",
       "  {'id': 3, 'type': 'Aritmetico', 'name': 'Saldo anual', 'color': 'FF6600'},\n",
       "  {'id': 4,\n",
       "   'type': 'Aritmetico',\n",
       "   'name': 'Saldo Días Vacaciones',\n",
       "   'color': '007373',\n",
       "   'numeric': True}]}"
      ]
     },
     "execution_count": 61,
     "metadata": {},
     "output_type": "execute_result"
    }
   ],
   "source": [
    "client.get_results(employee=2, _from=\"2020-07-03\", to=\"2020-07-03\")"
   ]
  },
  {
   "cell_type": "markdown",
   "metadata": {},
   "source": [
    "### Add clocking"
   ]
  },
  {
   "cell_type": "code",
   "execution_count": 62,
   "metadata": {},
   "outputs": [
    {
     "data": {
      "text/plain": [
       "{'ok': True}"
      ]
     },
     "execution_count": 62,
     "metadata": {},
     "output_type": "execute_result"
    }
   ],
   "source": [
    "client.add_clocking(employee=2, date=\"2020-07-02\", time=\"18:30\")"
   ]
  },
  {
   "cell_type": "markdown",
   "metadata": {},
   "source": [
    "### Get day clockings"
   ]
  },
  {
   "cell_type": "code",
   "execution_count": 63,
   "metadata": {
    "scrolled": true
   },
   "outputs": [
    {
     "data": {
      "text/plain": [
       "{'date': '2020-07-02T00:00:00.0000000',\n",
       " 'idEmp': 2,\n",
       " 'shift': 5,\n",
       " 'minFin': 0,\n",
       " 'minFinForced': False,\n",
       " 'shiftPetition': {'actions': ['Change']},\n",
       " 'clockings': [{'id': 3,\n",
       "   'date': '2020-07-02T09:00:00.0000000',\n",
       "   'idElem': 0,\n",
       "   'type': 'timetypes',\n",
       "   'idReader': 0,\n",
       "   'user': 'Admin',\n",
       "   'ip': '127.0.0.1',\n",
       "   'status': {'effective': True,\n",
       "    'desc': 'Entrando',\n",
       "    'state': '',\n",
       "    'entering': True,\n",
       "    'actions': ['Delete', 'Edit', 'Comment']},\n",
       "   'app': True,\n",
       "   'numDocuments': 0},\n",
       "  {'id': 7,\n",
       "   'date': '2020-07-02T18:30:00.0000000',\n",
       "   'idElem': 0,\n",
       "   'type': 'timetypes',\n",
       "   'idReader': 0,\n",
       "   'user': 'Admin',\n",
       "   'ip': '::1',\n",
       "   'status': {'effective': True,\n",
       "    'desc': 'Saliendo',\n",
       "    'state': '',\n",
       "    'entering': False,\n",
       "    'actions': ['Delete', 'Edit', 'Comment']},\n",
       "   'app': True,\n",
       "   'numDocuments': 0}],\n",
       " 'info': {'Change': 'Cambiar',\n",
       "  'Delete': 'Eliminar',\n",
       "  'Edit': 'Editar',\n",
       "  'Comment': 'Comentar'}}"
      ]
     },
     "execution_count": 63,
     "metadata": {},
     "output_type": "execute_result"
    }
   ],
   "source": [
    "client.get_day_clockings(employee=2, date=\"2020-07-02\")"
   ]
  },
  {
   "cell_type": "markdown",
   "metadata": {},
   "source": [
    "### Edit clocking"
   ]
  },
  {
   "cell_type": "code",
   "execution_count": 64,
   "metadata": {},
   "outputs": [
    {
     "data": {
      "text/plain": [
       "{'ok': True}"
      ]
     },
     "execution_count": 64,
     "metadata": {},
     "output_type": "execute_result"
    }
   ],
   "source": [
    "client.edit_clocking(employee=2, clocking_id=7, date=\"2020-07-02\", time=\"20:30\")"
   ]
  },
  {
   "cell_type": "markdown",
   "metadata": {},
   "source": [
    "### Delete clocking"
   ]
  },
  {
   "cell_type": "code",
   "execution_count": 65,
   "metadata": {},
   "outputs": [
    {
     "data": {
      "text/plain": [
       "{'ok': True}"
      ]
     },
     "execution_count": 65,
     "metadata": {},
     "output_type": "execute_result"
    }
   ],
   "source": [
    "client.delete_clocking(employee=2, clocking_id=7, date=\"2020-07-02\", time=\"20:30\")"
   ]
  },
  {
   "cell_type": "markdown",
   "metadata": {},
   "source": [
    "### Plannings"
   ]
  },
  {
   "cell_type": "code",
   "execution_count": 66,
   "metadata": {},
   "outputs": [],
   "source": [
    "planning = client.get_create_form(\"Persona\", action=\"NewPlanificacion\")\n",
    "planning.update({\n",
    "    \"name\": \"Testing Planning\",\n",
    "    \"allDay\": True,\n",
    "    \"allDayId\": 9, #Timetype ID\n",
    "    \"employee\": [2], #Employee ID\n",
    "    \"dateInterval\": client.get_days_offset([\"2020-10-10\", \"2020-10-11\"]),\n",
    "})\n",
    "# dateInterval is a list of int with differences between setting firstDate\n",
    "# can use get_days_offset() method"
   ]
  },
  {
   "cell_type": "code",
   "execution_count": 67,
   "metadata": {},
   "outputs": [
    {
     "data": {
      "text/plain": [
       "[{'type': 6,\n",
       "  'dataObject': {'id': 3,\n",
       "   '_c_': 'IncidenciaFutura',\n",
       "   'firstDay': '2020-10-10T00:00:00.0000000',\n",
       "   'rev': 47,\n",
       "   'modifiedBy': 'Admin',\n",
       "   'modified': '2020-08-05T19:19:48.5323882-03:00',\n",
       "   'createdBy': 'Admin',\n",
       "   'created': '2020-08-05T19:19:48.5023432-03:00',\n",
       "   'allDayId': 9,\n",
       "   'allDay': True,\n",
       "   'selfOwner': False,\n",
       "   'state': '0',\n",
       "   'name': 'Testing Planning',\n",
       "   'comments': '',\n",
       "   'intState': 0,\n",
       "   'isAccepted': True,\n",
       "   'lastDay': '2020-10-11T00:00:00.0000000',\n",
       "   'numDays': 2,\n",
       "   'confirmBy': 'Admin',\n",
       "   'confirm': '2020-08-05T19:19:48.5173865-03:00',\n",
       "   'describe': '2 días, del 10/10/2020 al 11/10/2020 Todo el día con incidencia Enfermedad',\n",
       "   'hasComment': False,\n",
       "   'error': '',\n",
       "   'stateDescription': 'Aceptada',\n",
       "   'describeTT': 'Enfermedad',\n",
       "   'isPending': False,\n",
       "   'isValidationPending': False,\n",
       "   'isDenied': False,\n",
       "   'totalDocs': 0,\n",
       "   'validatedDays': [],\n",
       "   'dateInterval': [6127, 6128],\n",
       "   'baValidElems': [1,\n",
       "    2,\n",
       "    3,\n",
       "    4,\n",
       "    5,\n",
       "    6,\n",
       "    7,\n",
       "    8,\n",
       "    9,\n",
       "    10,\n",
       "    11,\n",
       "    12,\n",
       "    13,\n",
       "    14,\n",
       "    15,\n",
       "    16,\n",
       "    17,\n",
       "    18,\n",
       "    19,\n",
       "    20,\n",
       "    21,\n",
       "    22,\n",
       "    23,\n",
       "    24],\n",
       "   'timeTypes': [9],\n",
       "   'nodesSource': [],\n",
       "   'employee': 2},\n",
       "  'message': 'El elemento se ha creado correctamente.',\n",
       "  'showActions': True}]"
      ]
     },
     "execution_count": 67,
     "metadata": {},
     "output_type": "execute_result"
    }
   ],
   "source": [
    "data = {\n",
    "    \"container\": \"IncidenciaFutura\",\n",
    "    \"dataObj\": planning,\n",
    "}\n",
    "client.save_element(**data)"
   ]
  },
  {
   "cell_type": "markdown",
   "metadata": {},
   "source": [
    "### Add planning with summary method"
   ]
  },
  {
   "cell_type": "code",
   "execution_count": 68,
   "metadata": {},
   "outputs": [
    {
     "data": {
      "text/plain": [
       "[{'type': 8,\n",
       "  'id': 'BAAAAAEAEAeAAA==',\n",
       "  'rev': 50,\n",
       "  'message': 'Realizada la solicitud de eliminación.'}]"
      ]
     },
     "execution_count": 68,
     "metadata": {},
     "output_type": "execute_result"
    }
   ],
   "source": [
    "# Delete last added element\n",
    "client.delete_element(container=\"IncidenciaFutura\", elements=[3])"
   ]
  },
  {
   "cell_type": "code",
   "execution_count": 69,
   "metadata": {
    "scrolled": true
   },
   "outputs": [
    {
     "data": {
      "text/plain": [
       "[{'type': 6,\n",
       "  'dataObject': {'id': 4,\n",
       "   '_c_': 'IncidenciaFutura',\n",
       "   'firstDay': '2020-10-10T00:00:00.0000000',\n",
       "   'rev': 53,\n",
       "   'modifiedBy': 'Admin',\n",
       "   'modified': '2020-08-05T19:20:18.5712279-03:00',\n",
       "   'createdBy': 'Admin',\n",
       "   'created': '2020-08-05T19:20:18.5457647-03:00',\n",
       "   'allDayId': 9,\n",
       "   'allDay': True,\n",
       "   'selfOwner': False,\n",
       "   'state': '0',\n",
       "   'name': 'Testing summary planning',\n",
       "   'comments': '',\n",
       "   'intState': 0,\n",
       "   'isAccepted': True,\n",
       "   'lastDay': '2020-10-11T00:00:00.0000000',\n",
       "   'numDays': 2,\n",
       "   'confirmBy': 'Admin',\n",
       "   'confirm': '2020-08-05T19:20:18.5586427-03:00',\n",
       "   'describe': '2 días, del 10/10/2020 al 11/10/2020 Todo el día con incidencia Enfermedad',\n",
       "   'hasComment': False,\n",
       "   'error': '',\n",
       "   'stateDescription': 'Aceptada',\n",
       "   'describeTT': 'Enfermedad',\n",
       "   'isPending': False,\n",
       "   'isValidationPending': False,\n",
       "   'isDenied': False,\n",
       "   'totalDocs': 0,\n",
       "   'validatedDays': [],\n",
       "   'dateInterval': [6127, 6128],\n",
       "   'baValidElems': [1,\n",
       "    2,\n",
       "    3,\n",
       "    4,\n",
       "    5,\n",
       "    6,\n",
       "    7,\n",
       "    8,\n",
       "    9,\n",
       "    10,\n",
       "    11,\n",
       "    12,\n",
       "    13,\n",
       "    14,\n",
       "    15,\n",
       "    16,\n",
       "    17,\n",
       "    18,\n",
       "    19,\n",
       "    20,\n",
       "    21,\n",
       "    22,\n",
       "    23,\n",
       "    24],\n",
       "   'timeTypes': [9],\n",
       "   'nodesSource': [],\n",
       "   'employee': 2},\n",
       "  'message': 'El elemento se ha creado correctamente.',\n",
       "  'showActions': True}]"
      ]
     },
     "execution_count": 69,
     "metadata": {},
     "output_type": "execute_result"
    }
   ],
   "source": [
    "client.add_planning(\n",
    "    employee=2,\n",
    "    name=\"Testing summary planning\",\n",
    "    timetype=9,\n",
    "    days=[\"2020-10-10\", \"2020-10-11\"],\n",
    ")"
   ]
  },
  {
   "cell_type": "markdown",
   "metadata": {},
   "source": [
    "### Edit planning"
   ]
  },
  {
   "cell_type": "code",
   "execution_count": 70,
   "metadata": {
    "scrolled": true
   },
   "outputs": [
    {
     "data": {
      "text/plain": [
       "{'total': 1,\n",
       " 'items': [{'id': 4, 'name': 'Testing summary planning', 'allDayId': 9}]}"
      ]
     },
     "execution_count": 70,
     "metadata": {},
     "output_type": "execute_result"
    }
   ],
   "source": [
    "# search planning\n",
    "planning_query = nt6.Query(\n",
    "    fields=[\"id\", \"name\", \"allDayId\", ],\n",
    "    filterExp=\"((this.employee.nif = '987321654') && (this.firstDay = '2020-10-10'))\"\n",
    ")\n",
    "client.get_elements(container=\"IncidenciaFutura\", query=planning_query)"
   ]
  },
  {
   "cell_type": "code",
   "execution_count": 71,
   "metadata": {},
   "outputs": [
    {
     "data": {
      "text/plain": [
       "[6127, 6128]"
      ]
     },
     "execution_count": 71,
     "metadata": {},
     "output_type": "execute_result"
    }
   ],
   "source": [
    "edit_planning = client.get_element_def(container=\"IncidenciaFutura\", elements=[4])\n",
    "edit_planning = edit_planning[0]\n",
    "edit_planning[\"dateInterval\"]"
   ]
  },
  {
   "cell_type": "code",
   "execution_count": 72,
   "metadata": {
    "scrolled": true
   },
   "outputs": [
    {
     "data": {
      "text/plain": [
       "[6127, 6128, 6129]"
      ]
     },
     "execution_count": 72,
     "metadata": {},
     "output_type": "execute_result"
    }
   ],
   "source": [
    "# ever fix employe; must be a list\n",
    "edit_planning[\"employee\"] = [edit_planning.get(\"employee\")]\n",
    "\n",
    "# apply your changes\n",
    "day_to_add = client.get_days_offset([\"2020-10-12\"])\n",
    "edit_planning[\"dateInterval\"].extend(day_to_add)\n",
    "edit_planning[\"dateInterval\"]"
   ]
  },
  {
   "cell_type": "code",
   "execution_count": 73,
   "metadata": {
    "scrolled": true
   },
   "outputs": [
    {
     "data": {
      "text/plain": [
       "'El elemento se ha modificado correctamente.'"
      ]
     },
     "execution_count": 73,
     "metadata": {},
     "output_type": "execute_result"
    }
   ],
   "source": [
    "response = client.save_element(\n",
    "    container=\"IncidenciaFutura\",\n",
    "    elements=[4],\n",
    "    dataObj=edit_planning\n",
    ")\n",
    "response[0].get('message')"
   ]
  },
  {
   "cell_type": "markdown",
   "metadata": {},
   "source": [
    "### Add Activator"
   ]
  },
  {
   "cell_type": "code",
   "execution_count": 74,
   "metadata": {},
   "outputs": [
    {
     "data": {
      "text/plain": [
       "{'total': 1, 'items': [{'id': 1, 'name': 'APROBACION HS'}]}"
      ]
     },
     "execution_count": 74,
     "metadata": {},
     "output_type": "execute_result"
    }
   ],
   "source": [
    "client.get_elements(\"Activadores\")"
   ]
  },
  {
   "cell_type": "code",
   "execution_count": 75,
   "metadata": {
    "scrolled": false
   },
   "outputs": [
    {
     "data": {
      "text/plain": [
       "[{'type': 6,\n",
       "  'dataObject': {'_c_': 'UsoActivadores',\n",
       "   'id': 3,\n",
       "   'name': 'Testing summary activator',\n",
       "   'modified': '0001-01-01T00:00:00.0000000',\n",
       "   'createdBy': 'Admin',\n",
       "   'rev': 40,\n",
       "   'created': '2020-08-05T19:21:16.8877146-03:00',\n",
       "   'numDays': 1,\n",
       "   'lastDay': '2020-07-03T00:00:00.0000000',\n",
       "   'firstDay': '2020-07-03T00:00:00.0000000',\n",
       "   'comment': 'testing',\n",
       "   'employees': [2],\n",
       "   'activators': [{'value': 1, 'activator': 1}],\n",
       "   'days': [6028],\n",
       "   'nodesSource': [],\n",
       "   'multiName': {'es-ES': 'Testing summary activator'},\n",
       "   'validActvs': [1]},\n",
       "  'message': 'El elemento se ha creado correctamente.',\n",
       "  'showActions': True}]"
      ]
     },
     "execution_count": 75,
     "metadata": {},
     "output_type": "execute_result"
    }
   ],
   "source": [
    "client.add_activator(\n",
    "    name=\"Testing summary activator\",\n",
    "    employees=[2],       #list of id's\n",
    "    days=[\"2020-07-03\"], #list of str with isoformat date\n",
    "    activator=1,         #activator id\n",
    "    value=1,             #required depending activator config \n",
    "    comment=\"testing\"    #optional\n",
    ")"
   ]
  },
  {
   "cell_type": "markdown",
   "metadata": {},
   "source": [
    "### Get activity monitor"
   ]
  },
  {
   "cell_type": "code",
   "execution_count": 76,
   "metadata": {
    "scrolled": false
   },
   "outputs": [
    {
     "data": {
      "text/plain": [
       "[{'id': 2,\n",
       "  'days': [{'id': 6027,\n",
       "    'idAno': 2,\n",
       "    'mars': [{'m': 540,\n",
       "      'i': 0,\n",
       "      't': 18,\n",
       "      'e': 268435457,\n",
       "      'o': 8,\n",
       "      'c': '009933'}],\n",
       "    'horari': [{'mi': 540,\n",
       "      'mf': 720,\n",
       "      'ia': False,\n",
       "      'fa': True,\n",
       "      'tv': 2,\n",
       "      'idv': 5},\n",
       "     {'mi': 780, 'mf': 1080, 'ia': True, 'fa': True, 'tv': 2, 'idv': 5},\n",
       "     {'mi': 720, 'mf': 780, 'ia': True, 'fa': True, 'tv': 2, 'idv': 9}],\n",
       "    'idJor': 5,\n",
       "    'bJor': [{'startTime': 0, 'endTime': 1440}]}],\n",
       "  'planInfos': {}},\n",
       " {'info': {}}]"
      ]
     },
     "execution_count": 76,
     "metadata": {},
     "output_type": "execute_result"
    }
   ],
   "source": [
    "client.get_activity_monitor(employees=[2], _from=\"2020-07-02\", to=\"2020-07-03\")"
   ]
  },
  {
   "cell_type": "markdown",
   "metadata": {},
   "source": [
    "#### Data structured like:\n",
    "```python\n",
    "[{'id': employee_ID,\n",
    "  'days': [{\n",
    "    'id': offset_day_number #(settings.firstDate),\n",
    "    'idAno': anomaly_id,\n",
    "    'mars': [{ # Clockings\n",
    "      'm': minute_of_day, \n",
    "      'i': timtype_id,\n",
    "      't': type,\n",
    "      'e': state,\n",
    "      'o': origin,\n",
    "      'c': color}],\n",
    "    'horari': [{ # Jornada\n",
    "      'mi': start,\n",
    "      'mf': end,\n",
    "      'ia': False,\n",
    "      'fa': True,\n",
    "      'tv': 2,\n",
    "      'idv': 5},\n",
    "     {'mi': 780, 'mf': 1080, 'ia': True, 'fa': True, 'tv': 2, 'idv': 5},\n",
    "     {'mi': 720, 'mf': 780, 'ia': True, 'fa': True, 'tv': 2, 'idv': 9}],\n",
    "    'idJor': shift_id,\n",
    "    'bJor': [{'startTime': shift_start, 'endTime': shift_end}]}],\n",
    "  'planInfos': {}},\n",
    " {'info': {}}]\n",
    "```"
   ]
  },
  {
   "cell_type": "markdown",
   "metadata": {},
   "source": [
    "### Get cube results (like results query window)"
   ]
  },
  {
   "cell_type": "code",
   "execution_count": 5,
   "metadata": {
    "scrolled": false
   },
   "outputs": [
    {
     "data": {
      "text/plain": [
       "[{'dimKey': [1, 'Lucyk, Lucas'],\n",
       "  'values': [0, 1440],\n",
       "  'children': [{'dimKey': ['2020-07-02'], 'values': [0, 480]},\n",
       "   {'dimKey': ['2020-07-03'], 'values': [0, 480]},\n",
       "   {'dimKey': ['2020-07-04'], 'values': [0, 480]}]},\n",
       " {'dimKey': [2, 'Doe, John'],\n",
       "  'values': [480, 960],\n",
       "  'children': [{'dimKey': ['2020-07-02'], 'values': [0, 480]},\n",
       "   {'dimKey': ['2020-07-03'], 'values': [480, 480]},\n",
       "   {'dimKey': ['2020-07-04'], 'values': [0, 0]}]}]"
      ]
     },
     "execution_count": 5,
     "metadata": {},
     "output_type": "execute_result"
    }
   ],
   "source": [
    "client.get_cube_results(\n",
    "    dateIni=\"2020-07-02\",\n",
    "    dateEnd=\"2020-07-04\",\n",
    "    dimensions=[\n",
    "        [\"id\", \"Apellidos_Nombre\"],\n",
    "        [\"date\"],\n",
    "        [\"ResultValue_C.Min.NORMALES\", \"ResultValue_S.Min.Jornada_teorica\"]\n",
    "    ]\n",
    ")"
   ]
  },
  {
   "cell_type": "markdown",
   "metadata": {},
   "source": [
    "#### For more information see the documentation"
   ]
  },
  {
   "cell_type": "code",
   "execution_count": 15,
   "metadata": {
    "scrolled": true
   },
   "outputs": [
    {
     "name": "stdout",
     "output_type": "stream",
     "text": [
      "Help on method get_cube_results in module nettime6:\n",
      "\n",
      "get_cube_results(dimensions: list, dateIni: str, dateEnd: str, interfilters: list = [], filters: list = [], ids: list = []) method of nettime6.Client instance\n",
      "    Gets nettime results using the \"Results Query\" window engine.\n",
      "    \n",
      "    :param dimensions: List of list where each one contains the desired \n",
      "        fields or results. The order of the values does matter.\n",
      "    :param dateIni: Start day where you want to calculate.\n",
      "    :param dateIni: End day where you want to calculate.\n",
      "    :param interfilters: (Optional) If you use the dimension \"system\", \n",
      "        specify the ids of the results in this parameter.\n",
      "    :param filters: (Optional) Nettime compatible filter expression.\n",
      "    :param ids: (Optional) List of employee ids in case you want to filter.\n",
      "    \n",
      "    :return: :class:`list` object\n",
      "    :rtype: json\n",
      "\n"
     ]
    }
   ],
   "source": [
    "help(client.get_cube_results)"
   ]
  },
  {
   "cell_type": "markdown",
   "metadata": {},
   "source": [
    "#### Another example..."
   ]
  },
  {
   "cell_type": "code",
   "execution_count": 17,
   "metadata": {},
   "outputs": [
    {
     "data": {
      "text/plain": [
       "{'total': 13,\n",
       " 'items': [{'id': 0, 'name': 'Productivas en el centro'},\n",
       "  {'id': 1, 'name': 'Productivas fuera del centro'},\n",
       "  {'id': 2, 'name': 'No productivas en el centro'},\n",
       "  {'id': 3, 'name': 'No productivas fuera del centro'},\n",
       "  {'id': 4, 'name': 'Ausencias justificadas'},\n",
       "  {'id': 5, 'name': 'Ausencias no justificadas'},\n",
       "  {'id': 6, 'name': 'Productivas'},\n",
       "  {'id': 7, 'name': 'No productivas'},\n",
       "  {'id': 8, 'name': 'Trabajadas'},\n",
       "  {'id': 9, 'name': 'Pausas'},\n",
       "  {'id': 10, 'name': 'Retrasos'},\n",
       "  {'id': 11, 'name': 'Jornada teórica'},\n",
       "  {'id': 12, 'name': 'Filtro día'}]}"
      ]
     },
     "execution_count": 17,
     "metadata": {},
     "output_type": "execute_result"
    }
   ],
   "source": [
    "# get system result ids\n",
    "client.get_elements(\"SystemResult\")"
   ]
  },
  {
   "cell_type": "code",
   "execution_count": 26,
   "metadata": {
    "scrolled": true
   },
   "outputs": [
    {
     "data": {
      "text/plain": [
       "[{'dimKey': [1, 'Lucyk, Lucas'],\n",
       "  'values': [1440],\n",
       "  'children': [{'dimKey': ['2020-07-02'],\n",
       "    'values': [480],\n",
       "    'children': [{'dimKey': ['Jornada teórica'], 'values': [480]}]},\n",
       "   {'dimKey': ['2020-07-03'],\n",
       "    'values': [480],\n",
       "    'children': [{'dimKey': ['Jornada teórica'], 'values': [480]}]},\n",
       "   {'dimKey': ['2020-07-04'],\n",
       "    'values': [480],\n",
       "    'children': [{'dimKey': ['Jornada teórica'], 'values': [480]}]}]},\n",
       " {'dimKey': [2, 'Doe, John'],\n",
       "  'values': [1475],\n",
       "  'children': [{'dimKey': ['2020-07-02'],\n",
       "    'values': [480],\n",
       "    'children': [{'dimKey': ['Jornada teórica'], 'values': [480]}]},\n",
       "   {'dimKey': ['2020-07-03'],\n",
       "    'values': [995],\n",
       "    'children': [{'dimKey': ['Productivas'], 'values': [515]},\n",
       "     {'dimKey': ['Jornada teórica'], 'values': [480]}]}]}]"
      ]
     },
     "execution_count": 26,
     "metadata": {},
     "output_type": "execute_result"
    }
   ],
   "source": [
    "# get results with system engine\n",
    "client.get_cube_results(\n",
    "    dateIni=\"2020-07-02\",\n",
    "    dateEnd=\"2020-07-04\",\n",
    "    dimensions=[\n",
    "        [\"id\", \"Apellidos_Nombre\"],\n",
    "        [\"date\"],\n",
    "        [\"sistema\"],\n",
    "        [\"interTotal\"]\n",
    "    ],\n",
    "    interFilters=[{\n",
    "        \"dimension\": \"sistema\",\n",
    "        \"elements\": [6, 11] #Productivas and Jornada teórica\n",
    "    }]\n",
    ")"
   ]
  },
  {
   "cell_type": "markdown",
   "metadata": {},
   "source": [
    "### Assign calendar"
   ]
  },
  {
   "cell_type": "code",
   "execution_count": 139,
   "metadata": {},
   "outputs": [
    {
     "data": {
      "text/plain": [
       "{'id': 2,\n",
       " '_c_': '',\n",
       " 'created': '0001-01-01T00:00:00.0000000',\n",
       " 'modified': '0001-01-01T00:00:00.0000000',\n",
       " 'name': '',\n",
       " 'rev': 0,\n",
       " 'years': [{'Year': 2012, 'days': {}},\n",
       "  {'Year': 2016, 'days': {}},\n",
       "  {'Year': 2017, 'days': {}},\n",
       "  {'Year': 2018, 'days': {}},\n",
       "  {'Year': 2019, 'days': {}},\n",
       "  {'Year': 2020,\n",
       "   'days': {'0': {'shifts': [4]},\n",
       "    '1': {'shifts': [4]},\n",
       "    '33': {'shifts': [3]},\n",
       "    '34': {'shifts': [3]},\n",
       "    '35': {'shifts': [3]},\n",
       "    '36': {'shifts': [3]},\n",
       "    '37': {'shifts': [3]},\n",
       "    '54': {'shifts': [3]},\n",
       "    '55': {'shifts': [3]},\n",
       "    '56': {'shifts': [3]},\n",
       "    '57': {'shifts': [3]},\n",
       "    '58': {'shifts': [3]},\n",
       "    '217': {'shifts': [2]}}},\n",
       "  {'Year': 2021, 'days': {}}],\n",
       " 'Cycles': [],\n",
       " 'Calendars': [{'id': 2, 'name': 'Flexible 8h'}],\n",
       " 'nodesSource': [],\n",
       " 'multiName': {'es-ES': ''}}"
      ]
     },
     "execution_count": 139,
     "metadata": {},
     "output_type": "execute_result"
    }
   ],
   "source": [
    "edit_employee = client.set_employee_calendar(employee=2, calendar=\"Flexible 8h\")\n",
    "edit_employee[0].get('dataObject').get('Calendar')"
   ]
  },
  {
   "cell_type": "markdown",
   "metadata": {},
   "source": [
    "### Assign department"
   ]
  },
  {
   "cell_type": "code",
   "execution_count": 16,
   "metadata": {
    "scrolled": true
   },
   "outputs": [
    {
     "data": {
      "text/plain": [
       "[{'id': 17}]"
      ]
     },
     "execution_count": 16,
     "metadata": {},
     "output_type": "execute_result"
    }
   ],
   "source": [
    "path = [\"SPEC SA\", \"Argentina\", \"CABA\", \"Information Technology\", \"Help Desk\"]\n",
    "edit_employee = client.set_employee_department(employee=2, node_path=path)\n",
    "edit_employee[0].get('dataObject').get('Departments')"
   ]
  },
  {
   "cell_type": "markdown",
   "metadata": {},
   "source": [
    "### Get departments"
   ]
  },
  {
   "cell_type": "code",
   "execution_count": null,
   "metadata": {},
   "outputs": [],
   "source": []
  },
  {
   "cell_type": "markdown",
   "metadata": {},
   "source": [
    "### Disconnect"
   ]
  },
  {
   "cell_type": "code",
   "execution_count": 51,
   "metadata": {},
   "outputs": [
    {
     "data": {
      "text/plain": [
       "False"
      ]
     },
     "execution_count": 51,
     "metadata": {},
     "output_type": "execute_result"
    }
   ],
   "source": [
    "client.disconnect()\n",
    "client.is_connected"
   ]
  },
  {
   "cell_type": "code",
   "execution_count": 7,
   "metadata": {},
   "outputs": [
    {
     "data": {
      "text/plain": [
       "[{'_c_': 'Persona',\n",
       "  'id': -1,\n",
       "  'created': '0001-01-01T00:00:00.0000000',\n",
       "  'changePassword': False,\n",
       "  'firstWONumDays': 0,\n",
       "  'firstWO': -1,\n",
       "  'firstWANumDays': 0,\n",
       "  'firstWA': -1,\n",
       "  'firstTTNumDays': 0,\n",
       "  'firstTT': -1,\n",
       "  'termVoice': False,\n",
       "  'timeoutEnrollMinutes': 0,\n",
       "  'timeoutEnrollDate': '0001-01-01T00:00:00.0000000',\n",
       "  'enrollActive': False,\n",
       "  'sex': 0,\n",
       "  'Visitas.RecibirVisitas': False,\n",
       "  'securityLevel': 0,\n",
       "  'ticketEmail': False,\n",
       "  'timeoutEnroll': '0001-01-01T00:00:00.0000000',\n",
       "  'useTasksWE': False,\n",
       "  'useTasksWO': False,\n",
       "  'useTasksWA': False,\n",
       "  'useTasks': False,\n",
       "  'ProfaceAdmin': False,\n",
       "  'MobileClocking': False,\n",
       "  'RemoteClocking': False,\n",
       "  'Portal.DisablePasswordChange': False,\n",
       "  'Portal.DisableCalendar': False,\n",
       "  'Portal.DisablePlannings': False,\n",
       "  'Portal.DisableVistaResumen': False,\n",
       "  'Portal.DisableMovimientos': False,\n",
       "  'Portal.NoPuedeEditar': False,\n",
       "  'Portal.NoRequiereValidacionEnCorreccion': False,\n",
       "  'Portal.UsaPortal': False,\n",
       "  'virtualCard': False,\n",
       "  'geolocalize': 'geoNever',\n",
       "  'offline': False,\n",
       "  'totalDocs': 0,\n",
       "  'Portal.ChangeLanguage': True,\n",
       "  'rev': 0,\n",
       "  'modified': '0001-01-01T00:00:00.0000000',\n",
       "  'birthdate': '0001-01-01T00:00:00.0000000',\n",
       "  'Visitas.ProgramarVisitas': False,\n",
       "  'acceptAllReaders': False,\n",
       "  'acceptAllTT': False,\n",
       "  'NoAttendance': False,\n",
       "  'RegisterSystemDate': '2020-08-27T00:00:00.0000000-03:00',\n",
       "  'htmlPortal': False,\n",
       "  'inactive': True,\n",
       "  'pwdCantChange': False,\n",
       "  'exboss': False,\n",
       "  'pwdNextLogin': False,\n",
       "  'pwdExpires': True,\n",
       "  'pwdRetries': 0,\n",
       "  'lastPwdChange': '0001-01-01T00:00:00.0000000',\n",
       "  'NumFingers': 0,\n",
       "  'PIN': 0,\n",
       "  'FirstDayNotValid': '2004-01-01T00:00:00.0000000',\n",
       "  'FingerIEVO2EnrollDate': '0001-01-01T00:00:00.0000000',\n",
       "  'Finger2EnrollDate': '0001-01-01T00:00:00.0000000',\n",
       "  'Finger1EnrollDate': '0001-01-01T00:00:00.0000000',\n",
       "  'LastName': '',\n",
       "  'FingerIEVO1EnrollDate': '0001-01-01T00:00:00.0000000',\n",
       "  'ActiveDays': {'validity': [{'start': '2020-08-27T00:00:00.0000000-03:00',\n",
       "     'end': '2040-12-31T00:00:00.0000000'}]},\n",
       "  'Readers': [],\n",
       "  'Cards': [],\n",
       "  'Calendar': {'id': -1,\n",
       "   '_c_': '',\n",
       "   'created': '0001-01-01T00:00:00.0000000',\n",
       "   'modified': '0001-01-01T00:00:00.0000000',\n",
       "   'name': '-1',\n",
       "   'rev': 0,\n",
       "   'Cycles': [],\n",
       "   'Calendars': [],\n",
       "   'nodesSource': [],\n",
       "   'multiName': {'es-ES': '-1'}},\n",
       "  'doAccess': {'total': True, 'offsetIn': 0, 'offsetOut': 0},\n",
       "  'TimeTypesEmployee': [],\n",
       "  'Departments': [],\n",
       "  'enrollDevices': [],\n",
       "  'geolocSource': [{'data': 'geoAlways', 'label': 'Siempre'},\n",
       "   {'data': 'geoIfPossible', 'label': 'Si es posible'},\n",
       "   {'data': 'geoNever', 'label': 'Nunca'}],\n",
       "  'source': [{'id': 1,\n",
       "    'name': 'Proximity',\n",
       "    'displayName': 'Proximity',\n",
       "    'description': '',\n",
       "    'type': 'terminal',\n",
       "    'icon': 'Terminal',\n",
       "    'children': [{'id': 2,\n",
       "      'displayName': 'Proximity_1',\n",
       "      'type': 'reader',\n",
       "      'description': 'Lector 2 del terminal Proximity',\n",
       "      'icon': 'Lector',\n",
       "      'children': [{'type': 'device',\n",
       "        'name': 'CD1',\n",
       "        'displayName': 'Lector de proximidad interno conectado en CD1',\n",
       "        'description': 'CD1',\n",
       "        'default': 1,\n",
       "        'deviceType': 'Tarjeta',\n",
       "        'hasElement': True,\n",
       "        'expr': '',\n",
       "        'allow': False,\n",
       "        'id': 'Proximity_Proximity_1_CD1'}]}]},\n",
       "   {'id': 3,\n",
       "    'name': 'Fingerprint',\n",
       "    'displayName': 'Fingerprint',\n",
       "    'description': '',\n",
       "    'type': 'terminal',\n",
       "    'icon': 'Terminal',\n",
       "    'children': [{'id': 1,\n",
       "      'displayName': 'Fingerprint_1',\n",
       "      'type': 'reader',\n",
       "      'description': 'Lector 1 del terminal Fingerprint',\n",
       "      'icon': 'Lector',\n",
       "      'children': [{'type': 'device',\n",
       "        'name': 'COM1',\n",
       "        'displayName': 'Lector de huella interno conectado en COM1',\n",
       "        'description': 'COM1',\n",
       "        'default': 1,\n",
       "        'deviceType': 'Huella',\n",
       "        'hasElement': True,\n",
       "        'expr': '',\n",
       "        'allow': False,\n",
       "        'id': 'Fingerprint_Fingerprint_1_COM1'},\n",
       "       {'type': 'device',\n",
       "        'name': 'BI1',\n",
       "        'displayName': 'Teclado interno conectado en BI1',\n",
       "        'description': 'BI1',\n",
       "        'default': 1,\n",
       "        'deviceType': 'Teclado',\n",
       "        'hasElement': False,\n",
       "        'expr': '',\n",
       "        'allow': False,\n",
       "        'id': 'Fingerprint_Fingerprint_1_BI1'}]}]}],\n",
       "  'initialValuesList': [],\n",
       "  'nodesSource': [{'data': '1', 'label': 'SPEC SA'},\n",
       "   {'data': '2', 'label': 'SPEC SA · Argentina'},\n",
       "   {'data': '15', 'label': 'SPEC SA · Argentina · CABA'},\n",
       "   {'data': '16',\n",
       "    'label': 'SPEC SA · Argentina · CABA · Information Technology'},\n",
       "   {'data': '17',\n",
       "    'label': 'SPEC SA · Argentina · CABA · Information Technology · Help Desk'}],\n",
       "  'languages': [{'data': 'ca-ES', 'label': 'Català'},\n",
       "   {'data': 'en-GB', 'label': 'English'},\n",
       "   {'data': 'es-ES', 'label': 'Español'},\n",
       "   {'data': 'eu-ES', 'label': 'Euskara'},\n",
       "   {'data': 'fr-FR', 'label': 'Français'},\n",
       "   {'data': 'pt-PT', 'label': 'Português'}]}]"
      ]
     },
     "execution_count": 7,
     "metadata": {},
     "output_type": "execute_result"
    }
   ],
   "source": [
    "client.get_element_def(container=\"Persona\", elements=[4])"
   ]
  },
  {
   "cell_type": "code",
   "execution_count": 11,
   "metadata": {},
   "outputs": [
    {
     "data": {
      "text/plain": [
       "{'total': 2,\n",
       " 'items': [{'nif': '9876451',\n",
       "   'name': 'GGDOE',\n",
       "   'LastName': 'Doe',\n",
       "   'nameEmployee': 'John',\n",
       "   'modified': '2020-08-27T13:43:23.9364016-03:00'},\n",
       "  {'nif': '12345678',\n",
       "   'name': 'N08915465',\n",
       "   'LastName': 'Spec',\n",
       "   'nameEmployee': 'Argentina',\n",
       "   'modified': '2020-08-27T14:17:29.5623089-03:00'}]}"
      ]
     },
     "execution_count": 11,
     "metadata": {},
     "output_type": "execute_result"
    }
   ],
   "source": [
    "query = nt6.Query(\n",
    "    fields=[\"nif\", \"name\", \"LastName\", \"nameEmployee\", \"modified\"],\n",
    "    filterExp='this.modified >= \"2020-08-15\"'\n",
    ")\n",
    "client.get_employees(query=query)"
   ]
  },
  {
   "cell_type": "code",
   "execution_count": null,
   "metadata": {},
   "outputs": [],
   "source": []
  }
 ],
 "metadata": {
  "kernelspec": {
   "display_name": "Python 3.8.2 64-bit",
   "language": "python",
   "name": "python38264bit4e4149a56a1f462db0e2e44967667e66"
  },
  "language_info": {
   "codemirror_mode": {
    "name": "ipython",
    "version": 3
   },
   "file_extension": ".py",
   "mimetype": "text/x-python",
   "name": "python",
   "nbconvert_exporter": "python",
   "pygments_lexer": "ipython3",
   "version": "3.8.5"
  }
 },
 "nbformat": 4,
 "nbformat_minor": 4
}
