{
 "cells": [
  {
   "cell_type": "markdown",
   "metadata": {},
   "source": [
    "# SPEC Utils\n",
    "sdks for SPEC, SA and third applications"
   ]
  },
  {
   "cell_type": "markdown",
   "metadata": {},
   "source": [
    "## Install"
   ]
  },
  {
   "cell_type": "markdown",
   "metadata": {},
   "source": [
    "Can use: \n",
    "```shell\n",
    "pip install spec-utils\n",
    "```\n",
    "Or:\n",
    "\n",
    "```shell\n",
    "python -m pip install spec-utils\n",
    "```"
   ]
  },
  {
   "cell_type": "markdown",
   "metadata": {},
   "source": [
    "## Certronic API"
   ]
  },
  {
   "cell_type": "markdown",
   "metadata": {},
   "source": [
    "### Import module"
   ]
  },
  {
   "cell_type": "code",
   "execution_count": null,
   "metadata": {},
   "outputs": [],
   "source": [
    "from spec_utils import certronic"
   ]
  },
  {
   "cell_type": "markdown",
   "metadata": {},
   "source": [
    "#### Dev only *"
   ]
  },
  {
   "cell_type": "code",
   "execution_count": 3,
   "metadata": {},
   "outputs": [],
   "source": [
    "import sys, os\n",
    "import datetime\n",
    "#from urllib.parse import urlparse, urlencode, urljoin\n",
    "from importlib import reload"
   ]
  },
  {
   "cell_type": "code",
   "execution_count": 4,
   "metadata": {},
   "outputs": [],
   "source": [
    "sys.path.append(os.path.join(os.getcwd(), '..', 'spec_utils'))\n",
    "import certronic"
   ]
  },
  {
   "cell_type": "code",
   "execution_count": 5,
   "metadata": {},
   "outputs": [
    {
     "data": {
      "text/plain": [
       "<module 'certronic' from 'D:\\\\Documentos\\\\Programming\\\\Python\\\\spec\\\\sdks\\\\notebooks\\\\..\\\\spec_utils\\\\certronic.py'>"
      ]
     },
     "execution_count": 5,
     "metadata": {},
     "output_type": "execute_result"
    }
   ],
   "source": [
    "reload(certronic)"
   ]
  },
  {
   "cell_type": "markdown",
   "metadata": {},
   "source": [
    "### Client settings"
   ]
  },
  {
   "cell_type": "code",
   "execution_count": 10,
   "metadata": {},
   "outputs": [],
   "source": [
    "URL = '<your-base-url>'\n",
    "APIKEY = '<your-apikey>'"
   ]
  },
  {
   "cell_type": "markdown",
   "metadata": {},
   "source": [
    "### Create a client"
   ]
  },
  {
   "cell_type": "code",
   "execution_count": 6,
   "metadata": {},
   "outputs": [
    {
     "name": "stdout",
     "output_type": "stream",
     "text": [
      "Client for https://qa7.certronicweb.com/ft/feature/ws_Acindar_marcajes/WebServices/acindar/\n"
     ]
    }
   ],
   "source": [
    "client = certronic.Client(url=URL, apikey=APIKEY)\n",
    "print(client)"
   ]
  },
  {
   "cell_type": "markdown",
   "metadata": {},
   "source": [
    "### Get Employees"
   ]
  },
  {
   "cell_type": "code",
   "execution_count": 93,
   "metadata": {
    "scrolled": true
   },
   "outputs": [
    {
     "data": {
      "text/plain": [
       "{'count': 3875,\n",
       " 'page': '1',\n",
       " 'pageSize': '5',\n",
       " 'employees': [{'id': '6',\n",
       "   'dni': '18538262',\n",
       "   'cuil': '20185382622',\n",
       "   'lastName': 'GIMENEZ',\n",
       "   'firstName': 'ANGEL MARCELO FABIAN',\n",
       "   'isActive': True,\n",
       "   'company': {'cuit': '30556408390', 'name': 'ENTRE S.R.L.'},\n",
       "   'access': [{'extCode': '10', 'name': 'VC', 'hasAccess': False}],\n",
       "   'invalidDocs': [{'name': 'Formulario de entrega de elementos de seguridad completo y firmado (EPP) y Constancia de capacitación o constancia de recepción de manual',\n",
       "     'dueDate': '0000-00-00'},\n",
       "    {'name': 'Seguro ART (nómina + cláusula de no repetición a favor de Acindar, SA)',\n",
       "     'dueDate': '2021-03-15'},\n",
       "    {'name': 'Libre Deuda Sindical/judicial/conflicto',\n",
       "     'dueDate': '0000-00-00'}]},\n",
       "  {'id': '10',\n",
       "   'dni': '20847162',\n",
       "   'cuil': '20208471628',\n",
       "   'lastName': 'AVALOS',\n",
       "   'firstName': 'MARCELO VIVIANO',\n",
       "   'isActive': True,\n",
       "   'company': {'cuit': '30556408390', 'name': 'ENTRE S.R.L.'},\n",
       "   'access': [{'extCode': '10', 'name': 'VC', 'hasAccess': False}],\n",
       "   'invalidDocs': [{'name': 'Formulario de entrega de elementos de seguridad completo y firmado (EPP) y Constancia de capacitación o constancia de recepción de manual',\n",
       "     'dueDate': '0000-00-00'},\n",
       "    {'name': 'Seguro ART (nómina + cláusula de no repetición a favor de Acindar, SA)',\n",
       "     'dueDate': '2021-03-15'},\n",
       "    {'name': 'Libre Deuda Sindical/judicial/conflicto',\n",
       "     'dueDate': '0000-00-00'}]},\n",
       "  {'id': '14',\n",
       "   'dni': '21006415',\n",
       "   'cuil': '20210064150',\n",
       "   'lastName': 'GALLARDO',\n",
       "   'firstName': 'ANGEL OSCAR',\n",
       "   'isActive': True,\n",
       "   'company': {'cuit': '30556408390', 'name': 'ENTRE S.R.L.'},\n",
       "   'access': [{'extCode': '10', 'name': 'VC', 'hasAccess': False}],\n",
       "   'invalidDocs': [{'name': 'Exámenes Médicos aprobados por Servicio Médico',\n",
       "     'dueDate': '2021-03-08'},\n",
       "    {'name': 'Formulario de entrega de elementos de seguridad completo y firmado (EPP) y Constancia de capacitación o constancia de recepción de manual',\n",
       "     'dueDate': '0000-00-00'},\n",
       "    {'name': 'Seguro ART (nómina + cláusula de no repetición a favor de Acindar, SA)',\n",
       "     'dueDate': '2021-03-15'},\n",
       "    {'name': 'Libre Deuda Sindical/judicial/conflicto',\n",
       "     'dueDate': '0000-00-00'}]},\n",
       "  {'id': '18',\n",
       "   'dni': '21601254',\n",
       "   'cuil': '20216012543',\n",
       "   'lastName': 'GALLARDO',\n",
       "   'firstName': 'GUSTAVO RAMON',\n",
       "   'isActive': True,\n",
       "   'company': {'cuit': '30556408390', 'name': 'ENTRE S.R.L.'},\n",
       "   'access': [{'extCode': '10', 'name': 'VC', 'hasAccess': False}],\n",
       "   'invalidDocs': [{'name': 'Formulario de entrega de elementos de seguridad completo y firmado (EPP) y Constancia de capacitación o constancia de recepción de manual',\n",
       "     'dueDate': '0000-00-00'},\n",
       "    {'name': 'Licencia de conducir correspondiente', 'dueDate': '2021-01-27'},\n",
       "    {'name': 'Licencia Nacional de Transporte Interjurisdiccional (LINTI)',\n",
       "     'dueDate': '2021-01-27'},\n",
       "    {'name': 'Seguro ART (nómina + cláusula de no repetición a favor de Acindar, SA)',\n",
       "     'dueDate': '2021-03-15'},\n",
       "    {'name': 'Libre Deuda Sindical/judicial/conflicto',\n",
       "     'dueDate': '0000-00-00'}]},\n",
       "  {'id': '26',\n",
       "   'dni': '22954688',\n",
       "   'cuil': '20229546881',\n",
       "   'lastName': 'GIBERT',\n",
       "   'firstName': 'ELOY JORGE GUILLERMO',\n",
       "   'isActive': True,\n",
       "   'company': {'cuit': '30556408390', 'name': 'ENTRE S.R.L.'},\n",
       "   'access': [{'extCode': '10', 'name': 'VC', 'hasAccess': False}],\n",
       "   'invalidDocs': [{'name': 'Formulario de entrega de elementos de seguridad completo y firmado (EPP) y Constancia de capacitación o constancia de recepción de manual',\n",
       "     'dueDate': '0000-00-00'},\n",
       "    {'name': 'Seguro ART (nómina + cláusula de no repetición a favor de Acindar, SA)',\n",
       "     'dueDate': '2021-03-15'},\n",
       "    {'name': 'Libre Deuda Sindical/judicial/conflicto',\n",
       "     'dueDate': '0000-00-00'}]}]}"
      ]
     },
     "execution_count": 93,
     "metadata": {},
     "output_type": "execute_result"
    }
   ],
   "source": [
    "client.get_employees(\n",
    "    page=1,\n",
    "    pageSize=5,\n",
    "    includeDocuments=True,\n",
    "    updatedFrom=datetime.datetime(2021, 3, 17, 19, 0)\n",
    ")"
   ]
  },
  {
   "cell_type": "markdown",
   "metadata": {},
   "source": [
    "### Import Clockings"
   ]
  },
  {
   "cell_type": "markdown",
   "metadata": {},
   "source": [
    "#### Clockings prepare"
   ]
  },
  {
   "cell_type": "code",
   "execution_count": 7,
   "metadata": {},
   "outputs": [],
   "source": [
    "clockings = [{\n",
    "    \"id\": 3456,\n",
    "    \"center\": \"BA01\",\n",
    "    \"ss\": \"12-12345678-9\",\n",
    "    \"action\": \"in\",\n",
    "    \"datetime\": \"2020-02-11T12:39:00.000Z\"\n",
    "},{\n",
    "    \"id\": 3457,\n",
    "    \"center\": \"BA01\",\n",
    "    \"ss\": \"12-12345678-9\",\n",
    "    \"action\": \"out\",\n",
    "    \"datetime\": \"2020-02-11T17:49:00.000Z\"\n",
    "}]"
   ]
  },
  {
   "cell_type": "markdown",
   "metadata": {},
   "source": [
    "#### Send data"
   ]
  },
  {
   "cell_type": "code",
   "execution_count": 9,
   "metadata": {},
   "outputs": [
    {
     "data": {
      "text/plain": [
       "{}"
      ]
     },
     "execution_count": 9,
     "metadata": {},
     "output_type": "execute_result"
    }
   ],
   "source": [
    "client.post_clockings(clockings=clockings)"
   ]
  }
 ],
 "metadata": {
  "kernelspec": {
   "display_name": "Python 3.8.2 64-bit",
   "language": "python",
   "name": "python38264bit4e4149a56a1f462db0e2e44967667e66"
  },
  "language_info": {
   "codemirror_mode": {
    "name": "ipython",
    "version": 3
   },
   "file_extension": ".py",
   "mimetype": "text/x-python",
   "name": "python",
   "nbconvert_exporter": "python",
   "pygments_lexer": "ipython3",
   "version": "3.8.5"
  }
 },
 "nbformat": 4,
 "nbformat_minor": 4
}
