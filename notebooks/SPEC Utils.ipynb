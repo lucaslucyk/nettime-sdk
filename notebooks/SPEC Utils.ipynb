{
 "cells": [
  {
   "cell_type": "markdown",
   "metadata": {},
   "source": [
    "# SPEC Utils\n",
    "sdks for SPEC, SA and third applications"
   ]
  },
  {
   "cell_type": "markdown",
   "metadata": {},
   "source": [
    "## Install"
   ]
  },
  {
   "cell_type": "markdown",
   "metadata": {},
   "source": [
    "Can use: \n",
    "```shell\n",
    "pip install spec-utils\n",
    "```\n",
    "Or:\n",
    "\n",
    "```shell\n",
    "python -m pip install spec-utils\n",
    "```"
   ]
  },
  {
   "cell_type": "markdown",
   "metadata": {},
   "source": [
    "## Net-Time"
   ]
  },
  {
   "cell_type": "markdown",
   "metadata": {},
   "source": [
    "### Import module"
   ]
  },
  {
   "cell_type": "code",
   "execution_count": 1,
   "metadata": {},
   "outputs": [],
   "source": [
    "from spec_utils import nettime6 as nt6"
   ]
  },
  {
   "cell_type": "markdown",
   "metadata": {},
   "source": [
    "### Client settings"
   ]
  },
  {
   "cell_type": "code",
   "execution_count": 4,
   "metadata": {},
   "outputs": [],
   "source": [
    "URL = 'http://172.21.3.61:8091'\n",
    "USERNAME = 'admin'\n",
    "PWD = 'Spec.2020'"
   ]
  },
  {
   "cell_type": "markdown",
   "metadata": {},
   "source": [
    "### Create a client"
   ]
  },
  {
   "cell_type": "code",
   "execution_count": 5,
   "metadata": {},
   "outputs": [
    {
     "data": {
      "text/plain": [
       "True"
      ]
     },
     "execution_count": 5,
     "metadata": {},
     "output_type": "execute_result"
    }
   ],
   "source": [
    "client = nt6.Client(url=URL, username=USERNAME, pwd=PWD)\n",
    "client.is_connected"
   ]
  },
  {
   "cell_type": "markdown",
   "metadata": {},
   "source": [
    "### Get employees with summary method"
   ]
  },
  {
   "cell_type": "code",
   "execution_count": 45,
   "metadata": {
    "scrolled": true
   },
   "outputs": [
    {
     "data": {
      "text/plain": [
       "{'total': 2,\n",
       " 'items': [{'id': 1, 'nif': '123789456'}, {'id': 2, 'nif': '987321654'}]}"
      ]
     },
     "execution_count": 45,
     "metadata": {},
     "output_type": "execute_result"
    }
   ],
   "source": [
    "client.get_employees()"
   ]
  },
  {
   "cell_type": "markdown",
   "metadata": {},
   "source": [
    "### Filter in response (frontend)"
   ]
  },
  {
   "cell_type": "code",
   "execution_count": 46,
   "metadata": {
    "scrolled": true
   },
   "outputs": [
    {
     "data": {
      "text/plain": [
       "{'total': 1, 'items': [{'id': 1, 'nif': '123789456'}]}"
      ]
     },
     "execution_count": 46,
     "metadata": {},
     "output_type": "execute_result"
    }
   ],
   "source": [
    "client.get_employees(search=\"1237\")"
   ]
  },
  {
   "cell_type": "markdown",
   "metadata": {},
   "source": [
    "### Specify fields"
   ]
  },
  {
   "cell_type": "code",
   "execution_count": 5,
   "metadata": {
    "scrolled": true
   },
   "outputs": [
    {
     "data": {
      "text/plain": [
       "{'total': 8,\n",
       " 'items': [{'nif': '38568439',\n",
       "   'Apellidos_Nombre': 'Lucyk, Lucas',\n",
       "   'Province': 'CABA',\n",
       "   'birthdate': '1995-01-12T00:00:00.0000000'},\n",
       "  {'nif': '9876451',\n",
       "   'Apellidos_Nombre': 'Doe, John',\n",
       "   'Province': 'Ciudad Autónoma de Buenos Aires',\n",
       "   'birthdate': '1987-08-05T00:00:00.0000000'},\n",
       "  {'nif': '12345678',\n",
       "   'Apellidos_Nombre': 'Spec, Argentina GG',\n",
       "   'birthdate': '0001-01-01T00:00:00.0000000'},\n",
       "  {'nif': '20327815',\n",
       "   'Apellidos_Nombre': 'Claudio, Chimale',\n",
       "   'birthdate': '0001-01-01T00:00:00.0000000'},\n",
       "  {'nif': '28884538',\n",
       "   'Apellidos_Nombre': 'RODRIGO NICOLAS, GOMEZ ',\n",
       "   'birthdate': '0001-01-01T00:00:00.0000000'},\n",
       "  {'nif': '29223226',\n",
       "   'Apellidos_Nombre': 'PEDRO, SUBIA',\n",
       "   'birthdate': '0001-01-01T00:00:00.0000000'},\n",
       "  {'nif': '24164239',\n",
       "   'Apellidos_Nombre': 'ADRIANA DEL VALLE, ALDERETES',\n",
       "   'birthdate': '0001-01-01T00:00:00.0000000'},\n",
       "  {'nif': '26475813',\n",
       "   'Apellidos_Nombre': 'JOAQUIN, SALINAS',\n",
       "   'birthdate': '0001-01-01T00:00:00.0000000'}]}"
      ]
     },
     "execution_count": 5,
     "metadata": {},
     "output_type": "execute_result"
    }
   ],
   "source": [
    "query = nt6.Query(fields=[\"nif\", \"Apellidos_Nombre\", \"Province\", \"birthdate\", \"birthdate\"])\n",
    "client.get_employees(query=query)"
   ]
  },
  {
   "cell_type": "markdown",
   "metadata": {},
   "source": [
    "### Filter in backend with nettime filter"
   ]
  },
  {
   "cell_type": "code",
   "execution_count": 9,
   "metadata": {},
   "outputs": [
    {
     "data": {
      "text/plain": [
       "{'total': 1,\n",
       " 'items': [{'id': 2,\n",
       "   'nif': '987321654',\n",
       "   'Apellidos_Nombre': 'Doe, John',\n",
       "   'Province': 'Ciudad Autónoma de Buenos Aires',\n",
       "   'birthdate': '1987-08-05T00:00:00.0000000'}]}"
      ]
     },
     "execution_count": 9,
     "metadata": {},
     "output_type": "execute_result"
    }
   ],
   "source": [
    "query = nt6.Query(\n",
    "    fields=[\"id\", \"nif\", \"Apellidos_Nombre\", \"Province\", \"birthdate\"],\n",
    "    filterExp='Contains(this.nif, \"987321654\")'\n",
    ")\n",
    "client.get_employees(query=query)"
   ]
  },
  {
   "cell_type": "code",
   "execution_count": 17,
   "metadata": {},
   "outputs": [
    {
     "data": {
      "text/plain": [
       "{'total': 8,\n",
       " 'items': [{'id': 1,\n",
       "   'nif': '38568439',\n",
       "   'Apellidos_Nombre': 'Lucyk, Lucas',\n",
       "   'birthdate': '1995-01-12T00:00:00.0000000-03:00',\n",
       "   'Persona.CalendarioBase': 'Flexible 8h',\n",
       "   'address': 'Mercedes 254, Depto 7',\n",
       "   'sex': 1,\n",
       "   'Persona.DiasActivos': '01/02/2011 al 30/12/2040'},\n",
       "  {'id': 2,\n",
       "   'nif': '9876451',\n",
       "   'Apellidos_Nombre': 'Doe, John',\n",
       "   'birthdate': '1987-08-05T00:00:00.0000000-03:00',\n",
       "   'Persona.CalendarioBase': 'Flexible 8h',\n",
       "   'address': 'Reconquista 968',\n",
       "   'sex': 2,\n",
       "   'Persona.DiasActivos': '01/01/2011 al 31/12/2040'},\n",
       "  {'id': 4,\n",
       "   'nif': '12345678',\n",
       "   'Apellidos_Nombre': 'Spec, Argentina GG',\n",
       "   'birthdate': '0001-01-01T00:00:00.0000000',\n",
       "   'Persona.CalendarioBase': '',\n",
       "   'sex': 0,\n",
       "   'Persona.DiasActivos': '27/08/2020 al 31/12/2040'},\n",
       "  {'id': 15,\n",
       "   'nif': '20327815',\n",
       "   'Apellidos_Nombre': 'Claudio, Chimale',\n",
       "   'birthdate': '0001-01-01T00:00:00.0000000',\n",
       "   'Persona.CalendarioBase': '',\n",
       "   'sex': 0,\n",
       "   'Persona.DiasActivos': '02/09/2020 al 31/12/2040'},\n",
       "  {'id': 20,\n",
       "   'nif': '28884538',\n",
       "   'Apellidos_Nombre': 'RODRIGO NICOLAS, GOMEZ ',\n",
       "   'birthdate': '0001-01-01T00:00:00.0000000',\n",
       "   'Persona.CalendarioBase': '',\n",
       "   'sex': 0,\n",
       "   'Persona.DiasActivos': '04/09/2020 al 31/12/2040'},\n",
       "  {'id': 21,\n",
       "   'nif': '29223226',\n",
       "   'Apellidos_Nombre': 'PEDRO, SUBIA',\n",
       "   'birthdate': '0001-01-01T00:00:00.0000000',\n",
       "   'Persona.CalendarioBase': '',\n",
       "   'sex': 0,\n",
       "   'Persona.DiasActivos': '04/09/2020 al 31/12/2040'},\n",
       "  {'id': 22,\n",
       "   'nif': '24164239',\n",
       "   'Apellidos_Nombre': 'ADRIANA DEL VALLE, ALDERETES',\n",
       "   'birthdate': '0001-01-01T00:00:00.0000000',\n",
       "   'Persona.CalendarioBase': '',\n",
       "   'sex': 0,\n",
       "   'Persona.DiasActivos': '04/09/2020 al 31/12/2040'},\n",
       "  {'id': 23,\n",
       "   'nif': '26475813',\n",
       "   'Apellidos_Nombre': 'JOAQUIN, SALINAS',\n",
       "   'birthdate': '0001-01-01T00:00:00.0000000',\n",
       "   'Persona.CalendarioBase': '',\n",
       "   'sex': 0,\n",
       "   'Persona.DiasActivos': '04/09/2020 al 31/12/2040'}]}"
      ]
     },
     "execution_count": 17,
     "metadata": {},
     "output_type": "execute_result"
    }
   ],
   "source": [
    "query = nt6.Query(\n",
    "    fields=[\"id\", \"nif\", \"Apellidos_Nombre\", \"birthdate\", \"Persona.CalendarioBase\", \"address\", \"sex\", \"Persona.DiasActivos\"],\n",
    ")\n",
    "client.get_employees(query=query)"
   ]
  },
  {
   "cell_type": "markdown",
   "metadata": {},
   "source": [
    "### Fields definition"
   ]
  },
  {
   "cell_type": "code",
   "execution_count": 8,
   "metadata": {},
   "outputs": [
    {
     "name": "stdout",
     "output_type": "stream",
     "text": [
      "Total: 338\n"
     ]
    },
    {
     "data": {
      "text/plain": [
       "[{'id': 30,\n",
       "  'name': 'id',\n",
       "  'displayName': 'Id',\n",
       "  'expr': 'this.id',\n",
       "  'type': 'int',\n",
       "  'align': 2,\n",
       "  'sortable': False,\n",
       "  'width': 0,\n",
       "  'group': '',\n",
       "  'numTempOperators': 0},\n",
       " {'id': 31,\n",
       "  'name': 'name',\n",
       "  'displayName': 'Clave',\n",
       "  'expr': 'this.name',\n",
       "  'type': 'String',\n",
       "  'align': 2,\n",
       "  'sortable': True,\n",
       "  'width': 20,\n",
       "  'group': 'Datos personales',\n",
       "  'numTempOperators': 0}]"
      ]
     },
     "execution_count": 8,
     "metadata": {},
     "output_type": "execute_result"
    }
   ],
   "source": [
    "fields = client.get_fields(\"Persona\")\n",
    "print('Total:', fields.get('total'))\n",
    "fields.get('items')[:2]"
   ]
  },
  {
   "cell_type": "markdown",
   "metadata": {},
   "source": [
    "### Fields definition filtering Properties only"
   ]
  },
  {
   "cell_type": "code",
   "execution_count": 50,
   "metadata": {},
   "outputs": [
    {
     "name": "stdout",
     "output_type": "stream",
     "text": [
      "Total: 316\n"
     ]
    },
    {
     "data": {
      "text/plain": [
       "[{'id': 30,\n",
       "  'name': 'id',\n",
       "  'displayName': 'Id',\n",
       "  'expr': 'this.id',\n",
       "  'type': 'int',\n",
       "  'align': 2,\n",
       "  'sortable': False,\n",
       "  'width': 0,\n",
       "  'group': '',\n",
       "  'numTempOperators': 0},\n",
       " {'id': 31,\n",
       "  'name': 'name',\n",
       "  'displayName': 'Clave',\n",
       "  'expr': 'this.name',\n",
       "  'type': 'String',\n",
       "  'align': 2,\n",
       "  'sortable': True,\n",
       "  'width': 20,\n",
       "  'group': 'Datos personales',\n",
       "  'numTempOperators': 0}]"
      ]
     },
     "execution_count": 50,
     "metadata": {},
     "output_type": "execute_result"
    }
   ],
   "source": [
    "fields_filter = client.get_fields(\"Persona\", filterFields=True)\n",
    "print('Total:', fields_filter.get('total'))\n",
    "fields_filter.get('items')[:2]"
   ]
  },
  {
   "cell_type": "markdown",
   "metadata": {},
   "source": [
    "### Get incidencias, and update employee"
   ]
  },
  {
   "cell_type": "code",
   "execution_count": 51,
   "metadata": {},
   "outputs": [
    {
     "data": {
      "text/plain": [
       "[{'id': 0, 'name': 'Sin incidencia'},\n",
       " {'id': 1, 'name': 'Inc. horas extra'},\n",
       " {'id': 2, 'name': 'Asuntos propios'},\n",
       " {'id': 3, 'name': 'Vacaciones'},\n",
       " {'id': 4, 'name': 'Lactancia 30 minutos'},\n",
       " {'id': 5, 'name': 'Lactancia 1 hora'},\n",
       " {'id': 6, 'name': 'Visita al médico'},\n",
       " {'id': 7, 'name': 'Horas sindicales'},\n",
       " {'id': 8, 'name': 'Accidente laboral'},\n",
       " {'id': 9, 'name': 'Enfermedad'}]"
      ]
     },
     "execution_count": 51,
     "metadata": {},
     "output_type": "execute_result"
    }
   ],
   "source": [
    "nt_incidencias = client.get_elements(\"Incidencia\").get('items')\n",
    "nt_incidencias[:10]"
   ]
  },
  {
   "cell_type": "code",
   "execution_count": 52,
   "metadata": {},
   "outputs": [
    {
     "data": {
      "text/plain": [
       "[{'type': 6,\n",
       "  'dataObject': {'_c_': 'Persona',\n",
       "   'id': 2,\n",
       "   'name': '987654',\n",
       "   'created': '2020-08-03T10:51:59.1430000',\n",
       "   'changePassword': False,\n",
       "   'firstWONumDays': 0,\n",
       "   'firstWO': -1,\n",
       "   'firstWANumDays': 0,\n",
       "   'firstWA': -1,\n",
       "   'firstTTNumDays': 0,\n",
       "   'firstTT': -1,\n",
       "   'termVoice': False,\n",
       "   'timeoutEnrollMinutes': 0,\n",
       "   'timeoutEnrollDate': '0001-01-01T00:00:00.0000000',\n",
       "   'enrollActive': False,\n",
       "   'PersonalPhone': '5238-8000',\n",
       "   'sex': 0,\n",
       "   'Visitas.RecibirVisitas': False,\n",
       "   'securityLevel': 0,\n",
       "   'ticketEmail': False,\n",
       "   'address': 'Reconquista 968',\n",
       "   'timeoutEnroll': '0001-01-01T00:00:00.0000000',\n",
       "   'createdBy': 'Admin',\n",
       "   'modifiedBy': 'Admin',\n",
       "   'useTasksWE': False,\n",
       "   'useTasksWO': False,\n",
       "   'useTasksWA': False,\n",
       "   'useTasks': False,\n",
       "   'ProfaceAdmin': False,\n",
       "   'MobileClocking': False,\n",
       "   'mobileId': '',\n",
       "   'RemoteClocking': False,\n",
       "   'Portal.DisablePasswordChange': False,\n",
       "   'Portal.DisableCalendar': False,\n",
       "   'Portal.DisablePlannings': False,\n",
       "   'Portal.DisableVistaResumen': False,\n",
       "   'Portal.DisableMovimientos': False,\n",
       "   'Portal.NoPuedeEditar': False,\n",
       "   'Portal.NoRequiereValidacionEnCorreccion': False,\n",
       "   'Portal.UsaPortal': False,\n",
       "   'virtualCard': False,\n",
       "   'geolocalize': 'geoNever',\n",
       "   'offline': False,\n",
       "   'totalDocs': 0,\n",
       "   'Portal.ChangeLanguage': True,\n",
       "   'rev': 56,\n",
       "   'modified': '2020-08-05T19:15:49.1907439-03:00',\n",
       "   'birthdate': '1987-08-05T00:00:00.0000000',\n",
       "   'Visitas.ProgramarVisitas': False,\n",
       "   'acceptAllReaders': False,\n",
       "   'acceptAllTT': False,\n",
       "   'NoAttendance': False,\n",
       "   'RegisterSystemDate': '2019-02-11T00:00:00.0000000',\n",
       "   'htmlPortal': False,\n",
       "   'inactive': True,\n",
       "   'pwdCantChange': False,\n",
       "   'exboss': True,\n",
       "   'pwdNextLogin': False,\n",
       "   'pwdExpires': True,\n",
       "   'pwdRetries': 0,\n",
       "   'lastPwdChange': '0001-01-01T00:00:00.0000000',\n",
       "   'NumFingers': 0,\n",
       "   'nif': '987321654',\n",
       "   'Town': 'CABA',\n",
       "   'PIN': 0,\n",
       "   'PostalCode': '1003',\n",
       "   'FirstDayNotValid': '2020-08-05T00:00:00.0000000-03:00',\n",
       "   'Province': 'Ciudad Autónoma de Buenos Aires',\n",
       "   'FingerIEVO2EnrollDate': '0001-01-01T00:00:00.0000000',\n",
       "   'nameEmployee': 'John',\n",
       "   'companyCode': 'SPEC AR',\n",
       "   'Finger2EnrollDate': '0001-01-01T00:00:00.0000000',\n",
       "   'Finger1EnrollDate': '0001-01-01T00:00:00.0000000',\n",
       "   'LastName': 'Doe',\n",
       "   'employeeCode': '5048',\n",
       "   'FingerIEVO1EnrollDate': '0001-01-01T00:00:00.0000000',\n",
       "   'ActiveDays': {'validity': [{'start': '2011-01-01T00:00:00.0000000',\n",
       "      'end': '2040-12-31T00:00:00.0000000'}]},\n",
       "   'Readers': [1, 2],\n",
       "   'Cards': [],\n",
       "   'Calendar': {'id': 2,\n",
       "    '_c_': '',\n",
       "    'created': '0001-01-01T00:00:00.0000000',\n",
       "    'modified': '0001-01-01T00:00:00.0000000',\n",
       "    'name': '',\n",
       "    'rev': 0,\n",
       "    'years': [{'Year': 2012, 'days': {}},\n",
       "     {'Year': 2016, 'days': {}},\n",
       "     {'Year': 2017, 'days': {}},\n",
       "     {'Year': 2018, 'days': {}},\n",
       "     {'Year': 2019, 'days': {}},\n",
       "     {'Year': 2020,\n",
       "      'days': {'0': {'shifts': [4]},\n",
       "       '1': {'shifts': [4]},\n",
       "       '33': {'shifts': [3]},\n",
       "       '34': {'shifts': [3]},\n",
       "       '35': {'shifts': [3]},\n",
       "       '36': {'shifts': [3]},\n",
       "       '37': {'shifts': [3]},\n",
       "       '54': {'shifts': [3]},\n",
       "       '55': {'shifts': [3]},\n",
       "       '56': {'shifts': [3]},\n",
       "       '57': {'shifts': [3]},\n",
       "       '58': {'shifts': [3]}}},\n",
       "     {'Year': 2021, 'days': {}}],\n",
       "    'Cycles': [],\n",
       "    'Calendars': [{'id': 3, 'name': 'LaV 09 a 18'}],\n",
       "    'nodesSource': [],\n",
       "    'multiName': {'es-ES': ''}},\n",
       "   'node': 1,\n",
       "   'doAccess': {'total': True, 'offsetIn': 0, 'offsetOut': 0},\n",
       "   'TimeTypesEmployee': [{'id': 0},\n",
       "    {'id': 1},\n",
       "    {'id': 2},\n",
       "    {'id': 3},\n",
       "    {'id': 4},\n",
       "    {'id': 5},\n",
       "    {'id': 6},\n",
       "    {'id': 7},\n",
       "    {'id': 8},\n",
       "    {'id': 9},\n",
       "    {'id': 10},\n",
       "    {'id': 11},\n",
       "    {'id': 12},\n",
       "    {'id': 13},\n",
       "    {'id': 14},\n",
       "    {'id': 15},\n",
       "    {'id': 16},\n",
       "    {'id': 17},\n",
       "    {'id': 18},\n",
       "    {'id': 19},\n",
       "    {'id': 20},\n",
       "    {'id': 21},\n",
       "    {'id': 22},\n",
       "    {'id': 23},\n",
       "    {'id': 24}],\n",
       "   'Departments': [{'id': 1}],\n",
       "   'enrollDevices': [],\n",
       "   'geolocSource': [{'data': 'geoAlways', 'label': 'Siempre'},\n",
       "    {'data': 'geoIfPossible', 'label': 'Si es posible'},\n",
       "    {'data': 'geoNever', 'label': 'Nunca'}],\n",
       "   'source': [{'id': 1,\n",
       "     'name': 'Proximity',\n",
       "     'displayName': 'Proximity',\n",
       "     'description': '',\n",
       "     'type': 'terminal',\n",
       "     'icon': 'Terminal',\n",
       "     'children': [{'id': 2,\n",
       "       'displayName': 'Proximity_1',\n",
       "       'type': 'reader',\n",
       "       'description': 'Lector 2 del terminal Proximity',\n",
       "       'icon': 'Lector',\n",
       "       'children': [{'type': 'device',\n",
       "         'name': 'CD1',\n",
       "         'displayName': 'Lector de proximidad interno conectado en CD1',\n",
       "         'description': 'CD1',\n",
       "         'default': 1,\n",
       "         'deviceType': 'Tarjeta',\n",
       "         'hasElement': True,\n",
       "         'expr': '',\n",
       "         'allow': False,\n",
       "         'id': 'Proximity_Proximity_1_CD1'}]}]},\n",
       "    {'id': 3,\n",
       "     'name': 'Fingerprint',\n",
       "     'displayName': 'Fingerprint',\n",
       "     'description': '',\n",
       "     'type': 'terminal',\n",
       "     'icon': 'Terminal',\n",
       "     'children': [{'id': 1,\n",
       "       'displayName': 'Fingerprint_1',\n",
       "       'type': 'reader',\n",
       "       'description': 'Lector 1 del terminal Fingerprint',\n",
       "       'icon': 'Lector',\n",
       "       'children': [{'type': 'device',\n",
       "         'name': 'COM1',\n",
       "         'displayName': 'Lector de huella interno conectado en COM1',\n",
       "         'description': 'COM1',\n",
       "         'default': 1,\n",
       "         'deviceType': 'Huella',\n",
       "         'hasElement': True,\n",
       "         'expr': '',\n",
       "         'allow': False,\n",
       "         'id': 'Fingerprint_Fingerprint_1_COM1'},\n",
       "        {'type': 'device',\n",
       "         'name': 'BI1',\n",
       "         'displayName': 'Teclado interno conectado en BI1',\n",
       "         'description': 'BI1',\n",
       "         'default': 1,\n",
       "         'deviceType': 'Teclado',\n",
       "         'hasElement': False,\n",
       "         'expr': '',\n",
       "         'allow': False,\n",
       "         'id': 'Fingerprint_Fingerprint_1_BI1'}]}]}],\n",
       "   'initialValuesList': [],\n",
       "   'nodesSource': [{'data': '1', 'label': 'SPEC SA'},\n",
       "    {'data': '2', 'label': 'SPEC SA · Argentina'},\n",
       "    {'data': '3', 'label': 'SPEC SA · Argentina · Information Technology'}],\n",
       "   'Accesos.Zona': 1,\n",
       "   'languages': [{'data': 'ca-ES', 'label': 'Català'},\n",
       "    {'data': 'en-GB', 'label': 'English'},\n",
       "    {'data': 'es-ES', 'label': 'Español'},\n",
       "    {'data': 'eu-ES', 'label': 'Euskara'},\n",
       "    {'data': 'fr-FR', 'label': 'Français'},\n",
       "    {'data': 'pt-PT', 'label': 'Português'}]},\n",
       "  'message': 'El elemento se ha modificado correctamente.',\n",
       "  'showActions': True}]"
      ]
     },
     "execution_count": 52,
     "metadata": {},
     "output_type": "execute_result"
    }
   ],
   "source": [
    "incidencias = []\n",
    "for incidencia in nt_incidencias:\n",
    "    incidencias.append({\"id\": incidencia.get(\"id\")})\n",
    "    \n",
    "data = {\n",
    "    \"container\": \"Persona\",\n",
    "    \"elements\": [2],\n",
    "    \"dataObj\": {\n",
    "        \"TimeTypesEmployee\": incidencias\n",
    "    }\n",
    "}\n",
    "\n",
    "client.save_element(**data)"
   ]
  },
  {
   "cell_type": "markdown",
   "metadata": {},
   "source": [
    "##### To add periods, use the key \"validity\" with a list of elements like:\n",
    "```python\n",
    "{\n",
    "    \"id\": incidencia.get(\"id\"),\n",
    "    \"validity\": [{\n",
    "        \"end\": \"2040-12-31T00:00:00-03:00\",\n",
    "        \"start\": \"2004-01-01T00:00:00-03:00\",\n",
    "    }]\n",
    "}\n",
    "```"
   ]
  },
  {
   "cell_type": "markdown",
   "metadata": {},
   "source": [
    "### Get elements definition"
   ]
  },
  {
   "cell_type": "code",
   "execution_count": 7,
   "metadata": {
    "scrolled": true
   },
   "outputs": [
    {
     "data": {
      "text/plain": [
       "{'id': -1,\n",
       " '_c_': '',\n",
       " 'created': '0001-01-01T00:00:00.0000000',\n",
       " 'modified': '0001-01-01T00:00:00.0000000',\n",
       " 'name': '-1',\n",
       " 'rev': 0,\n",
       " 'Cycles': [],\n",
       " 'Calendars': [],\n",
       " 'nodesSource': [],\n",
       " 'multiName': {'es-ES': '-1'}}"
      ]
     },
     "execution_count": 7,
     "metadata": {},
     "output_type": "execute_result"
    }
   ],
   "source": [
    "employee = client.get_element_def(container=\"Persona\", elements=[])\n",
    "employee = employee[0]\n",
    "\n",
    "# show calendars\n",
    "employee.get('Calendar')"
   ]
  },
  {
   "cell_type": "markdown",
   "metadata": {},
   "source": [
    "### Get default values in create form"
   ]
  },
  {
   "cell_type": "code",
   "execution_count": 54,
   "metadata": {},
   "outputs": [
    {
     "data": {
      "text/plain": [
       "{'_c_': 'Jornada',\n",
       " 'id': -1,\n",
       " 'modified': '0001-01-01T00:00:00.0000000',\n",
       " 'created': '0001-01-01T00:00:00.0000000',\n",
       " 'color': '808080',\n",
       " 'rev': 0,\n",
       " 'minutosCortesia': 0,\n",
       " 'minutosPenalizacion': 0,\n",
       " 'totalTeorico': 480,\n",
       " 'minutoFinal': 2880,\n",
       " 'minutosRetraso': 0,\n",
       " 'resultados': [],\n",
       " 'multiName': {},\n",
       " 'nodesSource': [],\n",
       " 'incidencias': [],\n",
       " 'baObligada': [],\n",
       " 'baFlexible': [],\n",
       " 'pausas': [],\n",
       " 'intervalSource': [{'data': 'flex', 'label': 'Bloque flexible'},\n",
       "  {'data': 'oblig', 'label': 'Bloque obligatorio'},\n",
       "  {'data': 'all', 'label': 'Toda la jornada'},\n",
       "  {'data': 'bloque', 'label': 'Bloque del grupo de incidencia'},\n",
       "  {'data': 'relative', 'label': 'Relativo a...', 'state': 'relative'},\n",
       "  {'data': 'delete', 'label': 'Sin validez'}],\n",
       " 'ShifttimeTypesMassIdinci': [],\n",
       " 'relativeSource': [{'data': 'inishift', 'label': 'Inicio de la jornada'},\n",
       "  {'data': 'firstflexmin', 'label': 'Inicio bloque flexible'},\n",
       "  {'data': 'firstoblmin', 'label': 'Inicio bloque obligatorio'},\n",
       "  {'data': 'endshift', 'label': 'Final de la jornada'},\n",
       "  {'data': 'endflex', 'label': 'Final bloque flexible'},\n",
       "  {'data': 'endobli', 'label': 'Final bloque obligatorio'}]}"
      ]
     },
     "execution_count": 54,
     "metadata": {},
     "output_type": "execute_result"
    }
   ],
   "source": [
    "client.get_create_form(\"Jornada\")"
   ]
  },
  {
   "cell_type": "markdown",
   "metadata": {},
   "source": [
    "### Get dataObj for duplicate element"
   ]
  },
  {
   "cell_type": "code",
   "execution_count": 55,
   "metadata": {},
   "outputs": [
    {
     "data": {
      "text/plain": [
       "{'_c_': 'Arbol',\n",
       " 'id': -1,\n",
       " 'name': 'Information Technology',\n",
       " 'rev': 0,\n",
       " 'createdBy': 'Admin',\n",
       " 'created': '2020-08-03T11:08:27.4050000',\n",
       " 'modified': '0001-01-01T00:00:00.0000000',\n",
       " 'color': '7D7D7D',\n",
       " 'allowedContainerNames': 'Empleados',\n",
       " 'order': 0,\n",
       " 'internalName': 'Information_Technology',\n",
       " 'idNodeParent': 2,\n",
       " 'baAllowedContainers': [14],\n",
       " 'nodesSource': [],\n",
       " 'nodes': [],\n",
       " 'multiName': {'es-ES': 'Information Technology'}}"
      ]
     },
     "execution_count": 55,
     "metadata": {},
     "output_type": "execute_result"
    }
   ],
   "source": [
    "client.get_for_duplicate(container=\"Arbol\", element=3)\n",
    "# edit and then use client.save_element() method"
   ]
  },
  {
   "cell_type": "markdown",
   "metadata": {},
   "source": [
    "### Delete element"
   ]
  },
  {
   "cell_type": "code",
   "execution_count": 56,
   "metadata": {},
   "outputs": [
    {
     "data": {
      "text/plain": [
       "{'total': 1, 'items': [{'id': 6, 'name': 'TEST'}]}"
      ]
     },
     "execution_count": 56,
     "metadata": {},
     "output_type": "execute_result"
    }
   ],
   "source": [
    "client.get_elements(\"Jornada\", search=\"TEST\")"
   ]
  },
  {
   "cell_type": "code",
   "execution_count": 58,
   "metadata": {
    "scrolled": true
   },
   "outputs": [
    {
     "data": {
      "text/plain": [
       "[{'type': 8,\n",
       "  'id': 'BwAAAAEAAgeAAA==',\n",
       "  'rev': 60,\n",
       "  'message': 'Los elementos se han eliminado correctamente.'}]"
      ]
     },
     "execution_count": 58,
     "metadata": {},
     "output_type": "execute_result"
    }
   ],
   "source": [
    "client.delete_element(container=\"Jornada\", elements=[6])"
   ]
  },
  {
   "cell_type": "code",
   "execution_count": 59,
   "metadata": {
    "scrolled": true
   },
   "outputs": [
    {
     "data": {
      "text/plain": [
       "{'total': 0, 'items': []}"
      ]
     },
     "execution_count": 59,
     "metadata": {},
     "output_type": "execute_result"
    }
   ],
   "source": [
    "client.get_elements(\"Jornada\", search=\"TEST\")"
   ]
  },
  {
   "cell_type": "markdown",
   "metadata": {},
   "source": [
    "### Getting day results info"
   ]
  },
  {
   "cell_type": "code",
   "execution_count": 60,
   "metadata": {
    "scrolled": true
   },
   "outputs": [
    {
     "data": {
      "text/plain": [
       "{'idEmp': 2,\n",
       " 'days': [{'date': '2020-07-03T00:00:00.0000000',\n",
       "   'shift': {'date': '2020-07-03T00:00:00.0000000',\n",
       "    'idEmp': 2,\n",
       "    'shift': 5,\n",
       "    'minFin': 2880,\n",
       "    'minFinForced': False,\n",
       "    'shiftPetition': {'actions': ['Change']},\n",
       "    'clockings': [{'id': 1,\n",
       "      'date': '2020-07-03T08:55:00.0000000',\n",
       "      'idElem': 0,\n",
       "      'type': 'timetypes',\n",
       "      'idReader': 0,\n",
       "      'user': 'Admin',\n",
       "      'ip': '127.0.0.1',\n",
       "      'status': {'effective': True,\n",
       "       'desc': 'Entrando',\n",
       "       'state': '',\n",
       "       'entering': True,\n",
       "       'actions': ['Delete', 'Edit', 'Comment']},\n",
       "      'app': True,\n",
       "      'numDocuments': 0},\n",
       "     {'id': 2,\n",
       "      'date': '2020-07-03T18:30:00.0000000',\n",
       "      'idElem': 0,\n",
       "      'type': 'timetypes',\n",
       "      'idReader': 0,\n",
       "      'user': 'Admin',\n",
       "      'ip': '127.0.0.1',\n",
       "      'status': {'effective': True,\n",
       "       'desc': 'Saliendo',\n",
       "       'state': '',\n",
       "       'entering': False,\n",
       "       'actions': ['Delete', 'Edit', 'Comment']},\n",
       "      'app': True,\n",
       "      'numDocuments': 0}],\n",
       "    'info': {'Change': 'Cambiar',\n",
       "     'Delete': 'Eliminar',\n",
       "     'Edit': 'Editar',\n",
       "     'Comment': 'Comentar'}},\n",
       "   'results': {'date': '2020-07-03T00:00:00.0000000',\n",
       "    'hasComments': False,\n",
       "    'hasPending': False,\n",
       "    'shift': {'id': 5, 'minutes': {'start': 1440, 'end': 2880}},\n",
       "    'minutesTypes': [{'name': 'Incidencia',\n",
       "      'results': [{'id': 0,\n",
       "        'minutes': [{'start': 1975, 'end': 2160, 'endApr': True},\n",
       "         {'start': 2220, 'end': 2550, 'startApr': True}]}]},\n",
       "     {'name': 'Sistema',\n",
       "      'results': [{'id': 9, 'minutes': [{'start': 2160, 'end': 2220}]}]}]}}],\n",
       " 'taskConfig': 71,\n",
       " 'info': [{'id': 0,\n",
       "   'type': 'Incidencia',\n",
       "   'name': 'Sin incidencia',\n",
       "   'color': '009933'},\n",
       "  {'id': 5, 'type': 'Jornada', 'name': '09:00 a 18:00', 'color': '808080'},\n",
       "  {'id': 9, 'type': 'Sistema', 'name': 'Pausas', 'color': 'F0F0F0'}]}"
      ]
     },
     "execution_count": 60,
     "metadata": {},
     "output_type": "execute_result"
    }
   ],
   "source": [
    "client.get_day_info(employee=2, _from=\"2020-07-03\", to=\"2020-07-03\")"
   ]
  },
  {
   "cell_type": "markdown",
   "metadata": {},
   "source": [
    "### Get day results"
   ]
  },
  {
   "cell_type": "code",
   "execution_count": 61,
   "metadata": {},
   "outputs": [
    {
     "data": {
      "text/plain": [
       "{'results': [{'date': '2020-07-03T00:00:00.0000000',\n",
       "   'hasComments': False,\n",
       "   'hasPending': False,\n",
       "   'shift': {'id': 5, 'minutes': {'start': 1440, 'end': 2880}},\n",
       "   'minutesTypes': [{'name': 'Lector',\n",
       "     'results': [{'id': -1,\n",
       "       'values': [{'name': 'Min', 'value': 575},\n",
       "        {'name': 'MinDes', 'value': 0},\n",
       "        {'name': 'Evt', 'value': 1},\n",
       "        {'name': 'EvtDes', 'value': 0}]}]},\n",
       "    {'name': 'Incidencia',\n",
       "     'results': [{'id': 0,\n",
       "       'values': [{'name': 'Min', 'value': 515},\n",
       "        {'name': 'MinDes', 'value': 60},\n",
       "        {'name': 'Evt', 'value': 1},\n",
       "        {'name': 'EvtDes', 'value': 1}]}]},\n",
       "    {'name': 'Sistema',\n",
       "     'results': [{'id': 0,\n",
       "       'values': [{'name': 'Min', 'value': 515},\n",
       "        {'name': 'MinDes', 'value': 60},\n",
       "        {'name': 'Evt', 'value': 1},\n",
       "        {'name': 'EvtDes', 'value': 1}]},\n",
       "      {'id': 5,\n",
       "       'values': [{'name': 'Min', 'value': 0},\n",
       "        {'name': 'MinDes', 'value': 0},\n",
       "        {'name': 'Evt', 'value': 0},\n",
       "        {'name': 'EvtDes', 'value': 0}]},\n",
       "      {'id': 6,\n",
       "       'values': [{'name': 'Min', 'value': 515},\n",
       "        {'name': 'MinDes', 'value': 60},\n",
       "        {'name': 'Evt', 'value': 1},\n",
       "        {'name': 'EvtDes', 'value': 1}]},\n",
       "      {'id': 8,\n",
       "       'values': [{'name': 'Min', 'value': 480},\n",
       "        {'name': 'MinDes', 'value': 35},\n",
       "        {'name': 'Evt', 'value': 1},\n",
       "        {'name': 'EvtDes', 'value': 1}]},\n",
       "      {'id': 9,\n",
       "       'values': [{'name': 'Min', 'value': 60},\n",
       "        {'name': 'MinDes', 'value': 0},\n",
       "        {'name': 'Evt', 'value': 1},\n",
       "        {'name': 'EvtDes', 'value': 0}]},\n",
       "      {'id': 10,\n",
       "       'values': [{'name': 'Min', 'value': 0},\n",
       "        {'name': 'MinDes', 'value': 0},\n",
       "        {'name': 'Evt', 'value': 0},\n",
       "        {'name': 'EvtDes', 'value': 0}]},\n",
       "      {'id': 11,\n",
       "       'values': [{'name': 'Min', 'value': 480},\n",
       "        {'name': 'MinDes', 'value': 0},\n",
       "        {'name': 'Evt', 'value': 1},\n",
       "        {'name': 'EvtDes', 'value': 0}]},\n",
       "      {'id': 12,\n",
       "       'values': [{'name': 'Min', 'value': 1380},\n",
       "        {'name': 'MinDes', 'value': 0},\n",
       "        {'name': 'Evt', 'value': 1},\n",
       "        {'name': 'EvtDes', 'value': 0}]}]},\n",
       "    {'name': 'Anomalia',\n",
       "     'results': [{'id': 0,\n",
       "       'values': [{'name': 'Min', 'value': 0},\n",
       "        {'name': 'MinDes', 'value': 0},\n",
       "        {'name': 'Evt', 'value': 1},\n",
       "        {'name': 'EvtDes', 'value': 0}]}]},\n",
       "    {'name': 'Calculo',\n",
       "     'results': [{'id': 1,\n",
       "       'values': [{'name': 'Min', 'value': 515},\n",
       "        {'name': 'MinDes', 'value': 60},\n",
       "        {'name': 'Evt', 'value': 1},\n",
       "        {'name': 'EvtDes', 'value': 1}]},\n",
       "      {'id': 2,\n",
       "       'values': [{'name': 'Min', 'value': 480},\n",
       "        {'name': 'MinDes', 'value': 0},\n",
       "        {'name': 'Evt', 'value': 1},\n",
       "        {'name': 'EvtDes', 'value': 0}]}]},\n",
       "    {'name': 'Jornada',\n",
       "     'results': [{'id': 5,\n",
       "       'values': [{'name': 'Min', 'value': 480},\n",
       "        {'name': 'MinDes', 'value': 0},\n",
       "        {'name': 'Evt', 'value': 1},\n",
       "        {'name': 'EvtDes', 'value': 0}]}]},\n",
       "    {'name': 'Aritmetico',\n",
       "     'results': [{'id': 1,\n",
       "       'values': [{'name': 'Value', 'value': 35},\n",
       "        {'name': 'Accumulated', 'value': 35},\n",
       "        {'name': 'Available', 'value': -35},\n",
       "        {'name': 'Discard', 'value': 0}]},\n",
       "      {'id': 2,\n",
       "       'values': [{'name': 'Value', 'value': 35},\n",
       "        {'name': 'Accumulated', 'value': -925},\n",
       "        {'name': 'Available', 'value': 925},\n",
       "        {'name': 'Discard', 'value': 0}]},\n",
       "      {'id': 3,\n",
       "       'values': [{'name': 'Value', 'value': 35},\n",
       "        {'name': 'Accumulated', 'value': -63325},\n",
       "        {'name': 'Available', 'value': 63325},\n",
       "        {'name': 'Discard', 'value': 0}]},\n",
       "      {'id': 4,\n",
       "       'values': [{'name': 'Value', 'value': 0},\n",
       "        {'name': 'Accumulated', 'value': 0},\n",
       "        {'name': 'Available', 'value': 22},\n",
       "        {'name': 'Discard', 'value': 0}]}]}]}],\n",
       " 'info': [{'id': -1, 'type': 'Lector', 'name': 'UNKNOWN', 'color': 'FDFDFD'},\n",
       "  {'id': 0, 'type': 'Incidencia', 'name': 'Sin incidencia', 'color': '009933'},\n",
       "  {'id': 0,\n",
       "   'type': 'Sistema',\n",
       "   'name': 'Productivas en el centro',\n",
       "   'color': '009933'},\n",
       "  {'id': 0, 'type': 'Anomalia', 'name': 'Sin anomalía', 'color': 'EEEEEE'},\n",
       "  {'id': 1, 'type': 'Calculo', 'name': 'PROD', 'color': 'CCCCCC'},\n",
       "  {'id': 2, 'type': 'Calculo', 'name': 'NORMALES', 'color': 'ffffff'},\n",
       "  {'id': 5,\n",
       "   'type': 'Sistema',\n",
       "   'name': 'Ausencias no justificadas',\n",
       "   'color': 'C83327'},\n",
       "  {'id': 5, 'type': 'Jornada', 'name': '09:00 a 18:00', 'color': '808080'},\n",
       "  {'id': 6, 'type': 'Sistema', 'name': 'Productivas', 'color': '3399FF'},\n",
       "  {'id': 8, 'type': 'Sistema', 'name': 'Trabajadas', 'color': '009933'},\n",
       "  {'id': 9, 'type': 'Sistema', 'name': 'Pausas', 'color': 'F0F0F0'},\n",
       "  {'id': 10, 'type': 'Sistema', 'name': 'Retrasos', 'color': 'CC6600'},\n",
       "  {'id': 11, 'type': 'Sistema', 'name': 'Jornada teórica', 'color': 'FFFFFF'},\n",
       "  {'id': 12, 'type': 'Sistema', 'name': 'Filtro día', 'color': 'FFFFFF'},\n",
       "  {'id': 1, 'type': 'Aritmetico', 'name': 'Saldo diario', 'color': '0066CC'},\n",
       "  {'id': 2, 'type': 'Aritmetico', 'name': 'Saldo mensual', 'color': 'CC9900'},\n",
       "  {'id': 3, 'type': 'Aritmetico', 'name': 'Saldo anual', 'color': 'FF6600'},\n",
       "  {'id': 4,\n",
       "   'type': 'Aritmetico',\n",
       "   'name': 'Saldo Días Vacaciones',\n",
       "   'color': '007373',\n",
       "   'numeric': True}]}"
      ]
     },
     "execution_count": 61,
     "metadata": {},
     "output_type": "execute_result"
    }
   ],
   "source": [
    "client.get_results(employee=2, _from=\"2020-07-03\", to=\"2020-07-03\")"
   ]
  },
  {
   "cell_type": "markdown",
   "metadata": {},
   "source": [
    "### Add clocking"
   ]
  },
  {
   "cell_type": "code",
   "execution_count": 62,
   "metadata": {},
   "outputs": [
    {
     "data": {
      "text/plain": [
       "{'ok': True}"
      ]
     },
     "execution_count": 62,
     "metadata": {},
     "output_type": "execute_result"
    }
   ],
   "source": [
    "client.add_clocking(employee=2, date=\"2020-07-02\", time=\"18:30\")"
   ]
  },
  {
   "cell_type": "markdown",
   "metadata": {},
   "source": [
    "### Get day clockings"
   ]
  },
  {
   "cell_type": "code",
   "execution_count": 63,
   "metadata": {
    "scrolled": true
   },
   "outputs": [
    {
     "data": {
      "text/plain": [
       "{'date': '2020-07-02T00:00:00.0000000',\n",
       " 'idEmp': 2,\n",
       " 'shift': 5,\n",
       " 'minFin': 0,\n",
       " 'minFinForced': False,\n",
       " 'shiftPetition': {'actions': ['Change']},\n",
       " 'clockings': [{'id': 3,\n",
       "   'date': '2020-07-02T09:00:00.0000000',\n",
       "   'idElem': 0,\n",
       "   'type': 'timetypes',\n",
       "   'idReader': 0,\n",
       "   'user': 'Admin',\n",
       "   'ip': '127.0.0.1',\n",
       "   'status': {'effective': True,\n",
       "    'desc': 'Entrando',\n",
       "    'state': '',\n",
       "    'entering': True,\n",
       "    'actions': ['Delete', 'Edit', 'Comment']},\n",
       "   'app': True,\n",
       "   'numDocuments': 0},\n",
       "  {'id': 7,\n",
       "   'date': '2020-07-02T18:30:00.0000000',\n",
       "   'idElem': 0,\n",
       "   'type': 'timetypes',\n",
       "   'idReader': 0,\n",
       "   'user': 'Admin',\n",
       "   'ip': '::1',\n",
       "   'status': {'effective': True,\n",
       "    'desc': 'Saliendo',\n",
       "    'state': '',\n",
       "    'entering': False,\n",
       "    'actions': ['Delete', 'Edit', 'Comment']},\n",
       "   'app': True,\n",
       "   'numDocuments': 0}],\n",
       " 'info': {'Change': 'Cambiar',\n",
       "  'Delete': 'Eliminar',\n",
       "  'Edit': 'Editar',\n",
       "  'Comment': 'Comentar'}}"
      ]
     },
     "execution_count": 63,
     "metadata": {},
     "output_type": "execute_result"
    }
   ],
   "source": [
    "client.get_day_clockings(employee=2, date=\"2020-07-02\")"
   ]
  },
  {
   "cell_type": "markdown",
   "metadata": {},
   "source": [
    "### Edit clocking"
   ]
  },
  {
   "cell_type": "code",
   "execution_count": 64,
   "metadata": {},
   "outputs": [
    {
     "data": {
      "text/plain": [
       "{'ok': True}"
      ]
     },
     "execution_count": 64,
     "metadata": {},
     "output_type": "execute_result"
    }
   ],
   "source": [
    "client.edit_clocking(employee=2, clocking_id=7, date=\"2020-07-02\", time=\"20:30\")"
   ]
  },
  {
   "cell_type": "markdown",
   "metadata": {},
   "source": [
    "### Delete clocking"
   ]
  },
  {
   "cell_type": "code",
   "execution_count": 65,
   "metadata": {},
   "outputs": [
    {
     "data": {
      "text/plain": [
       "{'ok': True}"
      ]
     },
     "execution_count": 65,
     "metadata": {},
     "output_type": "execute_result"
    }
   ],
   "source": [
    "client.delete_clocking(employee=2, clocking_id=7, date=\"2020-07-02\", time=\"20:30\")"
   ]
  },
  {
   "cell_type": "markdown",
   "metadata": {},
   "source": [
    "### Plannings"
   ]
  },
  {
   "cell_type": "code",
   "execution_count": 66,
   "metadata": {},
   "outputs": [],
   "source": [
    "planning = client.get_create_form(\"Persona\", action=\"NewPlanificacion\")\n",
    "planning.update({\n",
    "    \"name\": \"Testing Planning\",\n",
    "    \"allDay\": True,\n",
    "    \"allDayId\": 9, #Timetype ID\n",
    "    \"employee\": [2], #Employee ID\n",
    "    \"dateInterval\": client.get_days_offset([\"2020-10-10\", \"2020-10-11\"]),\n",
    "})\n",
    "# dateInterval is a list of int with differences between setting firstDate\n",
    "# can use get_days_offset() method"
   ]
  },
  {
   "cell_type": "code",
   "execution_count": 67,
   "metadata": {},
   "outputs": [
    {
     "data": {
      "text/plain": [
       "[{'type': 6,\n",
       "  'dataObject': {'id': 3,\n",
       "   '_c_': 'IncidenciaFutura',\n",
       "   'firstDay': '2020-10-10T00:00:00.0000000',\n",
       "   'rev': 47,\n",
       "   'modifiedBy': 'Admin',\n",
       "   'modified': '2020-08-05T19:19:48.5323882-03:00',\n",
       "   'createdBy': 'Admin',\n",
       "   'created': '2020-08-05T19:19:48.5023432-03:00',\n",
       "   'allDayId': 9,\n",
       "   'allDay': True,\n",
       "   'selfOwner': False,\n",
       "   'state': '0',\n",
       "   'name': 'Testing Planning',\n",
       "   'comments': '',\n",
       "   'intState': 0,\n",
       "   'isAccepted': True,\n",
       "   'lastDay': '2020-10-11T00:00:00.0000000',\n",
       "   'numDays': 2,\n",
       "   'confirmBy': 'Admin',\n",
       "   'confirm': '2020-08-05T19:19:48.5173865-03:00',\n",
       "   'describe': '2 días, del 10/10/2020 al 11/10/2020 Todo el día con incidencia Enfermedad',\n",
       "   'hasComment': False,\n",
       "   'error': '',\n",
       "   'stateDescription': 'Aceptada',\n",
       "   'describeTT': 'Enfermedad',\n",
       "   'isPending': False,\n",
       "   'isValidationPending': False,\n",
       "   'isDenied': False,\n",
       "   'totalDocs': 0,\n",
       "   'validatedDays': [],\n",
       "   'dateInterval': [6127, 6128],\n",
       "   'baValidElems': [1,\n",
       "    2,\n",
       "    3,\n",
       "    4,\n",
       "    5,\n",
       "    6,\n",
       "    7,\n",
       "    8,\n",
       "    9,\n",
       "    10,\n",
       "    11,\n",
       "    12,\n",
       "    13,\n",
       "    14,\n",
       "    15,\n",
       "    16,\n",
       "    17,\n",
       "    18,\n",
       "    19,\n",
       "    20,\n",
       "    21,\n",
       "    22,\n",
       "    23,\n",
       "    24],\n",
       "   'timeTypes': [9],\n",
       "   'nodesSource': [],\n",
       "   'employee': 2},\n",
       "  'message': 'El elemento se ha creado correctamente.',\n",
       "  'showActions': True}]"
      ]
     },
     "execution_count": 67,
     "metadata": {},
     "output_type": "execute_result"
    }
   ],
   "source": [
    "data = {\n",
    "    \"container\": \"IncidenciaFutura\",\n",
    "    \"dataObj\": planning,\n",
    "}\n",
    "client.save_element(**data)"
   ]
  },
  {
   "cell_type": "markdown",
   "metadata": {},
   "source": [
    "### Add planning with summary method"
   ]
  },
  {
   "cell_type": "code",
   "execution_count": 68,
   "metadata": {},
   "outputs": [
    {
     "data": {
      "text/plain": [
       "[{'type': 8,\n",
       "  'id': 'BAAAAAEAEAeAAA==',\n",
       "  'rev': 50,\n",
       "  'message': 'Realizada la solicitud de eliminación.'}]"
      ]
     },
     "execution_count": 68,
     "metadata": {},
     "output_type": "execute_result"
    }
   ],
   "source": [
    "# Delete last added element\n",
    "client.delete_element(container=\"IncidenciaFutura\", elements=[3])"
   ]
  },
  {
   "cell_type": "code",
   "execution_count": 69,
   "metadata": {
    "scrolled": true
   },
   "outputs": [
    {
     "data": {
      "text/plain": [
       "[{'type': 6,\n",
       "  'dataObject': {'id': 4,\n",
       "   '_c_': 'IncidenciaFutura',\n",
       "   'firstDay': '2020-10-10T00:00:00.0000000',\n",
       "   'rev': 53,\n",
       "   'modifiedBy': 'Admin',\n",
       "   'modified': '2020-08-05T19:20:18.5712279-03:00',\n",
       "   'createdBy': 'Admin',\n",
       "   'created': '2020-08-05T19:20:18.5457647-03:00',\n",
       "   'allDayId': 9,\n",
       "   'allDay': True,\n",
       "   'selfOwner': False,\n",
       "   'state': '0',\n",
       "   'name': 'Testing summary planning',\n",
       "   'comments': '',\n",
       "   'intState': 0,\n",
       "   'isAccepted': True,\n",
       "   'lastDay': '2020-10-11T00:00:00.0000000',\n",
       "   'numDays': 2,\n",
       "   'confirmBy': 'Admin',\n",
       "   'confirm': '2020-08-05T19:20:18.5586427-03:00',\n",
       "   'describe': '2 días, del 10/10/2020 al 11/10/2020 Todo el día con incidencia Enfermedad',\n",
       "   'hasComment': False,\n",
       "   'error': '',\n",
       "   'stateDescription': 'Aceptada',\n",
       "   'describeTT': 'Enfermedad',\n",
       "   'isPending': False,\n",
       "   'isValidationPending': False,\n",
       "   'isDenied': False,\n",
       "   'totalDocs': 0,\n",
       "   'validatedDays': [],\n",
       "   'dateInterval': [6127, 6128],\n",
       "   'baValidElems': [1,\n",
       "    2,\n",
       "    3,\n",
       "    4,\n",
       "    5,\n",
       "    6,\n",
       "    7,\n",
       "    8,\n",
       "    9,\n",
       "    10,\n",
       "    11,\n",
       "    12,\n",
       "    13,\n",
       "    14,\n",
       "    15,\n",
       "    16,\n",
       "    17,\n",
       "    18,\n",
       "    19,\n",
       "    20,\n",
       "    21,\n",
       "    22,\n",
       "    23,\n",
       "    24],\n",
       "   'timeTypes': [9],\n",
       "   'nodesSource': [],\n",
       "   'employee': 2},\n",
       "  'message': 'El elemento se ha creado correctamente.',\n",
       "  'showActions': True}]"
      ]
     },
     "execution_count": 69,
     "metadata": {},
     "output_type": "execute_result"
    }
   ],
   "source": [
    "client.add_planning(\n",
    "    employee=2,\n",
    "    name=\"Testing summary planning\",\n",
    "    timetype=9,\n",
    "    days=[\"2020-10-10\", \"2020-10-11\"],\n",
    ")"
   ]
  },
  {
   "cell_type": "markdown",
   "metadata": {},
   "source": [
    "### Edit planning"
   ]
  },
  {
   "cell_type": "code",
   "execution_count": 70,
   "metadata": {
    "scrolled": true
   },
   "outputs": [
    {
     "data": {
      "text/plain": [
       "{'total': 1,\n",
       " 'items': [{'id': 4, 'name': 'Testing summary planning', 'allDayId': 9}]}"
      ]
     },
     "execution_count": 70,
     "metadata": {},
     "output_type": "execute_result"
    }
   ],
   "source": [
    "# search planning\n",
    "planning_query = nt6.Query(\n",
    "    fields=[\"id\", \"name\", \"allDayId\", ],\n",
    "    filterExp=\"((this.employee.nif = '987321654') && (this.firstDay = '2020-10-10'))\"\n",
    ")\n",
    "client.get_elements(container=\"IncidenciaFutura\", query=planning_query)"
   ]
  },
  {
   "cell_type": "code",
   "execution_count": 71,
   "metadata": {},
   "outputs": [
    {
     "data": {
      "text/plain": [
       "[6127, 6128]"
      ]
     },
     "execution_count": 71,
     "metadata": {},
     "output_type": "execute_result"
    }
   ],
   "source": [
    "edit_planning = client.get_element_def(container=\"IncidenciaFutura\", elements=[4])\n",
    "edit_planning = edit_planning[0]\n",
    "edit_planning[\"dateInterval\"]"
   ]
  },
  {
   "cell_type": "code",
   "execution_count": 72,
   "metadata": {
    "scrolled": true
   },
   "outputs": [
    {
     "data": {
      "text/plain": [
       "[6127, 6128, 6129]"
      ]
     },
     "execution_count": 72,
     "metadata": {},
     "output_type": "execute_result"
    }
   ],
   "source": [
    "# ever fix employe; must be a list\n",
    "edit_planning[\"employee\"] = [edit_planning.get(\"employee\")]\n",
    "\n",
    "# apply your changes\n",
    "day_to_add = client.get_days_offset([\"2020-10-12\"])\n",
    "edit_planning[\"dateInterval\"].extend(day_to_add)\n",
    "edit_planning[\"dateInterval\"]"
   ]
  },
  {
   "cell_type": "code",
   "execution_count": 73,
   "metadata": {
    "scrolled": true
   },
   "outputs": [
    {
     "data": {
      "text/plain": [
       "'El elemento se ha modificado correctamente.'"
      ]
     },
     "execution_count": 73,
     "metadata": {},
     "output_type": "execute_result"
    }
   ],
   "source": [
    "response = client.save_element(\n",
    "    container=\"IncidenciaFutura\",\n",
    "    elements=[4],\n",
    "    dataObj=edit_planning\n",
    ")\n",
    "response[0].get('message')"
   ]
  },
  {
   "cell_type": "markdown",
   "metadata": {},
   "source": [
    "### Add Activator"
   ]
  },
  {
   "cell_type": "code",
   "execution_count": 74,
   "metadata": {},
   "outputs": [
    {
     "data": {
      "text/plain": [
       "{'total': 1, 'items': [{'id': 1, 'name': 'APROBACION HS'}]}"
      ]
     },
     "execution_count": 74,
     "metadata": {},
     "output_type": "execute_result"
    }
   ],
   "source": [
    "client.get_elements(\"Activadores\")"
   ]
  },
  {
   "cell_type": "code",
   "execution_count": 75,
   "metadata": {
    "scrolled": false
   },
   "outputs": [
    {
     "data": {
      "text/plain": [
       "[{'type': 6,\n",
       "  'dataObject': {'_c_': 'UsoActivadores',\n",
       "   'id': 3,\n",
       "   'name': 'Testing summary activator',\n",
       "   'modified': '0001-01-01T00:00:00.0000000',\n",
       "   'createdBy': 'Admin',\n",
       "   'rev': 40,\n",
       "   'created': '2020-08-05T19:21:16.8877146-03:00',\n",
       "   'numDays': 1,\n",
       "   'lastDay': '2020-07-03T00:00:00.0000000',\n",
       "   'firstDay': '2020-07-03T00:00:00.0000000',\n",
       "   'comment': 'testing',\n",
       "   'employees': [2],\n",
       "   'activators': [{'value': 1, 'activator': 1}],\n",
       "   'days': [6028],\n",
       "   'nodesSource': [],\n",
       "   'multiName': {'es-ES': 'Testing summary activator'},\n",
       "   'validActvs': [1]},\n",
       "  'message': 'El elemento se ha creado correctamente.',\n",
       "  'showActions': True}]"
      ]
     },
     "execution_count": 75,
     "metadata": {},
     "output_type": "execute_result"
    }
   ],
   "source": [
    "client.add_activator(\n",
    "    name=\"Testing summary activator\",\n",
    "    employees=[2],       #list of id's\n",
    "    days=[\"2020-07-03\"], #list of str with isoformat date\n",
    "    activator=1,         #activator id\n",
    "    value=1,             #required depending activator config \n",
    "    comment=\"testing\"    #optional\n",
    ")"
   ]
  },
  {
   "cell_type": "markdown",
   "metadata": {},
   "source": [
    "### Get activity monitor"
   ]
  },
  {
   "cell_type": "code",
   "execution_count": 76,
   "metadata": {
    "scrolled": false
   },
   "outputs": [
    {
     "data": {
      "text/plain": [
       "[{'id': 2,\n",
       "  'days': [{'id': 6027,\n",
       "    'idAno': 2,\n",
       "    'mars': [{'m': 540,\n",
       "      'i': 0,\n",
       "      't': 18,\n",
       "      'e': 268435457,\n",
       "      'o': 8,\n",
       "      'c': '009933'}],\n",
       "    'horari': [{'mi': 540,\n",
       "      'mf': 720,\n",
       "      'ia': False,\n",
       "      'fa': True,\n",
       "      'tv': 2,\n",
       "      'idv': 5},\n",
       "     {'mi': 780, 'mf': 1080, 'ia': True, 'fa': True, 'tv': 2, 'idv': 5},\n",
       "     {'mi': 720, 'mf': 780, 'ia': True, 'fa': True, 'tv': 2, 'idv': 9}],\n",
       "    'idJor': 5,\n",
       "    'bJor': [{'startTime': 0, 'endTime': 1440}]}],\n",
       "  'planInfos': {}},\n",
       " {'info': {}}]"
      ]
     },
     "execution_count": 76,
     "metadata": {},
     "output_type": "execute_result"
    }
   ],
   "source": [
    "client.get_activity_monitor(employees=[2], _from=\"2020-07-02\", to=\"2020-07-03\")"
   ]
  },
  {
   "cell_type": "markdown",
   "metadata": {},
   "source": [
    "#### Data structured like:\n",
    "```python\n",
    "[{'id': employee_ID,\n",
    "  'days': [{\n",
    "    'id': offset_day_number #(settings.firstDate),\n",
    "    'idAno': anomaly_id,\n",
    "    'mars': [{ # Clockings\n",
    "      'm': minute_of_day, \n",
    "      'i': timtype_id,\n",
    "      't': type,\n",
    "      'e': state,\n",
    "      'o': origin,\n",
    "      'c': color}],\n",
    "    'horari': [{ # Jornada\n",
    "      'mi': start,\n",
    "      'mf': end,\n",
    "      'ia': False,\n",
    "      'fa': True,\n",
    "      'tv': 2,\n",
    "      'idv': 5},\n",
    "     {'mi': 780, 'mf': 1080, 'ia': True, 'fa': True, 'tv': 2, 'idv': 5},\n",
    "     {'mi': 720, 'mf': 780, 'ia': True, 'fa': True, 'tv': 2, 'idv': 9}],\n",
    "    'idJor': shift_id,\n",
    "    'bJor': [{'startTime': shift_start, 'endTime': shift_end}]}],\n",
    "  'planInfos': {}},\n",
    " {'info': {}}]\n",
    "```"
   ]
  },
  {
   "cell_type": "markdown",
   "metadata": {},
   "source": [
    "### Get cube results (like results query window)"
   ]
  },
  {
   "cell_type": "code",
   "execution_count": 5,
   "metadata": {
    "scrolled": false
   },
   "outputs": [
    {
     "data": {
      "text/plain": [
       "[{'dimKey': [1, 'Lucyk, Lucas'],\n",
       "  'values': [0, 1440],\n",
       "  'children': [{'dimKey': ['2020-07-02'], 'values': [0, 480]},\n",
       "   {'dimKey': ['2020-07-03'], 'values': [0, 480]},\n",
       "   {'dimKey': ['2020-07-04'], 'values': [0, 480]}]},\n",
       " {'dimKey': [2, 'Doe, John'],\n",
       "  'values': [480, 960],\n",
       "  'children': [{'dimKey': ['2020-07-02'], 'values': [0, 480]},\n",
       "   {'dimKey': ['2020-07-03'], 'values': [480, 480]},\n",
       "   {'dimKey': ['2020-07-04'], 'values': [0, 0]}]}]"
      ]
     },
     "execution_count": 5,
     "metadata": {},
     "output_type": "execute_result"
    }
   ],
   "source": [
    "client.get_cube_results(\n",
    "    dateIni=\"2020-07-02\",\n",
    "    dateEnd=\"2020-07-04\",\n",
    "    dimensions=[\n",
    "        [\"id\", \"Apellidos_Nombre\"],\n",
    "        [\"date\"],\n",
    "        [\"ResultValue_C.Min.NORMALES\", \"ResultValue_S.Min.Jornada_teorica\"]\n",
    "    ]\n",
    ")"
   ]
  },
  {
   "cell_type": "markdown",
   "metadata": {},
   "source": [
    "#### For more information see the documentation"
   ]
  },
  {
   "cell_type": "code",
   "execution_count": 15,
   "metadata": {
    "scrolled": true
   },
   "outputs": [
    {
     "name": "stdout",
     "output_type": "stream",
     "text": [
      "Help on method get_cube_results in module nettime6:\n",
      "\n",
      "get_cube_results(dimensions: list, dateIni: str, dateEnd: str, interfilters: list = [], filters: list = [], ids: list = []) method of nettime6.Client instance\n",
      "    Gets nettime results using the \"Results Query\" window engine.\n",
      "    \n",
      "    :param dimensions: List of list where each one contains the desired \n",
      "        fields or results. The order of the values does matter.\n",
      "    :param dateIni: Start day where you want to calculate.\n",
      "    :param dateIni: End day where you want to calculate.\n",
      "    :param interfilters: (Optional) If you use the dimension \"system\", \n",
      "        specify the ids of the results in this parameter.\n",
      "    :param filters: (Optional) Nettime compatible filter expression.\n",
      "    :param ids: (Optional) List of employee ids in case you want to filter.\n",
      "    \n",
      "    :return: :class:`list` object\n",
      "    :rtype: json\n",
      "\n"
     ]
    }
   ],
   "source": [
    "help(client.get_cube_results)"
   ]
  },
  {
   "cell_type": "markdown",
   "metadata": {},
   "source": [
    "#### Another example..."
   ]
  },
  {
   "cell_type": "code",
   "execution_count": 17,
   "metadata": {},
   "outputs": [
    {
     "data": {
      "text/plain": [
       "{'total': 13,\n",
       " 'items': [{'id': 0, 'name': 'Productivas en el centro'},\n",
       "  {'id': 1, 'name': 'Productivas fuera del centro'},\n",
       "  {'id': 2, 'name': 'No productivas en el centro'},\n",
       "  {'id': 3, 'name': 'No productivas fuera del centro'},\n",
       "  {'id': 4, 'name': 'Ausencias justificadas'},\n",
       "  {'id': 5, 'name': 'Ausencias no justificadas'},\n",
       "  {'id': 6, 'name': 'Productivas'},\n",
       "  {'id': 7, 'name': 'No productivas'},\n",
       "  {'id': 8, 'name': 'Trabajadas'},\n",
       "  {'id': 9, 'name': 'Pausas'},\n",
       "  {'id': 10, 'name': 'Retrasos'},\n",
       "  {'id': 11, 'name': 'Jornada teórica'},\n",
       "  {'id': 12, 'name': 'Filtro día'}]}"
      ]
     },
     "execution_count": 17,
     "metadata": {},
     "output_type": "execute_result"
    }
   ],
   "source": [
    "# get system result ids\n",
    "client.get_elements(\"SystemResult\")"
   ]
  },
  {
   "cell_type": "code",
   "execution_count": 26,
   "metadata": {
    "scrolled": true
   },
   "outputs": [
    {
     "data": {
      "text/plain": [
       "[{'dimKey': [1, 'Lucyk, Lucas'],\n",
       "  'values': [1440],\n",
       "  'children': [{'dimKey': ['2020-07-02'],\n",
       "    'values': [480],\n",
       "    'children': [{'dimKey': ['Jornada teórica'], 'values': [480]}]},\n",
       "   {'dimKey': ['2020-07-03'],\n",
       "    'values': [480],\n",
       "    'children': [{'dimKey': ['Jornada teórica'], 'values': [480]}]},\n",
       "   {'dimKey': ['2020-07-04'],\n",
       "    'values': [480],\n",
       "    'children': [{'dimKey': ['Jornada teórica'], 'values': [480]}]}]},\n",
       " {'dimKey': [2, 'Doe, John'],\n",
       "  'values': [1475],\n",
       "  'children': [{'dimKey': ['2020-07-02'],\n",
       "    'values': [480],\n",
       "    'children': [{'dimKey': ['Jornada teórica'], 'values': [480]}]},\n",
       "   {'dimKey': ['2020-07-03'],\n",
       "    'values': [995],\n",
       "    'children': [{'dimKey': ['Productivas'], 'values': [515]},\n",
       "     {'dimKey': ['Jornada teórica'], 'values': [480]}]}]}]"
      ]
     },
     "execution_count": 26,
     "metadata": {},
     "output_type": "execute_result"
    }
   ],
   "source": [
    "# get results with system engine\n",
    "client.get_cube_results(\n",
    "    dateIni=\"2020-07-02\",\n",
    "    dateEnd=\"2020-07-04\",\n",
    "    dimensions=[\n",
    "        [\"id\", \"Apellidos_Nombre\"],\n",
    "        [\"date\"],\n",
    "        [\"sistema\"],\n",
    "        [\"interTotal\"]\n",
    "    ],\n",
    "    interFilters=[{\n",
    "        \"dimension\": \"sistema\",\n",
    "        \"elements\": [6, 11] #Productivas and Jornada teórica\n",
    "    }]\n",
    ")"
   ]
  },
  {
   "cell_type": "markdown",
   "metadata": {},
   "source": [
    "### Assign calendar"
   ]
  },
  {
   "cell_type": "code",
   "execution_count": 139,
   "metadata": {},
   "outputs": [
    {
     "data": {
      "text/plain": [
       "{'id': 2,\n",
       " '_c_': '',\n",
       " 'created': '0001-01-01T00:00:00.0000000',\n",
       " 'modified': '0001-01-01T00:00:00.0000000',\n",
       " 'name': '',\n",
       " 'rev': 0,\n",
       " 'years': [{'Year': 2012, 'days': {}},\n",
       "  {'Year': 2016, 'days': {}},\n",
       "  {'Year': 2017, 'days': {}},\n",
       "  {'Year': 2018, 'days': {}},\n",
       "  {'Year': 2019, 'days': {}},\n",
       "  {'Year': 2020,\n",
       "   'days': {'0': {'shifts': [4]},\n",
       "    '1': {'shifts': [4]},\n",
       "    '33': {'shifts': [3]},\n",
       "    '34': {'shifts': [3]},\n",
       "    '35': {'shifts': [3]},\n",
       "    '36': {'shifts': [3]},\n",
       "    '37': {'shifts': [3]},\n",
       "    '54': {'shifts': [3]},\n",
       "    '55': {'shifts': [3]},\n",
       "    '56': {'shifts': [3]},\n",
       "    '57': {'shifts': [3]},\n",
       "    '58': {'shifts': [3]},\n",
       "    '217': {'shifts': [2]}}},\n",
       "  {'Year': 2021, 'days': {}}],\n",
       " 'Cycles': [],\n",
       " 'Calendars': [{'id': 2, 'name': 'Flexible 8h'}],\n",
       " 'nodesSource': [],\n",
       " 'multiName': {'es-ES': ''}}"
      ]
     },
     "execution_count": 139,
     "metadata": {},
     "output_type": "execute_result"
    }
   ],
   "source": [
    "edit_employee = client.set_employee_calendar(employee=2, calendar=\"Flexible 8h\")\n",
    "edit_employee[0].get('dataObject').get('Calendar')"
   ]
  },
  {
   "cell_type": "markdown",
   "metadata": {},
   "source": [
    "### Assign department"
   ]
  },
  {
   "cell_type": "code",
   "execution_count": 16,
   "metadata": {
    "scrolled": true
   },
   "outputs": [
    {
     "data": {
      "text/plain": [
       "[{'id': 17}]"
      ]
     },
     "execution_count": 16,
     "metadata": {},
     "output_type": "execute_result"
    }
   ],
   "source": [
    "path = [\"SPEC SA\", \"Argentina\", \"CABA\", \"Information Technology\", \"Help Desk\"]\n",
    "edit_employee = client.set_employee_department(employee=2, node_path=path)\n",
    "edit_employee[0].get('dataObject').get('Departments')"
   ]
  },
  {
   "cell_type": "markdown",
   "metadata": {},
   "source": [
    "### Get departments"
   ]
  },
  {
   "cell_type": "code",
   "execution_count": null,
   "metadata": {},
   "outputs": [],
   "source": [
    "# to dev..."
   ]
  },
  {
   "cell_type": "markdown",
   "metadata": {},
   "source": [
    "### Disconnect"
   ]
  },
  {
   "cell_type": "code",
   "execution_count": 51,
   "metadata": {},
   "outputs": [
    {
     "data": {
      "text/plain": [
       "False"
      ]
     },
     "execution_count": 51,
     "metadata": {},
     "output_type": "execute_result"
    }
   ],
   "source": [
    "client.disconnect()\n",
    "client.is_connected"
   ]
  },
  {
   "cell_type": "code",
   "execution_count": 7,
   "metadata": {},
   "outputs": [
    {
     "data": {
      "text/plain": [
       "[{'id': 4,\n",
       "  '_c_': 'Persona',\n",
       "  'name': '29506717',\n",
       "  'changePassword': False,\n",
       "  'firstWONumDays': 0,\n",
       "  'firstWO': -1,\n",
       "  'firstWANumDays': 0,\n",
       "  'firstWA': -1,\n",
       "  'firstTTNumDays': 0,\n",
       "  'firstTT': -1,\n",
       "  'termVoice': False,\n",
       "  'timeoutEnrollMinutes': 0,\n",
       "  'created': '2020-09-28T14:41:41.3680000',\n",
       "  'timeoutEnrollDate': '0001-01-01T00:00:00.0000000',\n",
       "  'enrollActive': False,\n",
       "  'sex': 2,\n",
       "  'perso_g40': False,\n",
       "  'securityLevel': 0,\n",
       "  'ticketEmail': False,\n",
       "  'email': 'adragani@bago.com.ar',\n",
       "  'timeoutEnroll': '0001-01-01T00:00:00.0000000',\n",
       "  'createdBy': 'ImportCSV',\n",
       "  'modified': '0001-01-01T00:00:00.0000000',\n",
       "  'cpago': 10,\n",
       "  'Visitas.ProgramarVisitas': False,\n",
       "  'Visitas.RecibirVisitas': False,\n",
       "  'MobileClocking': False,\n",
       "  'Portal.DisablePasswordChange': False,\n",
       "  'Portal.DisableCalendar': False,\n",
       "  'Portal.DisablePlannings': False,\n",
       "  'Portal.DisableMovimientos': False,\n",
       "  'Portal.NoPuedeEditar': False,\n",
       "  'Portal.NoRequiereValidacionEnCorreccion': False,\n",
       "  'Portal.UsaPortal': False,\n",
       "  'virtualCard': False,\n",
       "  'geolocalize': 'geoNever',\n",
       "  'offline': False,\n",
       "  'totalDocs': 0,\n",
       "  'Portal.ChangeLanguage': True,\n",
       "  'rev': 51,\n",
       "  'Portal.DisableVistaResumen': False,\n",
       "  'birthdate': '1982-06-29T00:00:00.0000000',\n",
       "  'perso_cextras': False,\n",
       "  'acceptAllReaders': False,\n",
       "  'acceptAllTT': False,\n",
       "  'NoAttendance': False,\n",
       "  'htmlPortal': True,\n",
       "  'inactive': True,\n",
       "  'pwdCantChange': False,\n",
       "  'pwdNextLogin': False,\n",
       "  'exboss': True,\n",
       "  'RegisterSystemDate': '2020-09-28T00:00:00.0000000',\n",
       "  'pwdExpires': True,\n",
       "  'pwdRetries': 0,\n",
       "  'lastPwdChange': '0001-01-01T00:00:00.0000000',\n",
       "  'NumFingers': 0,\n",
       "  'PIN': 0,\n",
       "  'companyCode': 'AR10',\n",
       "  'FirstDayNotValid': '2020-09-28T00:00:00.0000000',\n",
       "  'employeeCode': '15179',\n",
       "  'FingerIEVO1EnrollDate': '0001-01-01T00:00:00.0000000',\n",
       "  'Finger2EnrollDate': '0001-01-01T00:00:00.0000000',\n",
       "  'Finger1EnrollDate': '0001-01-01T00:00:00.0000000',\n",
       "  'nameEmployee': 'ANDREA JIMENA',\n",
       "  'LastName': 'DRAGANI',\n",
       "  'FingerIEVO2EnrollDate': '0001-01-01T00:00:00.0000000',\n",
       "  'Cards': [],\n",
       "  'Readers': [],\n",
       "  'Calendar': {'id': 4,\n",
       "   '_c_': '',\n",
       "   'created': '0001-01-01T00:00:00.0000000',\n",
       "   'modified': '0001-01-01T00:00:00.0000000',\n",
       "   'name': '4',\n",
       "   'rev': 0,\n",
       "   'years': [{'Year': 2020, 'days': {}}],\n",
       "   'Cycles': [],\n",
       "   'Calendars': [{'id': 9, 'name': 'L a V de 9 a 18'}],\n",
       "   'nodesSource': [],\n",
       "   'multiName': {'es-ES': '4'}},\n",
       "  'ActiveDays': {'validity': [{'start': '2011-01-17T00:00:00.0000000',\n",
       "     'end': '2040-12-31T00:00:00.0000000'}]},\n",
       "  'perso_convenio': 2,\n",
       "  'nodesSource': [{'data': '2', 'label': 'BAGO'},\n",
       "   {'data': '3', 'label': 'BAGO · 10'},\n",
       "   {'data': '4', 'label': 'BAGO · 10 · AA0'},\n",
       "   {'data': '5', 'label': 'BAGO · 10 · AA0 · 1000'},\n",
       "   {'data': '6', 'label': 'BAGO · 10 · AA0 · 1005'},\n",
       "   {'data': '12', 'label': 'BAGO · 10 · AA0 · 1025'},\n",
       "   {'data': '13', 'label': 'BAGO · 10 · AA0 · 1030'},\n",
       "   {'data': '14', 'label': 'BAGO · 10 · AB0'},\n",
       "   {'data': '15', 'label': 'BAGO · 10 · AB0 · 1035'},\n",
       "   {'data': '16', 'label': 'BAGO · 10 · AB0 · 1055'},\n",
       "   {'data': '17', 'label': 'BAGO · 10 · AB0 · 1065'},\n",
       "   {'data': '18', 'label': 'BAGO · 10 · AB0 · 1070'},\n",
       "   {'data': '19', 'label': 'BAGO · 10 · AB0 · 1075'},\n",
       "   {'data': '23', 'label': 'BAGO · 10 · AB0 · 1040'},\n",
       "   {'data': '30', 'label': 'BAGO · 10 · AC0'},\n",
       "   {'data': '31', 'label': 'BAGO · 10 · AC0 · 1185'},\n",
       "   {'data': '32', 'label': 'BAGO · 10 · AC0 · 1190'},\n",
       "   {'data': '37', 'label': 'BAGO · 10 · AC0 · 1210'},\n",
       "   {'data': '38', 'label': 'BAGO · 10 · AC0 · 1195'},\n",
       "   {'data': '40', 'label': 'BAGO · 10 · AC0 · 1215'},\n",
       "   {'data': '41', 'label': 'BAGO · 10 · AD0'},\n",
       "   {'data': '42', 'label': 'BAGO · 10 · AD0 · 1220'},\n",
       "   {'data': '93', 'label': 'BAGO · 10 · AE0'},\n",
       "   {'data': '94', 'label': 'BAGO · 10 · AE0 · 1485'},\n",
       "   {'data': '108', 'label': 'BAGO · 10 · AE0 · 1490'},\n",
       "   {'data': '109', 'label': 'BAGO · 10 · AE0 · 1500'},\n",
       "   {'data': '110', 'label': 'BAGO · 10 · AE0 · 1495'},\n",
       "   {'data': '111', 'label': 'BAGO · 10 · AE0 · 1505'},\n",
       "   {'data': '112', 'label': 'BAGO · 10 · AE0 · 1510'},\n",
       "   {'data': '113', 'label': 'BAGO · 10 · AE0 · 1515'},\n",
       "   {'data': '114', 'label': 'BAGO · 10 · AE0 · 1520'},\n",
       "   {'data': '115', 'label': 'BAGO · 10 · AE0 · 1525'},\n",
       "   {'data': '117', 'label': 'BAGO · 10 · AE0 · 1530'},\n",
       "   {'data': '172', 'label': 'BAGO · 10 · AG0'},\n",
       "   {'data': '173', 'label': 'BAGO · 10 · AG0 · 1765'},\n",
       "   {'data': '174', 'label': 'BAGO · 10 · AG0 · 1770'},\n",
       "   {'data': '175', 'label': 'BAGO · 10 · AG0 · 1775'},\n",
       "   {'data': '176', 'label': 'BAGO · 10 · AG0 · 1790'},\n",
       "   {'data': '177', 'label': 'BAGO · 10 · AG0 · 1795'},\n",
       "   {'data': '178', 'label': 'BAGO · 10 · AG0 · 1780'},\n",
       "   {'data': '179', 'label': 'BAGO · 10 · AG0 · 1785'},\n",
       "   {'data': '180', 'label': 'BAGO · 10 · AG0 · 1800'},\n",
       "   {'data': '181', 'label': 'BAGO · 10 · AG0 · 1805'},\n",
       "   {'data': '182', 'label': 'BAGO · 10 · AG0 · 1810'},\n",
       "   {'data': '198', 'label': 'BAGO · 10 · AH0'},\n",
       "   {'data': '199', 'label': 'BAGO · 10 · AH0 · 1875'},\n",
       "   {'data': '200', 'label': 'BAGO · 10 · AH0 · 1900'},\n",
       "   {'data': '201', 'label': 'BAGO · 10 · AH0 · 1905'},\n",
       "   {'data': '202', 'label': 'BAGO · 10 · AH0 · 1910'},\n",
       "   {'data': '203', 'label': 'BAGO · 10 · AH0 · 1915'},\n",
       "   {'data': '204', 'label': 'BAGO · 10 · AH0 · 1920'},\n",
       "   {'data': '205', 'label': 'BAGO · 10 · AH0 · 1925'},\n",
       "   {'data': '206', 'label': 'BAGO · 10 · AH0 · 1930'},\n",
       "   {'data': '207', 'label': 'BAGO · 10 · AH0 · 1935'},\n",
       "   {'data': '208', 'label': 'BAGO · 10 · AH0 · 1940'},\n",
       "   {'data': '212', 'label': 'BAGO · 10 · AH0 · 1880'},\n",
       "   {'data': '213', 'label': 'BAGO · 10 · AH0 · 1885'},\n",
       "   {'data': '214', 'label': 'BAGO · 10 · AH0 · 1890'},\n",
       "   {'data': '215', 'label': 'BAGO · 10 · AH0 · 1955'},\n",
       "   {'data': '222', 'label': 'BAGO · 10 · AI0'},\n",
       "   {'data': '223', 'label': 'BAGO · 10 · AI0 · 1975'},\n",
       "   {'data': '226', 'label': 'BAGO · 10 · AI0 · 1995'},\n",
       "   {'data': '229', 'label': 'BAGO · 10 · AJ0'},\n",
       "   {'data': '230', 'label': 'BAGO · 10 · AJ0 · 2010'},\n",
       "   {'data': '231', 'label': 'BAGO · 10 · AJ0 · 2015'},\n",
       "   {'data': '237', 'label': 'BAGO · 10 · AL0'},\n",
       "   {'data': '238', 'label': 'BAGO · 10 · AL0 · 2045'},\n",
       "   {'data': '244', 'label': 'BAGO · 10 · ZA0'},\n",
       "   {'data': '245', 'label': 'BAGO · 10 · ZA0 · 2055'},\n",
       "   {'data': '246', 'label': 'BAGO · 10 · ZE0'},\n",
       "   {'data': '247', 'label': 'BAGO · 10 · ZE0 · 2085'},\n",
       "   {'data': '248', 'label': 'BAGO · 10 · ZF0'},\n",
       "   {'data': '249', 'label': 'BAGO · 10 · ZF0 · 2090'},\n",
       "   {'data': '7', 'label': 'BAGO · 30'},\n",
       "   {'data': '8', 'label': 'BAGO · 30 · AA0'},\n",
       "   {'data': '9', 'label': 'BAGO · 30 · AA0 · 1010'},\n",
       "   {'data': '10', 'label': 'BAGO · 30 · AA0 · 1015'},\n",
       "   {'data': '11', 'label': 'BAGO · 30 · AA0 · 1020'},\n",
       "   {'data': '20', 'label': 'BAGO · 50'},\n",
       "   {'data': '21', 'label': 'BAGO · 50 · AB0'},\n",
       "   {'data': '22', 'label': 'BAGO · 50 · AB0 · 1045'},\n",
       "   {'data': '24', 'label': 'BAGO · 50 · AB1'},\n",
       "   {'data': '25', 'label': 'BAGO · 50 · AB1 · 1080'},\n",
       "   {'data': '26', 'label': 'BAGO · 50 · AC0'},\n",
       "   {'data': '27', 'label': 'BAGO · 50 · AC0 · 1170'},\n",
       "   {'data': '28', 'label': 'BAGO · 50 · AC0 · 1175'},\n",
       "   {'data': '29', 'label': 'BAGO · 50 · AC0 · 1180'},\n",
       "   {'data': '39', 'label': 'BAGO · 50 · AC0 · 1215'},\n",
       "   {'data': '216', 'label': 'BAGO · 50 · AI0'},\n",
       "   {'data': '217', 'label': 'BAGO · 50 · AI0 · 1960'},\n",
       "   {'data': '218', 'label': 'BAGO · 50 · AI0 · 1965'},\n",
       "   {'data': '219', 'label': 'BAGO · 50 · AI0 · 1970'},\n",
       "   {'data': '220', 'label': 'BAGO · 50 · AI0 · 1980'},\n",
       "   {'data': '221', 'label': 'BAGO · 50 · AI0 · 1985'},\n",
       "   {'data': '224', 'label': 'BAGO · 50 · AI0 · 1990'},\n",
       "   {'data': '225', 'label': 'BAGO · 50 · AI0 · 2005'},\n",
       "   {'data': '33', 'label': 'BAGO · 24'},\n",
       "   {'data': '34', 'label': 'BAGO · 24 · AC0'},\n",
       "   {'data': '35', 'label': 'BAGO · 24 · AC0 · 1200'},\n",
       "   {'data': '36', 'label': 'BAGO · 24 · AC0 · 1205'},\n",
       "   {'data': '43', 'label': 'BAGO · 80'},\n",
       "   {'data': '44', 'label': 'BAGO · 80 · AE0'},\n",
       "   {'data': '45', 'label': 'BAGO · 80 · AE0 · 1225'},\n",
       "   {'data': '46', 'label': 'BAGO · 80 · AE0 · 1295'},\n",
       "   {'data': '50', 'label': 'BAGO · 80 · AE0 · 1320'},\n",
       "   {'data': '51', 'label': 'BAGO · 80 · AE0 · 1325'},\n",
       "   {'data': '52', 'label': 'BAGO · 80 · AE0 · 1330'},\n",
       "   {'data': '53', 'label': 'BAGO · 80 · AE0 · 1335'},\n",
       "   {'data': '54', 'label': 'BAGO · 80 · AE0 · 1340'},\n",
       "   {'data': '55', 'label': 'BAGO · 80 · AE0 · 1345'},\n",
       "   {'data': '56', 'label': 'BAGO · 80 · AE0 · 1350'},\n",
       "   {'data': '57', 'label': 'BAGO · 80 · AE0 · 1355'},\n",
       "   {'data': '58', 'label': 'BAGO · 80 · AE0 · 1365'},\n",
       "   {'data': '59', 'label': 'BAGO · 80 · AE0 · 1370'},\n",
       "   {'data': '60', 'label': 'BAGO · 80 · AE0 · 1375'},\n",
       "   {'data': '61', 'label': 'BAGO · 80 · AE0 · 1360'},\n",
       "   {'data': '62', 'label': 'BAGO · 80 · AE0 · 1380'},\n",
       "   {'data': '63', 'label': 'BAGO · 80 · AE0 · 1390'},\n",
       "   {'data': '64', 'label': 'BAGO · 80 · AE0 · 1395'},\n",
       "   {'data': '65', 'label': 'BAGO · 80 · AE0 · 1385'},\n",
       "   {'data': '66', 'label': 'BAGO · 80 · AE0 · 1400'},\n",
       "   {'data': '84', 'label': 'BAGO · 80 · AE0 · 1460'},\n",
       "   {'data': '85', 'label': 'BAGO · 80 · AE0 · 1465'},\n",
       "   {'data': '86', 'label': 'BAGO · 80 · AE0 · 1470'},\n",
       "   {'data': '87', 'label': 'BAGO · 80 · AE0 · 1475'},\n",
       "   {'data': '91', 'label': 'BAGO · 80 · AE0 · 1480'},\n",
       "   {'data': '92', 'label': 'BAGO · 80 · AE0 · 1485'},\n",
       "   {'data': '96', 'label': 'BAGO · 80 · AE0 · 1235'},\n",
       "   {'data': '97', 'label': 'BAGO · 80 · AE0 · 1240'},\n",
       "   {'data': '98', 'label': 'BAGO · 80 · AE0 · 1245'},\n",
       "   {'data': '105', 'label': 'BAGO · 80 · AE0 · 1280'},\n",
       "   {'data': '106', 'label': 'BAGO · 80 · AE0 · 1285'},\n",
       "   {'data': '107', 'label': 'BAGO · 80 · AE0 · 1290'},\n",
       "   {'data': '116', 'label': 'BAGO · 80 · AE0 · 1530'},\n",
       "   {'data': '118', 'label': 'BAGO · 80 · AF0'},\n",
       "   {'data': '119', 'label': 'BAGO · 80 · AF0 · 1535'},\n",
       "   {'data': '120', 'label': 'BAGO · 80 · AF0 · 1565'},\n",
       "   {'data': '121', 'label': 'BAGO · 80 · AF0 · 1575'},\n",
       "   {'data': '122', 'label': 'BAGO · 80 · AF0 · 1580'},\n",
       "   {'data': '123', 'label': 'BAGO · 80 · AF0 · 1585'},\n",
       "   {'data': '124', 'label': 'BAGO · 80 · AF0 · 1590'},\n",
       "   {'data': '125', 'label': 'BAGO · 80 · AF0 · 1595'},\n",
       "   {'data': '126', 'label': 'BAGO · 80 · AF0 · 1600'},\n",
       "   {'data': '127', 'label': 'BAGO · 80 · AF0 · 1605'},\n",
       "   {'data': '128', 'label': 'BAGO · 80 · AF0 · 1610'},\n",
       "   {'data': '129', 'label': 'BAGO · 80 · AF0 · 1615'},\n",
       "   {'data': '130', 'label': 'BAGO · 80 · AF0 · 1620'},\n",
       "   {'data': '131', 'label': 'BAGO · 80 · AF0 · 1625'},\n",
       "   {'data': '132', 'label': 'BAGO · 80 · AF0 · 1630'},\n",
       "   {'data': '133', 'label': 'BAGO · 80 · AF0 · 1635'},\n",
       "   {'data': '134', 'label': 'BAGO · 80 · AF0 · 1640'},\n",
       "   {'data': '135', 'label': 'BAGO · 80 · AF0 · 1645'},\n",
       "   {'data': '136', 'label': 'BAGO · 80 · AF0 · 1650'},\n",
       "   {'data': '142', 'label': 'BAGO · 80 · AF0 · 1675'},\n",
       "   {'data': '143', 'label': 'BAGO · 80 · AF0 · 1680'},\n",
       "   {'data': '144', 'label': 'BAGO · 80 · AF0 · 1685'},\n",
       "   {'data': '147', 'label': 'BAGO · 80 · AF0 · 1690'},\n",
       "   {'data': '148', 'label': 'BAGO · 80 · AF0 · 1700'},\n",
       "   {'data': '149', 'label': 'BAGO · 80 · AF0 · 1705'},\n",
       "   {'data': '150', 'label': 'BAGO · 80 · AF0 · 1710'},\n",
       "   {'data': '151', 'label': 'BAGO · 80 · AF0 · 1715'},\n",
       "   {'data': '155', 'label': 'BAGO · 80 · AF0 · 1720'},\n",
       "   {'data': '156', 'label': 'BAGO · 80 · AF0 · 1725'},\n",
       "   {'data': '158', 'label': 'BAGO · 80 · AF0 · 1695'},\n",
       "   {'data': '159', 'label': 'BAGO · 80 · AF0 · 1540'},\n",
       "   {'data': '160', 'label': 'BAGO · 80 · AF0 · 1545'},\n",
       "   {'data': '161', 'label': 'BAGO · 80 · AF0 · 1550'},\n",
       "   {'data': '183', 'label': 'BAGO · 80 · AG0'},\n",
       "   {'data': '184', 'label': 'BAGO · 80 · AG0 · 1815'},\n",
       "   {'data': '187', 'label': 'BAGO · 80 · AG0 · 1825'},\n",
       "   {'data': '188', 'label': 'BAGO · 80 · AG0 · 1830'},\n",
       "   {'data': '189', 'label': 'BAGO · 80 · AG0 · 1835'},\n",
       "   {'data': '190', 'label': 'BAGO · 80 · AG0 · 1840'},\n",
       "   {'data': '191', 'label': 'BAGO · 80 · AG0 · 1845'},\n",
       "   {'data': '192', 'label': 'BAGO · 80 · AG0 · 1850'},\n",
       "   {'data': '197', 'label': 'BAGO · 80 · AG0 · 1865'},\n",
       "   {'data': '209', 'label': 'BAGO · 80 · AH0'},\n",
       "   {'data': '210', 'label': 'BAGO · 80 · AH0 · 1945'},\n",
       "   {'data': '211', 'label': 'BAGO · 80 · AH0 · 1950'},\n",
       "   {'data': '227', 'label': 'BAGO · 80 · AI0'},\n",
       "   {'data': '228', 'label': 'BAGO · 80 · AI0 · 2000'},\n",
       "   {'data': '47', 'label': 'BAGO · 70'},\n",
       "   {'data': '48', 'label': 'BAGO · 70 · AE0'},\n",
       "   {'data': '49', 'label': 'BAGO · 70 · AE0 · 1295'},\n",
       "   {'data': '77', 'label': 'BAGO · 70 · AE0 · 1445'},\n",
       "   {'data': '78', 'label': 'BAGO · 70 · AE0 · 1450'},\n",
       "   {'data': '79', 'label': 'BAGO · 70 · AE0 · 1455'},\n",
       "   {'data': '80', 'label': 'BAGO · 70 · AE0 · 1300'},\n",
       "   {'data': '81', 'label': 'BAGO · 70 · AE0 · 1305'},\n",
       "   {'data': '82', 'label': 'BAGO · 70 · AE0 · 1310'},\n",
       "   {'data': '83', 'label': 'BAGO · 70 · AE0 · 1315'},\n",
       "   {'data': '165', 'label': 'BAGO · 70 · AF0'},\n",
       "   {'data': '166', 'label': 'BAGO · 70 · AF0 · 1735'},\n",
       "   {'data': '167', 'label': 'BAGO · 70 · AF0 · 1740'},\n",
       "   {'data': '168', 'label': 'BAGO · 70 · AF0 · 1745'},\n",
       "   {'data': '169', 'label': 'BAGO · 70 · AF0 · 1755'},\n",
       "   {'data': '170', 'label': 'BAGO · 70 · AF0 · 1760'},\n",
       "   {'data': '171', 'label': 'BAGO · 70 · AF0 · 1750'},\n",
       "   {'data': '193', 'label': 'BAGO · 70 · AG0'},\n",
       "   {'data': '194', 'label': 'BAGO · 70 · AG0 · 1855'},\n",
       "   {'data': '195', 'label': 'BAGO · 70 · AG0 · 1860'},\n",
       "   {'data': '196', 'label': 'BAGO · 70 · AG0 · 1865'},\n",
       "   {'data': '67', 'label': 'BAGO · 90'},\n",
       "   {'data': '68', 'label': 'BAGO · 90 · AE0'},\n",
       "   {'data': '69', 'label': 'BAGO · 90 · AE0 · 1405'},\n",
       "   {'data': '70', 'label': 'BAGO · 90 · AE0 · 1410'},\n",
       "   {'data': '71', 'label': 'BAGO · 90 · AE0 · 1415'},\n",
       "   {'data': '72', 'label': 'BAGO · 90 · AE0 · 1420'},\n",
       "   {'data': '73', 'label': 'BAGO · 90 · AE0 · 1425'},\n",
       "   {'data': '74', 'label': 'BAGO · 90 · AE0 · 1430'},\n",
       "   {'data': '75', 'label': 'BAGO · 90 · AE0 · 1435'},\n",
       "   {'data': '76', 'label': 'BAGO · 90 · AE0 · 1440'},\n",
       "   {'data': '137', 'label': 'BAGO · 90 · AF0'},\n",
       "   {'data': '138', 'label': 'BAGO · 90 · AF0 · 1655'},\n",
       "   {'data': '139', 'label': 'BAGO · 90 · AF0 · 1660'},\n",
       "   {'data': '140', 'label': 'BAGO · 90 · AF0 · 1665'},\n",
       "   {'data': '141', 'label': 'BAGO · 90 · AF0 · 1670'},\n",
       "   {'data': '185', 'label': 'BAGO · 90 · AG0'},\n",
       "   {'data': '186', 'label': 'BAGO · 90 · AG0 · 1820'},\n",
       "   {'data': '88', 'label': 'BAGO · 81'},\n",
       "   {'data': '89', 'label': 'BAGO · 81 · AE0'},\n",
       "   {'data': '90', 'label': 'BAGO · 81 · AE0 · 1475'},\n",
       "   {'data': '95', 'label': 'BAGO · 81 · AE0 · 1230'},\n",
       "   {'data': '99', 'label': 'BAGO · 81 · AE0 · 1250'},\n",
       "   {'data': '100', 'label': 'BAGO · 81 · AE0 · 1255'},\n",
       "   {'data': '101', 'label': 'BAGO · 81 · AE0 · 1260'},\n",
       "   {'data': '102', 'label': 'BAGO · 81 · AE0 · 1265'},\n",
       "   {'data': '103', 'label': 'BAGO · 81 · AE0 · 1270'},\n",
       "   {'data': '104', 'label': 'BAGO · 81 · AE0 · 1275'},\n",
       "   {'data': '145', 'label': 'BAGO · 81 · AF0'},\n",
       "   {'data': '146', 'label': 'BAGO · 81 · AF0 · 1570'},\n",
       "   {'data': '152', 'label': 'BAGO · 71'},\n",
       "   {'data': '153', 'label': 'BAGO · 71 · AF0'},\n",
       "   {'data': '154', 'label': 'BAGO · 71 · AF0 · 1715'},\n",
       "   {'data': '157', 'label': 'BAGO · 71 · AF0 · 1730'},\n",
       "   {'data': '162', 'label': 'BAGO · 18'},\n",
       "   {'data': '163', 'label': 'BAGO · 18 · AF0'},\n",
       "   {'data': '164', 'label': 'BAGO · 18 · AF0 · 1555'},\n",
       "   {'data': '232', 'label': 'BAGO · 18 · AK0'},\n",
       "   {'data': '233', 'label': 'BAGO · 18 · AK0 · 2020'},\n",
       "   {'data': '234', 'label': 'BAGO · 18 · AK0 · 2035'},\n",
       "   {'data': '235', 'label': 'BAGO · 18 · AK0 · 2040'},\n",
       "   {'data': '236', 'label': 'BAGO · 18 · AK0 · 2025'},\n",
       "   {'data': '239', 'label': 'BAGO · 12'},\n",
       "   {'data': '240', 'label': 'BAGO · 12 · ZB0'},\n",
       "   {'data': '241', 'label': 'BAGO · 12 · ZB0 · 2060'},\n",
       "   {'data': '242', 'label': 'BAGO · 12 · ZB0 · 2070'},\n",
       "   {'data': '243', 'label': 'BAGO · 12 · ZB0 · 2065'}],\n",
       "  'doAccess': {'total': True, 'offsetIn': 0, 'offsetOut': 0},\n",
       "  'TimeTypesEmployee': [],\n",
       "  'Departments': [{'id': 5,\n",
       "    'validity': [{'start': '2004-01-01T00:00:00.0000000',\n",
       "      'end': '2040-12-31T00:00:00.0000000'}]}],\n",
       "  'geolocSource': [{'data': 'geoAlways', 'label': 'Siempre'},\n",
       "   {'data': 'geoIfPossible', 'label': 'Si es posible'},\n",
       "   {'data': 'geoNever', 'label': 'Nunca'}],\n",
       "  'enrollDevices': [],\n",
       "  'source': [],\n",
       "  'initialValuesList': [],\n",
       "  'node': 5,\n",
       "  'Accesos.Zona': 1,\n",
       "  'languages': [{'data': 'ca-ES', 'label': 'Català'},\n",
       "   {'data': 'en-GB', 'label': 'English'},\n",
       "   {'data': 'es-ES', 'label': 'Español'},\n",
       "   {'data': 'eu-ES', 'label': 'Euskara'},\n",
       "   {'data': 'fr-FR', 'label': 'Français'},\n",
       "   {'data': 'pt-PT', 'label': 'Português'}]}]"
      ]
     },
     "execution_count": 7,
     "metadata": {},
     "output_type": "execute_result"
    }
   ],
   "source": [
    "client.get_element_def(container=\"Persona\", elements=[4])"
   ]
  },
  {
   "cell_type": "code",
   "execution_count": 11,
   "metadata": {},
   "outputs": [
    {
     "data": {
      "text/plain": [
       "{'total': 2,\n",
       " 'items': [{'nif': '9876451',\n",
       "   'name': 'GGDOE',\n",
       "   'LastName': 'Doe',\n",
       "   'nameEmployee': 'John',\n",
       "   'modified': '2020-08-27T13:43:23.9364016-03:00'},\n",
       "  {'nif': '12345678',\n",
       "   'name': 'N08915465',\n",
       "   'LastName': 'Spec',\n",
       "   'nameEmployee': 'Argentina',\n",
       "   'modified': '2020-08-27T14:17:29.5623089-03:00'}]}"
      ]
     },
     "execution_count": 11,
     "metadata": {},
     "output_type": "execute_result"
    }
   ],
   "source": [
    "query = nt6.Query(\n",
    "    fields=[\"nif\", \"name\", \"LastName\", \"nameEmployee\", \"modified\"],\n",
    "    filterExp='this.modified >= \"2020-08-15\"'\n",
    ")\n",
    "client.get_employees(query=query)"
   ]
  },
  {
   "cell_type": "code",
   "execution_count": 6,
   "metadata": {},
   "outputs": [],
   "source": [
    "import json\n",
    "import pandas"
   ]
  },
  {
   "cell_type": "code",
   "execution_count": 15,
   "metadata": {
    "scrolled": true
   },
   "outputs": [
    {
     "data": {
      "text/plain": [
       "[{'_c_': 'Aritmetico',\n",
       "  'id': 7,\n",
       "  'name': 'BH',\n",
       "  'modifiedBy': 'Admin',\n",
       "  'modified': '2020-10-02T17:16:31.9580726-03:00',\n",
       "  'createdBy': 'Admin',\n",
       "  'created': '2020-10-02T16:59:37.9274946-03:00',\n",
       "  'useExpirationAndTransfer': True,\n",
       "  'isAdvanced': True,\n",
       "  'order': 5,\n",
       "  'timeFormat': False,\n",
       "  'color': '007373',\n",
       "  'rev': 111,\n",
       "  'visible': False,\n",
       "  'internalName': 'BH',\n",
       "  'availMode': False,\n",
       "  'maxReachedPlani': 'allow',\n",
       "  'iniVal': 0,\n",
       "  'limit': False,\n",
       "  'eachDay': '_this = S.Min.Trabajadas - A.Value.RBH;\\n',\n",
       "  'multiName': {'es-ES': 'BH'},\n",
       "  'activators': [],\n",
       "  'maxReachedPlaniSource': [{'data': 'allow', 'label': 'Permitir'},\n",
       "   {'data': 'disallow', 'label': 'No permitir'},\n",
       "   {'data': 'ask', 'label': 'Preguntar'}],\n",
       "  'nodesSource': [],\n",
       "  'cierres': {'definition': 'free;2020-10-02',\n",
       "   'days': [{'start': '2020-10-02T00:00:00.0000000',\n",
       "     'end': '2020-10-02T00:00:00.0000000'}],\n",
       "   'exceptions': []}}]"
      ]
     },
     "execution_count": 15,
     "metadata": {},
     "output_type": "execute_result"
    }
   ],
   "source": [
    "arit = client.get_element_def(container=\"Aritmetico\", elements=[7])\n",
    "exception = {\n",
    "    \"date\": \"2030-12-31T00:00:00-03:00\",\n",
    "    \"deleted\": False,\n",
    "    \"iniVal\": 0,\n",
    "    \"hasIniVal\": True,\n",
    "    \"hasMaxPosTra\": False,\n",
    "    \"hasMaxNegTra\": False,\n",
    "    \"hasMaxPosVal\": False,\n",
    "    \"hasMaxNegVal\": False,\n",
    "    \"hasExpires\": False\n",
    "}\n",
    "arit"
   ]
  },
  {
   "cell_type": "code",
   "execution_count": 16,
   "metadata": {},
   "outputs": [
    {
     "data": {
      "text/plain": [
       "[{'_c_': 'Aritmetico',\n",
       "  'id': 7,\n",
       "  'name': 'BH',\n",
       "  'modifiedBy': 'Admin',\n",
       "  'modified': '2020-10-02T17:16:31.9580726-03:00',\n",
       "  'createdBy': 'Admin',\n",
       "  'created': '2020-10-02T16:59:37.9274946-03:00',\n",
       "  'useExpirationAndTransfer': True,\n",
       "  'isAdvanced': True,\n",
       "  'order': 5,\n",
       "  'timeFormat': False,\n",
       "  'color': '007373',\n",
       "  'rev': 111,\n",
       "  'visible': False,\n",
       "  'internalName': 'BH',\n",
       "  'availMode': False,\n",
       "  'maxReachedPlani': 'allow',\n",
       "  'iniVal': 0,\n",
       "  'limit': False,\n",
       "  'eachDay': '_this = S.Min.Trabajadas - A.Value.RBH;\\n',\n",
       "  'multiName': {'es-ES': 'BH'},\n",
       "  'activators': [],\n",
       "  'maxReachedPlaniSource': [{'data': 'allow', 'label': 'Permitir'},\n",
       "   {'data': 'disallow', 'label': 'No permitir'},\n",
       "   {'data': 'ask', 'label': 'Preguntar'}],\n",
       "  'nodesSource': [],\n",
       "  'cierres': {'definition': 'free;2020-10-02',\n",
       "   'days': [{'start': '2020-10-02T00:00:00.0000000',\n",
       "     'end': '2020-10-02T00:00:00.0000000'}],\n",
       "   'exceptions': [{'date': '2030-12-31T00:00:00-03:00',\n",
       "     'deleted': False,\n",
       "     'iniVal': 0,\n",
       "     'hasIniVal': True,\n",
       "     'hasMaxPosTra': False,\n",
       "     'hasMaxNegTra': False,\n",
       "     'hasMaxPosVal': False,\n",
       "     'hasMaxNegVal': False,\n",
       "     'hasExpires': False}]}}]"
      ]
     },
     "execution_count": 16,
     "metadata": {},
     "output_type": "execute_result"
    }
   ],
   "source": [
    "arit[0]['cierres']['exceptions'] = [exception]\n",
    "arit"
   ]
  },
  {
   "cell_type": "code",
   "execution_count": 17,
   "metadata": {},
   "outputs": [
    {
     "data": {
      "text/plain": [
       "[{'type': 6,\n",
       "  'dataObject': {'_c_': 'Aritmetico',\n",
       "   'id': 7,\n",
       "   'name': 'BH',\n",
       "   'modifiedBy': 'Admin',\n",
       "   'modified': '2020-10-02T17:18:37.9827907-03:00',\n",
       "   'createdBy': 'Admin',\n",
       "   'created': '2020-10-02T16:59:37.9274946-03:00',\n",
       "   'useExpirationAndTransfer': True,\n",
       "   'isAdvanced': True,\n",
       "   'order': 5,\n",
       "   'timeFormat': False,\n",
       "   'color': '007373',\n",
       "   'rev': 112,\n",
       "   'visible': False,\n",
       "   'internalName': 'BH',\n",
       "   'availMode': False,\n",
       "   'maxReachedPlani': 'allow',\n",
       "   'iniVal': 0,\n",
       "   'limit': False,\n",
       "   'eachDay': '_this = S.Min.Trabajadas - A.Value.RBH;\\n',\n",
       "   'multiName': {'es-ES': 'BH'},\n",
       "   'activators': [],\n",
       "   'maxReachedPlaniSource': [{'data': 'allow', 'label': 'Permitir'},\n",
       "    {'data': 'disallow', 'label': 'No permitir'},\n",
       "    {'data': 'ask', 'label': 'Preguntar'}],\n",
       "   'nodesSource': [],\n",
       "   'cierres': {'definition': 'free;2020-10-02',\n",
       "    'days': [{'start': '2020-10-02T00:00:00.0000000',\n",
       "      'end': '2020-10-02T00:00:00.0000000'}],\n",
       "    'exceptions': [{'date': '2030-12-31T00:00:00.0000000-03:00',\n",
       "      'deleted': False,\n",
       "      'basic': False,\n",
       "      'hasIniVal': True,\n",
       "      'iniVal': 0,\n",
       "      'hasMaxPosTra': False,\n",
       "      'hasMaxNegTra': False,\n",
       "      'hasMaxPosVal': False,\n",
       "      'hasMaxNegVal': False,\n",
       "      'hasExpires': False}]}},\n",
       "  'message': 'El elemento se ha modificado correctamente.',\n",
       "  'showActions': True}]"
      ]
     },
     "execution_count": 17,
     "metadata": {},
     "output_type": "execute_result"
    }
   ],
   "source": [
    "data = {\n",
    "    \"container\": \"Aritmetico\",\n",
    "    \"elements\": [7],\n",
    "    \"dataObj\": arit[0]\n",
    "}\n",
    "\n",
    "client.save_element(**data)"
   ]
  },
  {
   "cell_type": "code",
   "execution_count": null,
   "metadata": {},
   "outputs": [],
   "source": []
  }
 ],
 "metadata": {
  "kernelspec": {
   "display_name": "Python 3.8.2 64-bit",
   "language": "python",
   "name": "python38264bit4e4149a56a1f462db0e2e44967667e66"
  },
  "language_info": {
   "codemirror_mode": {
    "name": "ipython",
    "version": 3
   },
   "file_extension": ".py",
   "mimetype": "text/x-python",
   "name": "python",
   "nbconvert_exporter": "python",
   "pygments_lexer": "ipython3",
   "version": "3.8.5"
  }
 },
 "nbformat": 4,
 "nbformat_minor": 4
}
