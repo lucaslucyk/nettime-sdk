{
 "cells": [
  {
   "cell_type": "markdown",
   "metadata": {},
   "source": [
    "### Import module"
   ]
  },
  {
   "cell_type": "code",
   "execution_count": 83,
   "metadata": {},
   "outputs": [],
   "source": [
    "import nettime6 as nt6\n",
    "from importlib import reload"
   ]
  },
  {
   "cell_type": "markdown",
   "metadata": {},
   "source": [
    "### Client settings"
   ]
  },
  {
   "cell_type": "code",
   "execution_count": 2,
   "metadata": {},
   "outputs": [],
   "source": [
    "URL = 'http://172.18.4.57:6091'\n",
    "USERNAME = 'Argentina'\n",
    "PWD = 'Spec@1234'"
   ]
  },
  {
   "cell_type": "markdown",
   "metadata": {},
   "source": [
    "### Create a client"
   ]
  },
  {
   "cell_type": "code",
   "execution_count": 98,
   "metadata": {},
   "outputs": [
    {
     "data": {
      "text/plain": [
       "True"
      ]
     },
     "execution_count": 98,
     "metadata": {},
     "output_type": "execute_result"
    }
   ],
   "source": [
    "reload(nt6)\n",
    "client = nt6.Client(url=URL, username=USERNAME, pwd=PWD)\n",
    "client.is_connected"
   ]
  },
  {
   "cell_type": "markdown",
   "metadata": {},
   "source": [
    "### Get employees with summary method"
   ]
  },
  {
   "cell_type": "code",
   "execution_count": 86,
   "metadata": {
    "scrolled": true
   },
   "outputs": [
    {
     "data": {
      "text/plain": [
       "{'total': 1, 'items': [{'id': 8, 'nif': '12345678'}]}"
      ]
     },
     "execution_count": 86,
     "metadata": {},
     "output_type": "execute_result"
    }
   ],
   "source": [
    "client.get_employees()"
   ]
  },
  {
   "cell_type": "markdown",
   "metadata": {},
   "source": [
    "### Filter in response (frontend)"
   ]
  },
  {
   "cell_type": "code",
   "execution_count": 87,
   "metadata": {
    "scrolled": true
   },
   "outputs": [
    {
     "data": {
      "text/plain": [
       "{'total': 1, 'items': [{'id': 8, 'nif': '12345678'}]}"
      ]
     },
     "execution_count": 87,
     "metadata": {},
     "output_type": "execute_result"
    }
   ],
   "source": [
    "client.get_employees(search=\"1234\")"
   ]
  },
  {
   "cell_type": "markdown",
   "metadata": {},
   "source": [
    "### Specify fields"
   ]
  },
  {
   "cell_type": "code",
   "execution_count": 88,
   "metadata": {
    "scrolled": true
   },
   "outputs": [
    {
     "data": {
      "text/plain": [
       "{'total': 1,\n",
       " 'items': [{'nif': '12345678',\n",
       "   'Apellidos_Nombre': 'Spec, Argentina',\n",
       "   'Province': 'CABA',\n",
       "   'birthdate': '1980-01-04T00:00:00.0000000+01:00'}]}"
      ]
     },
     "execution_count": 88,
     "metadata": {},
     "output_type": "execute_result"
    }
   ],
   "source": [
    "query = nt6.Query(fields=[\"nif\", \"Apellidos_Nombre\", \"Province\", \"birthdate\"])\n",
    "client.get_employees(query=query)"
   ]
  },
  {
   "cell_type": "markdown",
   "metadata": {},
   "source": [
    "### Filter in backend with nettime filter"
   ]
  },
  {
   "cell_type": "code",
   "execution_count": 89,
   "metadata": {},
   "outputs": [
    {
     "data": {
      "text/plain": [
       "{'total': 1,\n",
       " 'items': [{'nif': '12345678',\n",
       "   'Apellidos_Nombre': 'Spec, Argentina',\n",
       "   'Province': 'CABA',\n",
       "   'birthdate': '1980-01-04T00:00:00.0000000+01:00'}]}"
      ]
     },
     "execution_count": 89,
     "metadata": {},
     "output_type": "execute_result"
    }
   ],
   "source": [
    "query = nt6.Query(\n",
    "    fields=[\"nif\", \"Apellidos_Nombre\", \"Province\", \"birthdate\"],\n",
    "    filterExp='Contains(this.nif, \"12345678\")'\n",
    ")\n",
    "client.get_employees(query=query)"
   ]
  },
  {
   "cell_type": "markdown",
   "metadata": {},
   "source": [
    "### Fields definition"
   ]
  },
  {
   "cell_type": "code",
   "execution_count": 110,
   "metadata": {},
   "outputs": [
    {
     "name": "stdout",
     "output_type": "stream",
     "text": [
      "Total: 416\n"
     ]
    },
    {
     "data": {
      "text/plain": [
       "[{'id': 30,\n",
       "  'name': 'id',\n",
       "  'displayName': 'Id',\n",
       "  'expr': 'this.id',\n",
       "  'type': 'int',\n",
       "  'align': 2,\n",
       "  'sortable': False,\n",
       "  'width': 0,\n",
       "  'group': '',\n",
       "  'numTempOperators': 0},\n",
       " {'id': 31,\n",
       "  'name': 'name',\n",
       "  'displayName': 'Clave',\n",
       "  'expr': 'this.name',\n",
       "  'type': 'String',\n",
       "  'align': 2,\n",
       "  'sortable': True,\n",
       "  'width': 20,\n",
       "  'group': 'Datos personales',\n",
       "  'numTempOperators': 0}]"
      ]
     },
     "execution_count": 110,
     "metadata": {},
     "output_type": "execute_result"
    }
   ],
   "source": [
    "fields = client.get_fields(\"Persona\")\n",
    "print('Total:', fields.get('total'))\n",
    "fields.get('items')[:2]"
   ]
  },
  {
   "cell_type": "markdown",
   "metadata": {},
   "source": [
    "### Fields definition filtering Properties only"
   ]
  },
  {
   "cell_type": "code",
   "execution_count": 109,
   "metadata": {},
   "outputs": [
    {
     "name": "stdout",
     "output_type": "stream",
     "text": [
      "Total: 409\n"
     ]
    },
    {
     "data": {
      "text/plain": [
       "[{'id': 30,\n",
       "  'name': 'id',\n",
       "  'displayName': 'Id',\n",
       "  'expr': 'this.id',\n",
       "  'type': 'int',\n",
       "  'align': 2,\n",
       "  'sortable': False,\n",
       "  'width': 0,\n",
       "  'group': '',\n",
       "  'numTempOperators': 0},\n",
       " {'id': 31,\n",
       "  'name': 'name',\n",
       "  'displayName': 'Clave',\n",
       "  'expr': 'this.name',\n",
       "  'type': 'String',\n",
       "  'align': 2,\n",
       "  'sortable': True,\n",
       "  'width': 20,\n",
       "  'group': 'Datos personales',\n",
       "  'numTempOperators': 0}]"
      ]
     },
     "execution_count": 109,
     "metadata": {},
     "output_type": "execute_result"
    }
   ],
   "source": [
    "fields_filter = client.get_fields(\"Persona\", filterFields=True)\n",
    "print('Total:', fields_filter.get('total'))\n",
    "fields_filter.get('items')[:2]"
   ]
  },
  {
   "cell_type": "markdown",
   "metadata": {},
   "source": [
    "### Get incidencias, and update employee"
   ]
  },
  {
   "cell_type": "code",
   "execution_count": 113,
   "metadata": {},
   "outputs": [],
   "source": [
    "incidencias = []\n",
    "for incidencia in client.get_elements(\"Incidencia\").get('items'):\n",
    "    incidencias.append({\"id\": incidencia.get(\"id\")})\n",
    "    \n",
    "data = {\n",
    "    \"container\": \"Persona\",\n",
    "    \"elements\": [8],\n",
    "    \"dataObj\": {\n",
    "        \"TimeTypesEmployee\": incidencias\n",
    "    }\n",
    "}\n",
    "\n",
    "client.container_save(**data)"
   ]
  },
  {
   "cell_type": "markdown",
   "metadata": {},
   "source": [
    "##### To add periods, use the key \"validity\" with a list of elements like:\n",
    "```python\n",
    "{\n",
    "    \"id\": incidencia.get(\"id\"),\n",
    "    \"validity\": [{\n",
    "        \"end\": \"2040-12-31T00:00:00-03:00\",\n",
    "        \"start\": \"2004-01-01T00:00:00-03:00\",\n",
    "    }]\n",
    "}\n",
    "```"
   ]
  },
  {
   "cell_type": "markdown",
   "metadata": {},
   "source": [
    "### Get elements definition"
   ]
  },
  {
   "cell_type": "code",
   "execution_count": 94,
   "metadata": {
    "scrolled": true
   },
   "outputs": [
    {
     "data": {
      "text/plain": [
       "{'id': 8,\n",
       " '_c_': '',\n",
       " 'created': '0001-01-01T00:00:00.0000000',\n",
       " 'modified': '0001-01-01T00:00:00.0000000',\n",
       " 'name': '8',\n",
       " 'rev': 0,\n",
       " 'years': [{'Year': 2020, 'days': {}},\n",
       "  {'Year': 2021, 'days': {}},\n",
       "  {'Year': 2019, 'days': {}}],\n",
       " 'Cycles': [],\n",
       " 'Calendars': [{'id': 2,\n",
       "   'name': 'calendar1',\n",
       "   'Validity': [{'start': '2020-01-01T00:00:00.0000000',\n",
       "     'end': '2020-06-30T00:00:00.0000000'}]},\n",
       "  {'id': 5, 'name': 'ARG'}],\n",
       " 'nodesSource': [],\n",
       " 'multiName': {'es-ES': '8'}}"
      ]
     },
     "execution_count": 94,
     "metadata": {},
     "output_type": "execute_result"
    }
   ],
   "source": [
    "employee = client.get_element_def(container=\"Persona\", elements=[8])\n",
    "employee = employee[0]\n",
    "\n",
    "# show calendars\n",
    "employee.get('Calendar')"
   ]
  },
  {
   "cell_type": "markdown",
   "metadata": {},
   "source": [
    "### Get default values in create form"
   ]
  },
  {
   "cell_type": "code",
   "execution_count": 95,
   "metadata": {},
   "outputs": [
    {
     "data": {
      "text/plain": [
       "{'_c_': 'Jornada',\n",
       " 'id': -1,\n",
       " 'modified': '0001-01-01T00:00:00.0000000',\n",
       " 'created': '0001-01-01T00:00:00.0000000',\n",
       " 'color': '808080',\n",
       " 'rev': 0,\n",
       " 'minutosCortesia': 0,\n",
       " 'minutosPenalizacion': 0,\n",
       " 'totalTeorico': 480,\n",
       " 'minutoFinal': 2880,\n",
       " 'minutosRetraso': 0,\n",
       " 'resultados': [],\n",
       " 'multiName': {},\n",
       " 'nodesSource': [],\n",
       " 'incidencias': [],\n",
       " 'baObligada': [],\n",
       " 'baFlexible': [],\n",
       " 'pausas': [],\n",
       " 'intervalSource': [{'data': 'flex', 'label': 'Bloque flexible'},\n",
       "  {'data': 'oblig', 'label': 'Bloque obligatorio'},\n",
       "  {'data': 'all', 'label': 'Toda la jornada'},\n",
       "  {'data': 'bloque', 'label': 'Bloque del grupo de incidencia'},\n",
       "  {'data': 'relative', 'label': 'Relativo a...', 'state': 'relative'},\n",
       "  {'data': 'delete', 'label': 'Sin validez'}],\n",
       " 'ShifttimeTypesMassIdinci': [],\n",
       " 'relativeSource': [{'data': 'inishift', 'label': 'Inicio de la jornada'},\n",
       "  {'data': 'firstflexmin', 'label': 'Inicio bloque flexible'},\n",
       "  {'data': 'firstoblmin', 'label': 'Inicio bloque obligatorio'},\n",
       "  {'data': 'endshift', 'label': 'Final de la jornada'},\n",
       "  {'data': 'endflex', 'label': 'Final bloque flexible'},\n",
       "  {'data': 'endobli', 'label': 'Final bloque obligatorio'}]}"
      ]
     },
     "execution_count": 95,
     "metadata": {},
     "output_type": "execute_result"
    }
   ],
   "source": [
    "client.get_create_form(\"Jornada\")"
   ]
  },
  {
   "cell_type": "markdown",
   "metadata": {},
   "source": [
    "### Get dataObj for duplicate element"
   ]
  },
  {
   "cell_type": "code",
   "execution_count": 101,
   "metadata": {},
   "outputs": [
    {
     "data": {
      "text/plain": [
       "{'_c_': 'Arbol',\n",
       " 'id': -1,\n",
       " 'name': 'ARGENTINA',\n",
       " 'rev': 0,\n",
       " 'createdBy': 'Admin',\n",
       " 'created': '2020-06-29T09:37:18.7470000',\n",
       " 'modified': '0001-01-01T00:00:00.0000000',\n",
       " 'color': '7D7D7D',\n",
       " 'allowedContainerNames': 'Empleados',\n",
       " 'order': 0,\n",
       " 'internalName': 'ARGENTINA',\n",
       " 'idNodeParent': 1,\n",
       " 'baAllowedContainers': [14],\n",
       " 'nodesSource': [],\n",
       " 'nodes': [],\n",
       " 'multiName': {'es-ES': 'ARGENTINA'}}"
      ]
     },
     "execution_count": 101,
     "metadata": {},
     "output_type": "execute_result"
    }
   ],
   "source": [
    "client.get_for_duplicate(container=\"Arbol\", element=9)\n",
    "# edit and then use client.container_save() method"
   ]
  },
  {
   "cell_type": "markdown",
   "metadata": {},
   "source": [
    "### Disconnect"
   ]
  },
  {
   "cell_type": "code",
   "execution_count": 114,
   "metadata": {},
   "outputs": [
    {
     "data": {
      "text/plain": [
       "False"
      ]
     },
     "execution_count": 114,
     "metadata": {},
     "output_type": "execute_result"
    }
   ],
   "source": [
    "client.disconnect()\n",
    "client.is_connected"
   ]
  }
 ],
 "metadata": {
  "kernelspec": {
   "display_name": "Python 3.8.2 64-bit",
   "language": "python",
   "name": "python38264bit4e4149a56a1f462db0e2e44967667e66"
  },
  "language_info": {
   "codemirror_mode": {
    "name": "ipython",
    "version": 3
   },
   "file_extension": ".py",
   "mimetype": "text/x-python",
   "name": "python",
   "nbconvert_exporter": "python",
   "pygments_lexer": "ipython3",
   "version": "3.8.2"
  }
 },
 "nbformat": 4,
 "nbformat_minor": 4
}
