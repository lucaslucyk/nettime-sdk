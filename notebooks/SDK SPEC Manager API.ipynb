{
 "cells": [
  {
   "cell_type": "markdown",
   "metadata": {},
   "source": [
    "# SPEC Utils\n",
    "sdks for SPEC, SA and third applications"
   ]
  },
  {
   "cell_type": "markdown",
   "metadata": {},
   "source": [
    "## Install"
   ]
  },
  {
   "cell_type": "markdown",
   "metadata": {},
   "source": [
    "Can use: \n",
    "```shell\n",
    "pip install spec-utils\n",
    "```\n",
    "Or:\n",
    "\n",
    "```shell\n",
    "python -m pip install spec-utils\n",
    "```"
   ]
  },
  {
   "cell_type": "markdown",
   "metadata": {},
   "source": [
    "## SPEC Manager API"
   ]
  },
  {
   "cell_type": "markdown",
   "metadata": {},
   "source": [
    "### Import module"
   ]
  },
  {
   "cell_type": "code",
   "execution_count": null,
   "metadata": {},
   "outputs": [],
   "source": [
    "from spec_utils import specmanagerapi as smapi"
   ]
  },
  {
   "cell_type": "markdown",
   "metadata": {},
   "source": [
    "#### Dev only *"
   ]
  },
  {
   "cell_type": "code",
   "execution_count": 1,
   "metadata": {},
   "outputs": [],
   "source": [
    "import sys, os\n",
    "import datetime\n",
    "sys.path.append(os.path.join(os.getcwd(), '..', 'spec_utils'))"
   ]
  },
  {
   "cell_type": "code",
   "execution_count": 99,
   "metadata": {
    "collapsed": true
   },
   "outputs": [
    {
     "data": {
      "text/plain": [
       "<module 'specmanagerapi' from 'D:\\\\Documentos\\\\Programming\\\\Python\\\\spec\\\\sdks\\\\notebooks\\\\..\\\\spec_utils\\\\specmanagerapi.py'>"
      ]
     },
     "execution_count": 99,
     "metadata": {},
     "output_type": "execute_result"
    }
   ],
   "source": [
    "from importlib import reload\n",
    "import specmanagerapi as smapi\n",
    "reload(smapi)"
   ]
  },
  {
   "cell_type": "markdown",
   "metadata": {},
   "source": [
    "### Client settings"
   ]
  },
  {
   "cell_type": "code",
   "execution_count": 115,
   "metadata": {},
   "outputs": [],
   "source": [
    "URL = 'http://localhost:5050/api/'\n",
    "USERNAME = 'Admin'\n",
    "PWD = 'spec'"
   ]
  },
  {
   "cell_type": "markdown",
   "metadata": {},
   "source": [
    "### Create a client"
   ]
  },
  {
   "cell_type": "code",
   "execution_count": 101,
   "metadata": {},
   "outputs": [
    {
     "data": {
      "text/plain": [
       "True"
      ]
     },
     "execution_count": 101,
     "metadata": {},
     "output_type": "execute_result"
    }
   ],
   "source": [
    "client = smapi.Client(url=URL, username=USERNAME, pwd=PWD)\n",
    "client.is_connected"
   ]
  },
  {
   "cell_type": "markdown",
   "metadata": {},
   "source": [
    "### Get Clockings"
   ]
  },
  {
   "cell_type": "code",
   "execution_count": 124,
   "metadata": {},
   "outputs": [
    {
     "data": {
      "text/plain": [
       "{'ok': True,\n",
       " 'error': None,\n",
       " 'response': {'count': 320,\n",
       "  'pages': 32,\n",
       "  'clockings': [{'id': 72493,\n",
       "    'employee': {'code': 774,\n",
       "     'mat': '774',\n",
       "     'card': '02812635',\n",
       "     'centerCode': 'AR',\n",
       "     'centerDesc': 'DEMO',\n",
       "     'firstname': 'Diego Emiliano',\n",
       "     'lastName': 'MORILLO',\n",
       "     'dni': '26689122',\n",
       "     'company': '',\n",
       "     'optionalData': []},\n",
       "    'type': 71,\n",
       "    'card': '02812635',\n",
       "    'tmp': '20180430030408',\n",
       "    'result': 66,\n",
       "    'offline': 0,\n",
       "    'gl': 34,\n",
       "    'reader': 66,\n",
       "    'aux': '0000',\n",
       "    'value': 0,\n",
       "    'terminal': 23,\n",
       "    'version': 0},\n",
       "   {'id': 72494,\n",
       "    'employee': {'code': 774,\n",
       "     'mat': '774',\n",
       "     'card': '02812635',\n",
       "     'centerCode': 'AR',\n",
       "     'centerDesc': 'DEMO',\n",
       "     'firstname': 'Diego Emiliano',\n",
       "     'lastName': 'MORILLO',\n",
       "     'dni': '26689122',\n",
       "     'company': '',\n",
       "     'optionalData': []},\n",
       "    'type': 71,\n",
       "    'card': '02812635',\n",
       "    'tmp': '20180430031111',\n",
       "    'result': 66,\n",
       "    'offline': 0,\n",
       "    'gl': 34,\n",
       "    'reader': 66,\n",
       "    'aux': '0000',\n",
       "    'value': 0,\n",
       "    'terminal': 23,\n",
       "    'version': 0},\n",
       "   {'id': 72496,\n",
       "    'employee': {'code': 239,\n",
       "     'mat': '239',\n",
       "     'card': '02536953',\n",
       "     'centerCode': 'AR',\n",
       "     'centerDesc': 'DEMO',\n",
       "     'firstname': 'Ignacio Matías',\n",
       "     'lastName': 'CAMBLONG',\n",
       "     'dni': '34318327',\n",
       "     'company': '',\n",
       "     'optionalData': []},\n",
       "    'type': 71,\n",
       "    'card': '02536953',\n",
       "    'tmp': '20180430032139',\n",
       "    'result': 66,\n",
       "    'offline': 0,\n",
       "    'gl': 18,\n",
       "    'reader': 66,\n",
       "    'aux': '0000',\n",
       "    'value': 0,\n",
       "    'terminal': 11,\n",
       "    'version': 0},\n",
       "   {'id': 72497,\n",
       "    'employee': {'code': 239,\n",
       "     'mat': '239',\n",
       "     'card': '02536953',\n",
       "     'centerCode': 'AR',\n",
       "     'centerDesc': 'DEMO',\n",
       "     'firstname': 'Ignacio Matías',\n",
       "     'lastName': 'CAMBLONG',\n",
       "     'dni': '34318327',\n",
       "     'company': '',\n",
       "     'optionalData': []},\n",
       "    'type': 71,\n",
       "    'card': '02536953',\n",
       "    'tmp': '20180430032141',\n",
       "    'result': 66,\n",
       "    'offline': 0,\n",
       "    'gl': 18,\n",
       "    'reader': 66,\n",
       "    'aux': '0000',\n",
       "    'value': 0,\n",
       "    'terminal': 11,\n",
       "    'version': 0},\n",
       "   {'id': 72498,\n",
       "    'employee': {'code': 692,\n",
       "     'mat': '00692',\n",
       "     'card': '04922689',\n",
       "     'centerCode': 'AR',\n",
       "     'centerDesc': 'DEMO',\n",
       "     'firstname': 'Diana Lorena',\n",
       "     'lastName': 'FUENTES CEPEDA',\n",
       "     'dni': '36900810',\n",
       "     'company': '',\n",
       "     'optionalData': []},\n",
       "    'type': 71,\n",
       "    'card': '04922689',\n",
       "    'tmp': '20180430032945',\n",
       "    'result': 66,\n",
       "    'offline': 0,\n",
       "    'gl': 51,\n",
       "    'reader': 66,\n",
       "    'aux': '0000',\n",
       "    'value': 0,\n",
       "    'terminal': 35,\n",
       "    'version': 0},\n",
       "   {'id': 72499,\n",
       "    'employee': {'code': 481,\n",
       "     'mat': '00481',\n",
       "     'card': '03737926',\n",
       "     'centerCode': 'AR',\n",
       "     'centerDesc': 'DEMO',\n",
       "     'firstname': 'Jorge Norberto',\n",
       "     'lastName': 'PISILLI',\n",
       "     'dni': '22630868',\n",
       "     'company': '',\n",
       "     'optionalData': [{'id': 1, 'value': 'prestamos'},\n",
       "      {'id': 2, 'value': 'global id'}]},\n",
       "    'type': 71,\n",
       "    'card': '03737926',\n",
       "    'tmp': '20180430033607',\n",
       "    'result': 66,\n",
       "    'offline': 0,\n",
       "    'gl': 18,\n",
       "    'reader': 66,\n",
       "    'aux': '0000',\n",
       "    'value': 0,\n",
       "    'terminal': 11,\n",
       "    'version': 0},\n",
       "   {'id': 72500,\n",
       "    'employee': {'code': 481,\n",
       "     'mat': '00481',\n",
       "     'card': '03737926',\n",
       "     'centerCode': 'AR',\n",
       "     'centerDesc': 'DEMO',\n",
       "     'firstname': 'Jorge Norberto',\n",
       "     'lastName': 'PISILLI',\n",
       "     'dni': '22630868',\n",
       "     'company': '',\n",
       "     'optionalData': [{'id': 1, 'value': 'prestamos'},\n",
       "      {'id': 2, 'value': 'global id'}]},\n",
       "    'type': 71,\n",
       "    'card': '03737926',\n",
       "    'tmp': '20180430033610',\n",
       "    'result': 66,\n",
       "    'offline': 0,\n",
       "    'gl': 18,\n",
       "    'reader': 66,\n",
       "    'aux': '0000',\n",
       "    'value': 0,\n",
       "    'terminal': 11,\n",
       "    'version': 0},\n",
       "   {'id': 72501,\n",
       "    'employee': {'code': 712,\n",
       "     'mat': '712',\n",
       "     'card': '04922630',\n",
       "     'centerCode': 'AR',\n",
       "     'centerDesc': 'DEMO',\n",
       "     'firstname': 'David Alberto',\n",
       "     'lastName': 'PICON',\n",
       "     'dni': '28706535',\n",
       "     'company': '',\n",
       "     'optionalData': []},\n",
       "    'type': 71,\n",
       "    'card': '04922630',\n",
       "    'tmp': '20180430034244',\n",
       "    'result': 66,\n",
       "    'offline': 0,\n",
       "    'gl': 34,\n",
       "    'reader': 66,\n",
       "    'aux': '0000',\n",
       "    'value': 0,\n",
       "    'terminal': 23,\n",
       "    'version': 0},\n",
       "   {'id': 72502,\n",
       "    'employee': {'code': 481,\n",
       "     'mat': '00481',\n",
       "     'card': '03737926',\n",
       "     'centerCode': 'AR',\n",
       "     'centerDesc': 'DEMO',\n",
       "     'firstname': 'Jorge Norberto',\n",
       "     'lastName': 'PISILLI',\n",
       "     'dni': '22630868',\n",
       "     'company': '',\n",
       "     'optionalData': [{'id': 1, 'value': 'prestamos'},\n",
       "      {'id': 2, 'value': 'global id'}]},\n",
       "    'type': 71,\n",
       "    'card': '03737926',\n",
       "    'tmp': '20180430050704',\n",
       "    'result': 66,\n",
       "    'offline': 0,\n",
       "    'gl': 49,\n",
       "    'reader': 66,\n",
       "    'aux': '0000',\n",
       "    'value': 0,\n",
       "    'terminal': 34,\n",
       "    'version': 0},\n",
       "   {'id': 72503,\n",
       "    'employee': {'code': 481,\n",
       "     'mat': '00481',\n",
       "     'card': '03737926',\n",
       "     'centerCode': 'AR',\n",
       "     'centerDesc': 'DEMO',\n",
       "     'firstname': 'Jorge Norberto',\n",
       "     'lastName': 'PISILLI',\n",
       "     'dni': '22630868',\n",
       "     'company': '',\n",
       "     'optionalData': [{'id': 1, 'value': 'prestamos'},\n",
       "      {'id': 2, 'value': 'global id'}]},\n",
       "    'type': 71,\n",
       "    'card': '03737926',\n",
       "    'tmp': '20180430050754',\n",
       "    'result': 66,\n",
       "    'offline': 0,\n",
       "    'gl': 18,\n",
       "    'reader': 66,\n",
       "    'aux': '0000',\n",
       "    'value': 0,\n",
       "    'terminal': 11,\n",
       "    'version': 0}]}}"
      ]
     },
     "execution_count": 124,
     "metadata": {},
     "output_type": "execute_result"
    }
   ],
   "source": [
    "client.get_clockings(\n",
    "    _type=\"contractor\",\n",
    "    _from=datetime.datetime(2018, 4, 1, 5, 6, 7),\n",
    "    _to=datetime.datetime(2018, 4, 30, 23, 59, 59),\n",
    "    fromHistory=True,\n",
    "    employeeDetail=True,\n",
    "    employeeData=[1, 2], # employee optional data\n",
    "    pageSize=10\n",
    ")"
   ]
  },
  {
   "cell_type": "markdown",
   "metadata": {},
   "source": [
    "### Get Contractor Clockings with specific method"
   ]
  },
  {
   "cell_type": "code",
   "execution_count": 122,
   "metadata": {},
   "outputs": [
    {
     "data": {
      "text/plain": [
       "{'ok': True,\n",
       " 'error': None,\n",
       " 'response': {'count': 320,\n",
       "  'pages': 32,\n",
       "  'clockings': [{'id': 72493,\n",
       "    'employee': 774,\n",
       "    'type': 71,\n",
       "    'card': '02812635',\n",
       "    'tmp': '20180430030408',\n",
       "    'result': 66,\n",
       "    'offline': 0,\n",
       "    'gl': 34,\n",
       "    'reader': 66,\n",
       "    'aux': '0000',\n",
       "    'value': 0,\n",
       "    'terminal': 23,\n",
       "    'version': 0},\n",
       "   {'id': 72494,\n",
       "    'employee': 774,\n",
       "    'type': 71,\n",
       "    'card': '02812635',\n",
       "    'tmp': '20180430031111',\n",
       "    'result': 66,\n",
       "    'offline': 0,\n",
       "    'gl': 34,\n",
       "    'reader': 66,\n",
       "    'aux': '0000',\n",
       "    'value': 0,\n",
       "    'terminal': 23,\n",
       "    'version': 0},\n",
       "   {'id': 72496,\n",
       "    'employee': 239,\n",
       "    'type': 71,\n",
       "    'card': '02536953',\n",
       "    'tmp': '20180430032139',\n",
       "    'result': 66,\n",
       "    'offline': 0,\n",
       "    'gl': 18,\n",
       "    'reader': 66,\n",
       "    'aux': '0000',\n",
       "    'value': 0,\n",
       "    'terminal': 11,\n",
       "    'version': 0},\n",
       "   {'id': 72497,\n",
       "    'employee': 239,\n",
       "    'type': 71,\n",
       "    'card': '02536953',\n",
       "    'tmp': '20180430032141',\n",
       "    'result': 66,\n",
       "    'offline': 0,\n",
       "    'gl': 18,\n",
       "    'reader': 66,\n",
       "    'aux': '0000',\n",
       "    'value': 0,\n",
       "    'terminal': 11,\n",
       "    'version': 0},\n",
       "   {'id': 72498,\n",
       "    'employee': 692,\n",
       "    'type': 71,\n",
       "    'card': '04922689',\n",
       "    'tmp': '20180430032945',\n",
       "    'result': 66,\n",
       "    'offline': 0,\n",
       "    'gl': 51,\n",
       "    'reader': 66,\n",
       "    'aux': '0000',\n",
       "    'value': 0,\n",
       "    'terminal': 35,\n",
       "    'version': 0},\n",
       "   {'id': 72499,\n",
       "    'employee': 481,\n",
       "    'type': 71,\n",
       "    'card': '03737926',\n",
       "    'tmp': '20180430033607',\n",
       "    'result': 66,\n",
       "    'offline': 0,\n",
       "    'gl': 18,\n",
       "    'reader': 66,\n",
       "    'aux': '0000',\n",
       "    'value': 0,\n",
       "    'terminal': 11,\n",
       "    'version': 0},\n",
       "   {'id': 72500,\n",
       "    'employee': 481,\n",
       "    'type': 71,\n",
       "    'card': '03737926',\n",
       "    'tmp': '20180430033610',\n",
       "    'result': 66,\n",
       "    'offline': 0,\n",
       "    'gl': 18,\n",
       "    'reader': 66,\n",
       "    'aux': '0000',\n",
       "    'value': 0,\n",
       "    'terminal': 11,\n",
       "    'version': 0},\n",
       "   {'id': 72501,\n",
       "    'employee': 712,\n",
       "    'type': 71,\n",
       "    'card': '04922630',\n",
       "    'tmp': '20180430034244',\n",
       "    'result': 66,\n",
       "    'offline': 0,\n",
       "    'gl': 34,\n",
       "    'reader': 66,\n",
       "    'aux': '0000',\n",
       "    'value': 0,\n",
       "    'terminal': 23,\n",
       "    'version': 0},\n",
       "   {'id': 72502,\n",
       "    'employee': 481,\n",
       "    'type': 71,\n",
       "    'card': '03737926',\n",
       "    'tmp': '20180430050704',\n",
       "    'result': 66,\n",
       "    'offline': 0,\n",
       "    'gl': 49,\n",
       "    'reader': 66,\n",
       "    'aux': '0000',\n",
       "    'value': 0,\n",
       "    'terminal': 34,\n",
       "    'version': 0},\n",
       "   {'id': 72503,\n",
       "    'employee': 481,\n",
       "    'type': 71,\n",
       "    'card': '03737926',\n",
       "    'tmp': '20180430050754',\n",
       "    'result': 66,\n",
       "    'offline': 0,\n",
       "    'gl': 18,\n",
       "    'reader': 66,\n",
       "    'aux': '0000',\n",
       "    'value': 0,\n",
       "    'terminal': 11,\n",
       "    'version': 0}]}}"
      ]
     },
     "execution_count": 122,
     "metadata": {},
     "output_type": "execute_result"
    }
   ],
   "source": [
    "client.get_clockings_contractor(\n",
    "    _from=datetime.datetime(2018, 4, 1, 5, 6, 7),\n",
    "    _to=datetime.datetime(2018, 4, 30, 23, 59, 59),\n",
    "    fromHistory=True,\n",
    "    employeeDetail=False,\n",
    "    pageSize=10\n",
    ")"
   ]
  },
  {
   "cell_type": "markdown",
   "metadata": {},
   "source": [
    "### Import Employee"
   ]
  },
  {
   "cell_type": "markdown",
   "metadata": {},
   "source": [
    "#### Centers prepare"
   ]
  },
  {
   "cell_type": "code",
   "execution_count": 103,
   "metadata": {},
   "outputs": [],
   "source": [
    "centers=[{\n",
    "    \"center\": \"AR\",\n",
    "    \"dueDate\": datetime.date(2024, 12, 31)\n",
    "}, {\n",
    "    \"center\": \"150\",\n",
    "    \"dueDate\": datetime.date(2024, 12, 31)\n",
    "}]"
   ]
  },
  {
   "cell_type": "markdown",
   "metadata": {},
   "source": [
    "#### Send data"
   ]
  },
  {
   "cell_type": "code",
   "execution_count": 92,
   "metadata": {},
   "outputs": [
    {
     "data": {
      "text/plain": [
       "{'ok': True, 'error': None, 'response': 'Datos importados correctamente.'}"
      ]
     },
     "execution_count": 92,
     "metadata": {},
     "output_type": "execute_result"
    }
   ],
   "source": [
    "client.post_employee(\n",
    "    _type='encae',\n",
    "    code=273,\n",
    "    nif='204',\n",
    "    ss='20-20420420-9',\n",
    "    lastName='Doe',\n",
    "    firstName='John',\n",
    "    companyCode='spec',\n",
    "    companyName='SPEC, SA',\n",
    "    centers=centers\n",
    ")"
   ]
  },
  {
   "cell_type": "markdown",
   "metadata": {},
   "source": [
    "#### Import ENCAE employee"
   ]
  },
  {
   "cell_type": "code",
   "execution_count": 98,
   "metadata": {},
   "outputs": [
    {
     "data": {
      "text/plain": [
       "{'ok': True, 'error': None, 'response': 'Datos importados correctamente.'}"
      ]
     },
     "execution_count": 98,
     "metadata": {},
     "output_type": "execute_result"
    }
   ],
   "source": [
    "client.post_employee_encae(\n",
    "    code=273,\n",
    "    nif='204',\n",
    "    ss='20-20420420-9',\n",
    "    lastName='Doe',\n",
    "    firstName='John',\n",
    "    companyCode='spec',\n",
    "    companyName='SPEC, SA',\n",
    "    centers=centers\n",
    ")"
   ]
  },
  {
   "cell_type": "markdown",
   "metadata": {},
   "source": [
    "### Import employees from list"
   ]
  },
  {
   "cell_type": "markdown",
   "metadata": {},
   "source": [
    "#### Data prepare"
   ]
  },
  {
   "cell_type": "code",
   "execution_count": 119,
   "metadata": {},
   "outputs": [],
   "source": [
    "ed1 = {\n",
    "    \"_type\": 'encae',\n",
    "    \"code\": 273,\n",
    "    \"nif\": '204',\n",
    "    \"ss\": '20-20420420-9',\n",
    "    \"lastName\": 'Doe',\n",
    "    \"firstName\": 'John',\n",
    "    \"companyCode\": 'spec',\n",
    "    \"companyName\": 'SPEC, SA',\n",
    "    \"centers\": centers\n",
    "}\n",
    "ed2 = {\n",
    "    \"_type\": 'encae',\n",
    "    \"code\": 274,\n",
    "    \"nif\": '205',\n",
    "    \"ss\": '20-20420420-9',\n",
    "    \"lastName\": 'Lucyk',\n",
    "    \"firstName\": 'Lucas',\n",
    "    \"companyCode\": 'spec',\n",
    "    \"companyName\": 'SPEC, SA',\n",
    "    \"centers\": centers\n",
    "}"
   ]
  },
  {
   "cell_type": "markdown",
   "metadata": {},
   "source": [
    "#### Data send"
   ]
  },
  {
   "cell_type": "code",
   "execution_count": 120,
   "metadata": {},
   "outputs": [
    {
     "data": {
      "text/plain": [
       "{'ok': True, 'error': None, 'response': 'Datos importados correctamente.'}"
      ]
     },
     "execution_count": 120,
     "metadata": {},
     "output_type": "execute_result"
    }
   ],
   "source": [
    "client.post_employees(employeeData=[ed1, ed2])"
   ]
  },
  {
   "cell_type": "code",
   "execution_count": null,
   "metadata": {},
   "outputs": [],
   "source": []
  }
 ],
 "metadata": {
  "kernelspec": {
   "display_name": "Python 3.8.2 64-bit",
   "language": "python",
   "name": "python38264bit4e4149a56a1f462db0e2e44967667e66"
  },
  "language_info": {
   "codemirror_mode": {
    "name": "ipython",
    "version": 3
   },
   "file_extension": ".py",
   "mimetype": "text/x-python",
   "name": "python",
   "nbconvert_exporter": "python",
   "pygments_lexer": "ipython3",
   "version": "3.8.5"
  }
 },
 "nbformat": 4,
 "nbformat_minor": 4
}
